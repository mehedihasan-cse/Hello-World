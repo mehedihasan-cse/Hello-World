{
  "cells": [
    {
      "cell_type": "markdown",
      "metadata": {
        "id": "view-in-github",
        "colab_type": "text"
      },
      "source": [
        "<a href=\"https://colab.research.google.com/github/mehedi2535/Hello-World/blob/main/python_Practice.ipynb\" target=\"_parent\"><img src=\"https://colab.research.google.com/assets/colab-badge.svg\" alt=\"Open In Colab\"/></a>"
      ]
    },
    {
      "cell_type": "code",
      "execution_count": null,
      "metadata": {
        "id": "OXeh-QHHzK4d",
        "colab": {
          "base_uri": "https://localhost:8080/"
        },
        "outputId": "841cb745-90a7-4bd6-a776-d9edfd3828f3"
      },
      "outputs": [
        {
          "output_type": "stream",
          "name": "stdout",
          "text": [
            " Hello World\n"
          ]
        }
      ],
      "source": [
        "print(\" Hello World\")"
      ]
    },
    {
      "cell_type": "code",
      "source": [
        "print(\"Hello\")"
      ],
      "metadata": {
        "id": "5KElJgvO4gWk",
        "colab": {
          "base_uri": "https://localhost:8080/"
        },
        "outputId": "e4e85c20-3ae3-483f-d73d-2067b13b5251"
      },
      "execution_count": null,
      "outputs": [
        {
          "output_type": "stream",
          "name": "stdout",
          "text": [
            "Hello\n"
          ]
        }
      ]
    },
    {
      "cell_type": "code",
      "execution_count": null,
      "metadata": {
        "id": "qqT2Gk5az4WA",
        "colab": {
          "base_uri": "https://localhost:8080/"
        },
        "outputId": "792bf223-5167-4e3f-d6c6-da8a3bf3a427"
      },
      "outputs": [
        {
          "output_type": "stream",
          "name": "stdout",
          "text": [
            "32\n"
          ]
        }
      ],
      "source": [
        "#variables\n",
        "a = 20\n",
        "b = 12\n",
        "\n",
        "print(a+b)\n"
      ]
    },
    {
      "cell_type": "code",
      "execution_count": null,
      "metadata": {
        "id": "1Ujjrj5C0Wih",
        "colab": {
          "base_uri": "https://localhost:8080/"
        },
        "outputId": "273b58c8-ad89-4f06-c622-5ee70af36e7f"
      },
      "outputs": [
        {
          "output_type": "stream",
          "name": "stdout",
          "text": [
            "-85\n"
          ]
        }
      ],
      "source": [
        "x = 14\n",
        "y = 99\n",
        "\n",
        "print(x-y)"
      ]
    },
    {
      "cell_type": "code",
      "execution_count": null,
      "metadata": {
        "id": "3_YADAXg01f-",
        "colab": {
          "base_uri": "https://localhost:8080/"
        },
        "outputId": "4cace1c5-532d-4429-ab12-f60fb43b22e8"
      },
      "outputs": [
        {
          "output_type": "stream",
          "name": "stdout",
          "text": [
            "Mehedi Hasan Gazipur,Dhaka\n"
          ]
        }
      ],
      "source": [
        "name = \"Mehedi Hasan\"\n",
        "address = \"Gazipur,Dhaka\"\n",
        "\n",
        "print(name, address)"
      ]
    },
    {
      "cell_type": "code",
      "execution_count": null,
      "metadata": {
        "id": "CniAnEjV13Pm"
      },
      "outputs": [],
      "source": [
        "#data types\n",
        "firstNum = 10\n",
        "secondNum = input(\" Enter a number:\")\n",
        "\n",
        "print(\"Multification:\", firstNum * int(secondNum)) #typecasting"
      ]
    },
    {
      "cell_type": "code",
      "source": [
        "# firstP = 34\n",
        "# secondP = input(\"Enter a number:\")\n",
        "\n",
        "# print(\"Sum:\", firstP * int(secondP))"
      ],
      "metadata": {
        "id": "Bolz_vUgx1Zo"
      },
      "execution_count": null,
      "outputs": []
    },
    {
      "cell_type": "code",
      "source": [
        "Num1= \"mun\"\n",
        "Num2 = input(\"Enter any digit:\")\n",
        "print(\"Sum:\",Num1 + Num2)"
      ],
      "metadata": {
        "id": "uBWcLPzXnhzc",
        "colab": {
          "base_uri": "https://localhost:8080/"
        },
        "outputId": "0e37f227-546b-48d2-d24c-acb807feec5b"
      },
      "execution_count": null,
      "outputs": [
        {
          "output_type": "stream",
          "name": "stdout",
          "text": [
            "Enter any digit:55\n",
            "Sum: mun55\n"
          ]
        }
      ]
    },
    {
      "cell_type": "code",
      "execution_count": null,
      "metadata": {
        "id": "krPEuwE_1fOg"
      },
      "outputs": [],
      "source": [
        "#operators\n",
        "#arithmetic : +,-,/,*\n",
        "#comparator : <,>,<=,>=\n",
        "#logical: and, or, not"
      ]
    },
    {
      "cell_type": "code",
      "execution_count": null,
      "metadata": {
        "id": "iq2Yrcip4JrJ",
        "colab": {
          "base_uri": "https://localhost:8080/"
        },
        "outputId": "a5ff8c78-e89e-4f6c-fd1f-cfce760cc1c0"
      },
      "outputs": [
        {
          "output_type": "stream",
          "name": "stdout",
          "text": [
            "Enter your age: 56\n",
            "senior\n"
          ]
        }
      ],
      "source": [
        "#conditional statement\n",
        "#condition #statement\n",
        "\n",
        "age = input(\"Enter your age: \")\n",
        "\n",
        "if int(age) <= 30:\n",
        "  print(\"junior\")\n",
        "else:\n",
        "   print(\"senior\")"
      ]
    },
    {
      "cell_type": "code",
      "execution_count": null,
      "metadata": {
        "id": "3sH_jwyNStjW",
        "colab": {
          "base_uri": "https://localhost:8080/"
        },
        "outputId": "b77d5357-6ade-4cd4-9d28-9c6f70a8d38b"
      },
      "outputs": [
        {
          "output_type": "stream",
          "name": "stdout",
          "text": [
            " Enter your budget: 99\n",
            "Buy jhalmuri\n"
          ]
        }
      ],
      "source": [
        "budget = input(\" Enter your budget: \")\n",
        "\n",
        "if int(budget) >= 30:\n",
        "  print(\"Buy jhalmuri\")\n",
        "else:\n",
        "  print(\"Increase your budget\")"
      ]
    },
    {
      "cell_type": "code",
      "execution_count": null,
      "metadata": {
        "id": "9-yDLKYbfIlo",
        "colab": {
          "base_uri": "https://localhost:8080/"
        },
        "outputId": "ed96d042-1065-42eb-afb5-3d4f219a645e"
      },
      "outputs": [
        {
          "output_type": "stream",
          "name": "stdout",
          "text": [
            " Enter your name:Mun\n",
            "Mun\n",
            " Enter your age:25\n",
            "Mun  Junior\n"
          ]
        }
      ],
      "source": [
        "Name = input(\" Enter your name:\")\n",
        "print( Name)\n",
        "Age = input(\" Enter your age:\")\n",
        "if int(Age) >= 30:\n",
        "  print(Name, \"Senior\")\n",
        "else: print(Name, \" Junior\")\n",
        "\n",
        "\n"
      ]
    },
    {
      "cell_type": "code",
      "execution_count": null,
      "metadata": {
        "id": "3nwiBFWXr-Rm",
        "colab": {
          "base_uri": "https://localhost:8080/"
        },
        "outputId": "c0de5ce9-aebd-45ca-bc33-b2bec5785d1f"
      },
      "outputs": [
        {
          "output_type": "stream",
          "name": "stdout",
          "text": [
            "2500\n"
          ]
        }
      ],
      "source": [
        "#Loop\n",
        "# for i in range(2, 20, 2) : #0,1,2,3,4 #end number excluded.\n",
        "#   print(i)\n",
        "\n",
        "  #1+3+5+...+100=?\n",
        "\n",
        "# sum = 0\n",
        "# for i in range(1, 101):\n",
        "#   if i%2 != 0:\n",
        "#       sum = sum + i\n",
        "# print(sum)\n",
        "\n",
        "\n",
        "sum = 0\n",
        "for i in range(1, 101, 2):\n",
        "      sum = sum + i\n",
        "print(sum)"
      ]
    },
    {
      "cell_type": "code",
      "source": [
        "words=  ['Mehedi', 'Hasan', 'Mun']\n",
        "for w in words:\n",
        "  print(w, len(w))"
      ],
      "metadata": {
        "colab": {
          "base_uri": "https://localhost:8080/"
        },
        "id": "sbziIAbiATMm",
        "outputId": "02c27762-5d01-4b2f-dd06-7e814e1e0fcb"
      },
      "execution_count": null,
      "outputs": [
        {
          "output_type": "stream",
          "name": "stdout",
          "text": [
            "Mehedi 6\n",
            "Hasan 5\n",
            "Mun 3\n"
          ]
        }
      ]
    },
    {
      "cell_type": "code",
      "source": [
        "# Input distance in meters and time in seconds\n",
        "distance_meters = float(input(\"Enter distance in meters: \"))\n",
        "time_seconds = float(input(\"Enter time in seconds: \"))\n",
        "\n",
        "# Convert meters to kilometers\n",
        "distance_kilometers = distance_meters / 1000\n",
        "\n",
        "# Calculate velocity in kilometers per hour (km/h)\n",
        "velocity_kph = distance_kilometers / (time_seconds / 3600)\n",
        "\n",
        "# Check the car's performance based on the chart\n",
        "if velocity_kph < 60:\n",
        "    print(f\"{velocity_kph:.1f} km/h\")\n",
        "    print(\"Too slow. It needs more changes.\")\n",
        "elif 60 <= velocity_kph <= 90:\n",
        "    print(f\"{velocity_kph:.1f} km/h\")\n",
        "    print(\"Velocity is okay. The car is ready!\")\n",
        "else:\n",
        "    print(f\"{velocity_kph:.1f} km/h\")\n",
        "    print(\"Too fast. Only a few changes should suffice.\")\n"
      ],
      "metadata": {
        "colab": {
          "base_uri": "https://localhost:8080/"
        },
        "id": "yYP_-lyhCpRo",
        "outputId": "639d0a53-eda9-4f59-e3e3-f11e1996e835"
      },
      "execution_count": null,
      "outputs": [
        {
          "output_type": "stream",
          "name": "stdout",
          "text": [
            "Enter distance in meters: 5000\n",
            "Enter time in seconds: 600\n",
            "30.0 km/h\n",
            "Too slow. It needs more changes.\n"
          ]
        }
      ]
    },
    {
      "cell_type": "code",
      "source": [
        "sum = 0\n",
        "n= int(input(\"Enter a even number:\"))\n",
        "for i in range(1, n):\n",
        "  if n % 2 == 0:\n",
        "     sum= sum + i\n",
        "  print(sum)"
      ],
      "metadata": {
        "id": "s-JgEok_DMKK"
      },
      "execution_count": null,
      "outputs": []
    },
    {
      "cell_type": "code",
      "source": [
        "sum = 0\n",
        "n = int(input(\"Enter an even number:\"))\n",
        "\n",
        "for i in range(1, n+1):\n",
        "    if i % 2 == 0:\n",
        "        sum += i\n",
        "\n",
        "print( sum)\n"
      ],
      "metadata": {
        "colab": {
          "base_uri": "https://localhost:8080/"
        },
        "id": "mmmY8gnuce6U",
        "outputId": "60a4b2ac-b0d6-412d-870a-ece13a837678"
      },
      "execution_count": null,
      "outputs": [
        {
          "output_type": "stream",
          "name": "stdout",
          "text": [
            "Enter an even number:4\n",
            "6\n"
          ]
        }
      ]
    }
  ],
  "metadata": {
    "colab": {
      "provenance": [],
      "authorship_tag": "ABX9TyO4IKN52xGflnNT3XnebZS6",
      "include_colab_link": true
    },
    "kernelspec": {
      "display_name": "Python 3",
      "name": "python3"
    },
    "language_info": {
      "name": "python"
    }
  },
  "nbformat": 4,
  "nbformat_minor": 0
}
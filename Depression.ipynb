{
  "cells": [
    {
      "cell_type": "markdown",
      "metadata": {
        "id": "view-in-github",
        "colab_type": "text"
      },
      "source": [
        "<a href=\"https://colab.research.google.com/github/mehedi2535/Hello-World/blob/main/Depression.ipynb\" target=\"_parent\"><img src=\"https://colab.research.google.com/assets/colab-badge.svg\" alt=\"Open In Colab\"/></a>"
      ]
    },
    {
      "cell_type": "code",
      "execution_count": null,
      "metadata": {
        "id": "4TmFyJwEyc1s"
      },
      "outputs": [],
      "source": [
        "%matplotlib inline\n",
        "import pandas as pd\n",
        "import nltk\n",
        "import string"
      ]
    },
    {
      "cell_type": "code",
      "execution_count": null,
      "metadata": {
        "colab": {
          "base_uri": "https://localhost:8080/"
        },
        "id": "bG8DK2Tavhrl",
        "outputId": "39c9564b-0dea-45da-ee9d-69f9d7b0f56f"
      },
      "outputs": [
        {
          "output_type": "stream",
          "name": "stdout",
          "text": [
            "Drive already mounted at /content/drive; to attempt to forcibly remount, call drive.mount(\"/content/drive\", force_remount=True).\n"
          ]
        }
      ],
      "source": [
        "from google.colab import drive\n",
        "drive.mount('/content/drive')"
      ]
    },
    {
      "cell_type": "code",
      "source": [
        "accuracies = []"
      ],
      "metadata": {
        "id": "2137fku42w9N"
      },
      "execution_count": null,
      "outputs": []
    },
    {
      "cell_type": "code",
      "execution_count": null,
      "metadata": {
        "id": "8w2PuBJ5vmCz"
      },
      "outputs": [],
      "source": [
        "df = pd.read_csv('/content/Final Depression Dataset - Sheet1.csv')"
      ]
    },
    {
      "cell_type": "code",
      "source": [
        "df.shape"
      ],
      "metadata": {
        "id": "ZKrIb-sH3YF9",
        "colab": {
          "base_uri": "https://localhost:8080/"
        },
        "outputId": "4ecfb55f-52e1-4e5d-b849-0151ecb73012"
      },
      "execution_count": null,
      "outputs": [
        {
          "output_type": "execute_result",
          "data": {
            "text/plain": [
              "(5604, 2)"
            ]
          },
          "metadata": {},
          "execution_count": 10
        }
      ]
    },
    {
      "cell_type": "code",
      "source": [
        "df"
      ],
      "metadata": {
        "colab": {
          "base_uri": "https://localhost:8080/",
          "height": 423
        },
        "id": "3nla5IEs2Dkc",
        "outputId": "4b783fbf-98b4-4ab2-ef16-c7a5f53ce234"
      },
      "execution_count": null,
      "outputs": [
        {
          "output_type": "execute_result",
          "data": {
            "text/plain": [
              "                                               Comments  Target\n",
              "0     কাউকে ছাড়া কারো জীবন থেমে থাকে নাহ কখনোই, হ্যা...       1\n",
              "1     এইজন্য আমি বলি তোমাকে ছাড়া আমার অনেক কষ্ট হবে,...       1\n",
              "2     হ্যাঁ বেঁচে থাকে শুধু শরীরটা।জীবন কারো জন্য থে...       1\n",
              "3          কিন্তু তাকে পেয়ে গেলে আমার আর কিছু লাগতো নাহ       1\n",
              "4                বাঁচবো ঠিকই কিন্তুু বাচার মোতো বাচবোনা       1\n",
              "...                                                 ...     ...\n",
              "5599  চার বছরেও শেষ হয়নি দিনাজপুরের নবাবগঞ্জ ও রংপুর...       0\n",
              "5600  করোনার কারণে দীর্ঘদিন বন্ধ থাকার পর আবারও নির্...       0\n",
              "5601  তবে আবার কাজ শুরু হয়েছে বলে তথ্যটি নিশ্চিত করে...       0\n",
              "5602  রংপুর জেলার পীরগঞ্জ উপজেলার প্রত্যন্ত পল্লী টু...       0\n",
              "5603  মেম্বার হলেই যে মানুষের সেবা করা যায় এমন কোন ক...       0\n",
              "\n",
              "[5604 rows x 2 columns]"
            ],
            "text/html": [
              "\n",
              "  <div id=\"df-6fdac91b-16b4-4d94-9470-ea9009b38e69\">\n",
              "    <div class=\"colab-df-container\">\n",
              "      <div>\n",
              "<style scoped>\n",
              "    .dataframe tbody tr th:only-of-type {\n",
              "        vertical-align: middle;\n",
              "    }\n",
              "\n",
              "    .dataframe tbody tr th {\n",
              "        vertical-align: top;\n",
              "    }\n",
              "\n",
              "    .dataframe thead th {\n",
              "        text-align: right;\n",
              "    }\n",
              "</style>\n",
              "<table border=\"1\" class=\"dataframe\">\n",
              "  <thead>\n",
              "    <tr style=\"text-align: right;\">\n",
              "      <th></th>\n",
              "      <th>Comments</th>\n",
              "      <th>Target</th>\n",
              "    </tr>\n",
              "  </thead>\n",
              "  <tbody>\n",
              "    <tr>\n",
              "      <th>0</th>\n",
              "      <td>কাউকে ছাড়া কারো জীবন থেমে থাকে নাহ কখনোই, হ্যা...</td>\n",
              "      <td>1</td>\n",
              "    </tr>\n",
              "    <tr>\n",
              "      <th>1</th>\n",
              "      <td>এইজন্য আমি বলি তোমাকে ছাড়া আমার অনেক কষ্ট হবে,...</td>\n",
              "      <td>1</td>\n",
              "    </tr>\n",
              "    <tr>\n",
              "      <th>2</th>\n",
              "      <td>হ্যাঁ বেঁচে থাকে শুধু শরীরটা।জীবন কারো জন্য থে...</td>\n",
              "      <td>1</td>\n",
              "    </tr>\n",
              "    <tr>\n",
              "      <th>3</th>\n",
              "      <td>কিন্তু তাকে পেয়ে গেলে আমার আর কিছু লাগতো নাহ</td>\n",
              "      <td>1</td>\n",
              "    </tr>\n",
              "    <tr>\n",
              "      <th>4</th>\n",
              "      <td>বাঁচবো ঠিকই কিন্তুু বাচার মোতো বাচবোনা</td>\n",
              "      <td>1</td>\n",
              "    </tr>\n",
              "    <tr>\n",
              "      <th>...</th>\n",
              "      <td>...</td>\n",
              "      <td>...</td>\n",
              "    </tr>\n",
              "    <tr>\n",
              "      <th>5599</th>\n",
              "      <td>চার বছরেও শেষ হয়নি দিনাজপুরের নবাবগঞ্জ ও রংপুর...</td>\n",
              "      <td>0</td>\n",
              "    </tr>\n",
              "    <tr>\n",
              "      <th>5600</th>\n",
              "      <td>করোনার কারণে দীর্ঘদিন বন্ধ থাকার পর আবারও নির্...</td>\n",
              "      <td>0</td>\n",
              "    </tr>\n",
              "    <tr>\n",
              "      <th>5601</th>\n",
              "      <td>তবে আবার কাজ শুরু হয়েছে বলে তথ্যটি নিশ্চিত করে...</td>\n",
              "      <td>0</td>\n",
              "    </tr>\n",
              "    <tr>\n",
              "      <th>5602</th>\n",
              "      <td>রংপুর জেলার পীরগঞ্জ উপজেলার প্রত্যন্ত পল্লী টু...</td>\n",
              "      <td>0</td>\n",
              "    </tr>\n",
              "    <tr>\n",
              "      <th>5603</th>\n",
              "      <td>মেম্বার হলেই যে মানুষের সেবা করা যায় এমন কোন ক...</td>\n",
              "      <td>0</td>\n",
              "    </tr>\n",
              "  </tbody>\n",
              "</table>\n",
              "<p>5604 rows × 2 columns</p>\n",
              "</div>\n",
              "      <button class=\"colab-df-convert\" onclick=\"convertToInteractive('df-6fdac91b-16b4-4d94-9470-ea9009b38e69')\"\n",
              "              title=\"Convert this dataframe to an interactive table.\"\n",
              "              style=\"display:none;\">\n",
              "        \n",
              "  <svg xmlns=\"http://www.w3.org/2000/svg\" height=\"24px\"viewBox=\"0 0 24 24\"\n",
              "       width=\"24px\">\n",
              "    <path d=\"M0 0h24v24H0V0z\" fill=\"none\"/>\n",
              "    <path d=\"M18.56 5.44l.94 2.06.94-2.06 2.06-.94-2.06-.94-.94-2.06-.94 2.06-2.06.94zm-11 1L8.5 8.5l.94-2.06 2.06-.94-2.06-.94L8.5 2.5l-.94 2.06-2.06.94zm10 10l.94 2.06.94-2.06 2.06-.94-2.06-.94-.94-2.06-.94 2.06-2.06.94z\"/><path d=\"M17.41 7.96l-1.37-1.37c-.4-.4-.92-.59-1.43-.59-.52 0-1.04.2-1.43.59L10.3 9.45l-7.72 7.72c-.78.78-.78 2.05 0 2.83L4 21.41c.39.39.9.59 1.41.59.51 0 1.02-.2 1.41-.59l7.78-7.78 2.81-2.81c.8-.78.8-2.07 0-2.86zM5.41 20L4 18.59l7.72-7.72 1.47 1.35L5.41 20z\"/>\n",
              "  </svg>\n",
              "      </button>\n",
              "      \n",
              "  <style>\n",
              "    .colab-df-container {\n",
              "      display:flex;\n",
              "      flex-wrap:wrap;\n",
              "      gap: 12px;\n",
              "    }\n",
              "\n",
              "    .colab-df-convert {\n",
              "      background-color: #E8F0FE;\n",
              "      border: none;\n",
              "      border-radius: 50%;\n",
              "      cursor: pointer;\n",
              "      display: none;\n",
              "      fill: #1967D2;\n",
              "      height: 32px;\n",
              "      padding: 0 0 0 0;\n",
              "      width: 32px;\n",
              "    }\n",
              "\n",
              "    .colab-df-convert:hover {\n",
              "      background-color: #E2EBFA;\n",
              "      box-shadow: 0px 1px 2px rgba(60, 64, 67, 0.3), 0px 1px 3px 1px rgba(60, 64, 67, 0.15);\n",
              "      fill: #174EA6;\n",
              "    }\n",
              "\n",
              "    [theme=dark] .colab-df-convert {\n",
              "      background-color: #3B4455;\n",
              "      fill: #D2E3FC;\n",
              "    }\n",
              "\n",
              "    [theme=dark] .colab-df-convert:hover {\n",
              "      background-color: #434B5C;\n",
              "      box-shadow: 0px 1px 3px 1px rgba(0, 0, 0, 0.15);\n",
              "      filter: drop-shadow(0px 1px 2px rgba(0, 0, 0, 0.3));\n",
              "      fill: #FFFFFF;\n",
              "    }\n",
              "  </style>\n",
              "\n",
              "      <script>\n",
              "        const buttonEl =\n",
              "          document.querySelector('#df-6fdac91b-16b4-4d94-9470-ea9009b38e69 button.colab-df-convert');\n",
              "        buttonEl.style.display =\n",
              "          google.colab.kernel.accessAllowed ? 'block' : 'none';\n",
              "\n",
              "        async function convertToInteractive(key) {\n",
              "          const element = document.querySelector('#df-6fdac91b-16b4-4d94-9470-ea9009b38e69');\n",
              "          const dataTable =\n",
              "            await google.colab.kernel.invokeFunction('convertToInteractive',\n",
              "                                                     [key], {});\n",
              "          if (!dataTable) return;\n",
              "\n",
              "          const docLinkHtml = 'Like what you see? Visit the ' +\n",
              "            '<a target=\"_blank\" href=https://colab.research.google.com/notebooks/data_table.ipynb>data table notebook</a>'\n",
              "            + ' to learn more about interactive tables.';\n",
              "          element.innerHTML = '';\n",
              "          dataTable['output_type'] = 'display_data';\n",
              "          await google.colab.output.renderOutput(dataTable, element);\n",
              "          const docLink = document.createElement('div');\n",
              "          docLink.innerHTML = docLinkHtml;\n",
              "          element.appendChild(docLink);\n",
              "        }\n",
              "      </script>\n",
              "    </div>\n",
              "  </div>\n",
              "  "
            ]
          },
          "metadata": {},
          "execution_count": 11
        }
      ]
    },
    {
      "cell_type": "code",
      "source": [
        "df['Target'].value_counts()"
      ],
      "metadata": {
        "colab": {
          "base_uri": "https://localhost:8080/"
        },
        "id": "weO3vOpnihlo",
        "outputId": "c7cc4009-668f-4a7c-f3f8-b189e94ad081"
      },
      "execution_count": null,
      "outputs": [
        {
          "output_type": "execute_result",
          "data": {
            "text/plain": [
              "1    3265\n",
              "0    2339\n",
              "Name: Target, dtype: int64"
            ]
          },
          "metadata": {},
          "execution_count": 12
        }
      ]
    },
    {
      "cell_type": "code",
      "execution_count": null,
      "metadata": {
        "id": "fa1ZepcBvtUG"
      },
      "outputs": [],
      "source": [
        "df.drop_duplicates(inplace =True)\n",
        "df = df.replace('\\n','',regex= True)\n",
        "df = df.replace(',,',',',regex= True)"
      ]
    },
    {
      "cell_type": "code",
      "execution_count": null,
      "metadata": {
        "id": "ZgORR_aVvzr-",
        "colab": {
          "base_uri": "https://localhost:8080/",
          "height": 423
        },
        "outputId": "38eddcb7-f38a-48b6-a5eb-bcd2abc405ef"
      },
      "outputs": [
        {
          "output_type": "execute_result",
          "data": {
            "text/plain": [
              "                                               Comments  Target\n",
              "0     কাউকে ছাড়া কারো জীবন থেমে থাকে নাহ কখনোই, হ্যা...       1\n",
              "1     এইজন্য আমি বলি তোমাকে ছাড়া আমার অনেক কষ্ট হবে,...       1\n",
              "2     হ্যাঁ বেঁচে থাকে শুধু শরীরটা।জীবন কারো জন্য থে...       1\n",
              "3          কিন্তু তাকে পেয়ে গেলে আমার আর কিছু লাগতো নাহ       1\n",
              "4                বাঁচবো ঠিকই কিন্তুু বাচার মোতো বাচবোনা       1\n",
              "...                                                 ...     ...\n",
              "5599  চার বছরেও শেষ হয়নি দিনাজপুরের নবাবগঞ্জ ও রংপুর...       0\n",
              "5600  করোনার কারণে দীর্ঘদিন বন্ধ থাকার পর আবারও নির্...       0\n",
              "5601  তবে আবার কাজ শুরু হয়েছে বলে তথ্যটি নিশ্চিত করে...       0\n",
              "5602  রংপুর জেলার পীরগঞ্জ উপজেলার প্রত্যন্ত পল্লী টু...       0\n",
              "5603  মেম্বার হলেই যে মানুষের সেবা করা যায় এমন কোন ক...       0\n",
              "\n",
              "[5218 rows x 2 columns]"
            ],
            "text/html": [
              "\n",
              "  <div id=\"df-b2b4dc5d-f1eb-4e78-bf04-2b78c29f5c20\">\n",
              "    <div class=\"colab-df-container\">\n",
              "      <div>\n",
              "<style scoped>\n",
              "    .dataframe tbody tr th:only-of-type {\n",
              "        vertical-align: middle;\n",
              "    }\n",
              "\n",
              "    .dataframe tbody tr th {\n",
              "        vertical-align: top;\n",
              "    }\n",
              "\n",
              "    .dataframe thead th {\n",
              "        text-align: right;\n",
              "    }\n",
              "</style>\n",
              "<table border=\"1\" class=\"dataframe\">\n",
              "  <thead>\n",
              "    <tr style=\"text-align: right;\">\n",
              "      <th></th>\n",
              "      <th>Comments</th>\n",
              "      <th>Target</th>\n",
              "    </tr>\n",
              "  </thead>\n",
              "  <tbody>\n",
              "    <tr>\n",
              "      <th>0</th>\n",
              "      <td>কাউকে ছাড়া কারো জীবন থেমে থাকে নাহ কখনোই, হ্যা...</td>\n",
              "      <td>1</td>\n",
              "    </tr>\n",
              "    <tr>\n",
              "      <th>1</th>\n",
              "      <td>এইজন্য আমি বলি তোমাকে ছাড়া আমার অনেক কষ্ট হবে,...</td>\n",
              "      <td>1</td>\n",
              "    </tr>\n",
              "    <tr>\n",
              "      <th>2</th>\n",
              "      <td>হ্যাঁ বেঁচে থাকে শুধু শরীরটা।জীবন কারো জন্য থে...</td>\n",
              "      <td>1</td>\n",
              "    </tr>\n",
              "    <tr>\n",
              "      <th>3</th>\n",
              "      <td>কিন্তু তাকে পেয়ে গেলে আমার আর কিছু লাগতো নাহ</td>\n",
              "      <td>1</td>\n",
              "    </tr>\n",
              "    <tr>\n",
              "      <th>4</th>\n",
              "      <td>বাঁচবো ঠিকই কিন্তুু বাচার মোতো বাচবোনা</td>\n",
              "      <td>1</td>\n",
              "    </tr>\n",
              "    <tr>\n",
              "      <th>...</th>\n",
              "      <td>...</td>\n",
              "      <td>...</td>\n",
              "    </tr>\n",
              "    <tr>\n",
              "      <th>5599</th>\n",
              "      <td>চার বছরেও শেষ হয়নি দিনাজপুরের নবাবগঞ্জ ও রংপুর...</td>\n",
              "      <td>0</td>\n",
              "    </tr>\n",
              "    <tr>\n",
              "      <th>5600</th>\n",
              "      <td>করোনার কারণে দীর্ঘদিন বন্ধ থাকার পর আবারও নির্...</td>\n",
              "      <td>0</td>\n",
              "    </tr>\n",
              "    <tr>\n",
              "      <th>5601</th>\n",
              "      <td>তবে আবার কাজ শুরু হয়েছে বলে তথ্যটি নিশ্চিত করে...</td>\n",
              "      <td>0</td>\n",
              "    </tr>\n",
              "    <tr>\n",
              "      <th>5602</th>\n",
              "      <td>রংপুর জেলার পীরগঞ্জ উপজেলার প্রত্যন্ত পল্লী টু...</td>\n",
              "      <td>0</td>\n",
              "    </tr>\n",
              "    <tr>\n",
              "      <th>5603</th>\n",
              "      <td>মেম্বার হলেই যে মানুষের সেবা করা যায় এমন কোন ক...</td>\n",
              "      <td>0</td>\n",
              "    </tr>\n",
              "  </tbody>\n",
              "</table>\n",
              "<p>5218 rows × 2 columns</p>\n",
              "</div>\n",
              "      <button class=\"colab-df-convert\" onclick=\"convertToInteractive('df-b2b4dc5d-f1eb-4e78-bf04-2b78c29f5c20')\"\n",
              "              title=\"Convert this dataframe to an interactive table.\"\n",
              "              style=\"display:none;\">\n",
              "        \n",
              "  <svg xmlns=\"http://www.w3.org/2000/svg\" height=\"24px\"viewBox=\"0 0 24 24\"\n",
              "       width=\"24px\">\n",
              "    <path d=\"M0 0h24v24H0V0z\" fill=\"none\"/>\n",
              "    <path d=\"M18.56 5.44l.94 2.06.94-2.06 2.06-.94-2.06-.94-.94-2.06-.94 2.06-2.06.94zm-11 1L8.5 8.5l.94-2.06 2.06-.94-2.06-.94L8.5 2.5l-.94 2.06-2.06.94zm10 10l.94 2.06.94-2.06 2.06-.94-2.06-.94-.94-2.06-.94 2.06-2.06.94z\"/><path d=\"M17.41 7.96l-1.37-1.37c-.4-.4-.92-.59-1.43-.59-.52 0-1.04.2-1.43.59L10.3 9.45l-7.72 7.72c-.78.78-.78 2.05 0 2.83L4 21.41c.39.39.9.59 1.41.59.51 0 1.02-.2 1.41-.59l7.78-7.78 2.81-2.81c.8-.78.8-2.07 0-2.86zM5.41 20L4 18.59l7.72-7.72 1.47 1.35L5.41 20z\"/>\n",
              "  </svg>\n",
              "      </button>\n",
              "      \n",
              "  <style>\n",
              "    .colab-df-container {\n",
              "      display:flex;\n",
              "      flex-wrap:wrap;\n",
              "      gap: 12px;\n",
              "    }\n",
              "\n",
              "    .colab-df-convert {\n",
              "      background-color: #E8F0FE;\n",
              "      border: none;\n",
              "      border-radius: 50%;\n",
              "      cursor: pointer;\n",
              "      display: none;\n",
              "      fill: #1967D2;\n",
              "      height: 32px;\n",
              "      padding: 0 0 0 0;\n",
              "      width: 32px;\n",
              "    }\n",
              "\n",
              "    .colab-df-convert:hover {\n",
              "      background-color: #E2EBFA;\n",
              "      box-shadow: 0px 1px 2px rgba(60, 64, 67, 0.3), 0px 1px 3px 1px rgba(60, 64, 67, 0.15);\n",
              "      fill: #174EA6;\n",
              "    }\n",
              "\n",
              "    [theme=dark] .colab-df-convert {\n",
              "      background-color: #3B4455;\n",
              "      fill: #D2E3FC;\n",
              "    }\n",
              "\n",
              "    [theme=dark] .colab-df-convert:hover {\n",
              "      background-color: #434B5C;\n",
              "      box-shadow: 0px 1px 3px 1px rgba(0, 0, 0, 0.15);\n",
              "      filter: drop-shadow(0px 1px 2px rgba(0, 0, 0, 0.3));\n",
              "      fill: #FFFFFF;\n",
              "    }\n",
              "  </style>\n",
              "\n",
              "      <script>\n",
              "        const buttonEl =\n",
              "          document.querySelector('#df-b2b4dc5d-f1eb-4e78-bf04-2b78c29f5c20 button.colab-df-convert');\n",
              "        buttonEl.style.display =\n",
              "          google.colab.kernel.accessAllowed ? 'block' : 'none';\n",
              "\n",
              "        async function convertToInteractive(key) {\n",
              "          const element = document.querySelector('#df-b2b4dc5d-f1eb-4e78-bf04-2b78c29f5c20');\n",
              "          const dataTable =\n",
              "            await google.colab.kernel.invokeFunction('convertToInteractive',\n",
              "                                                     [key], {});\n",
              "          if (!dataTable) return;\n",
              "\n",
              "          const docLinkHtml = 'Like what you see? Visit the ' +\n",
              "            '<a target=\"_blank\" href=https://colab.research.google.com/notebooks/data_table.ipynb>data table notebook</a>'\n",
              "            + ' to learn more about interactive tables.';\n",
              "          element.innerHTML = '';\n",
              "          dataTable['output_type'] = 'display_data';\n",
              "          await google.colab.output.renderOutput(dataTable, element);\n",
              "          const docLink = document.createElement('div');\n",
              "          docLink.innerHTML = docLinkHtml;\n",
              "          element.appendChild(docLink);\n",
              "        }\n",
              "      </script>\n",
              "    </div>\n",
              "  </div>\n",
              "  "
            ]
          },
          "metadata": {},
          "execution_count": 14
        }
      ],
      "source": [
        "df"
      ]
    },
    {
      "cell_type": "code",
      "execution_count": null,
      "metadata": {
        "id": "z9k9hkl_v1_T",
        "colab": {
          "base_uri": "https://localhost:8080/"
        },
        "outputId": "0487799f-3561-4784-c8fb-b3e422b0eaf6"
      },
      "outputs": [
        {
          "output_type": "execute_result",
          "data": {
            "text/plain": [
              "Comments    2\n",
              "Target      0\n",
              "dtype: int64"
            ]
          },
          "metadata": {},
          "execution_count": 15
        }
      ],
      "source": [
        "df.isnull().sum()"
      ]
    },
    {
      "cell_type": "code",
      "execution_count": null,
      "metadata": {
        "id": "I3Y1MDtjwBXa"
      },
      "outputs": [],
      "source": [
        "df = df.fillna(method = 'pad')"
      ]
    },
    {
      "cell_type": "code",
      "source": [
        "punct=string.punctuation"
      ],
      "metadata": {
        "id": "THpGF18sC3WQ"
      },
      "execution_count": null,
      "outputs": []
    },
    {
      "cell_type": "code",
      "source": [
        "' ,'.join(punct)"
      ],
      "metadata": {
        "colab": {
          "base_uri": "https://localhost:8080/",
          "height": 35
        },
        "id": "FWnFyXtev8r3",
        "outputId": "160ae1f6-cf14-4f11-cc3a-7a3cfdb42c27"
      },
      "execution_count": null,
      "outputs": [
        {
          "output_type": "execute_result",
          "data": {
            "text/plain": [
              "'! ,\" ,# ,$ ,% ,& ,\\' ,( ,) ,* ,+ ,, ,- ,. ,/ ,: ,; ,< ,= ,> ,? ,@ ,[ ,\\\\ ,] ,^ ,_ ,` ,{ ,| ,} ,~'"
            ],
            "application/vnd.google.colaboratory.intrinsic+json": {
              "type": "string"
            }
          },
          "metadata": {},
          "execution_count": 18
        }
      ]
    },
    {
      "cell_type": "code",
      "source": [
        "def remove_punct(x) :\n",
        "  return x.translate(str.maketrans(\"\" , \"\", punct))\n",
        "\n",
        "df['Comments']=df['Comments'].apply(lambda x: remove_punct(x))"
      ],
      "metadata": {
        "id": "CaFcadyOC2pk"
      },
      "execution_count": null,
      "outputs": []
    },
    {
      "cell_type": "code",
      "source": [
        "df"
      ],
      "metadata": {
        "colab": {
          "base_uri": "https://localhost:8080/",
          "height": 423
        },
        "id": "4gT_pXxJC_jK",
        "outputId": "1810839d-3460-47d7-b8e1-d51da338e495"
      },
      "execution_count": null,
      "outputs": [
        {
          "output_type": "execute_result",
          "data": {
            "text/plain": [
              "                                               Comments  Target\n",
              "0     কাউকে ছাড়া কারো জীবন থেমে থাকে নাহ কখনোই হ্যা ...       1\n",
              "1     এইজন্য আমি বলি তোমাকে ছাড়া আমার অনেক কষ্ট হবে ...       1\n",
              "2     হ্যাঁ বেঁচে থাকে শুধু শরীরটা।জীবন কারো জন্য থে...       1\n",
              "3          কিন্তু তাকে পেয়ে গেলে আমার আর কিছু লাগতো নাহ       1\n",
              "4                বাঁচবো ঠিকই কিন্তুু বাচার মোতো বাচবোনা       1\n",
              "...                                                 ...     ...\n",
              "5599  চার বছরেও শেষ হয়নি দিনাজপুরের নবাবগঞ্জ ও রংপুর...       0\n",
              "5600  করোনার কারণে দীর্ঘদিন বন্ধ থাকার পর আবারও নির্...       0\n",
              "5601  তবে আবার কাজ শুরু হয়েছে বলে তথ্যটি নিশ্চিত করে...       0\n",
              "5602  রংপুর জেলার পীরগঞ্জ উপজেলার প্রত্যন্ত পল্লী টু...       0\n",
              "5603  মেম্বার হলেই যে মানুষের সেবা করা যায় এমন কোন ক...       0\n",
              "\n",
              "[5218 rows x 2 columns]"
            ],
            "text/html": [
              "\n",
              "  <div id=\"df-611deee0-b237-4e72-8231-c94658753b9e\">\n",
              "    <div class=\"colab-df-container\">\n",
              "      <div>\n",
              "<style scoped>\n",
              "    .dataframe tbody tr th:only-of-type {\n",
              "        vertical-align: middle;\n",
              "    }\n",
              "\n",
              "    .dataframe tbody tr th {\n",
              "        vertical-align: top;\n",
              "    }\n",
              "\n",
              "    .dataframe thead th {\n",
              "        text-align: right;\n",
              "    }\n",
              "</style>\n",
              "<table border=\"1\" class=\"dataframe\">\n",
              "  <thead>\n",
              "    <tr style=\"text-align: right;\">\n",
              "      <th></th>\n",
              "      <th>Comments</th>\n",
              "      <th>Target</th>\n",
              "    </tr>\n",
              "  </thead>\n",
              "  <tbody>\n",
              "    <tr>\n",
              "      <th>0</th>\n",
              "      <td>কাউকে ছাড়া কারো জীবন থেমে থাকে নাহ কখনোই হ্যা ...</td>\n",
              "      <td>1</td>\n",
              "    </tr>\n",
              "    <tr>\n",
              "      <th>1</th>\n",
              "      <td>এইজন্য আমি বলি তোমাকে ছাড়া আমার অনেক কষ্ট হবে ...</td>\n",
              "      <td>1</td>\n",
              "    </tr>\n",
              "    <tr>\n",
              "      <th>2</th>\n",
              "      <td>হ্যাঁ বেঁচে থাকে শুধু শরীরটা।জীবন কারো জন্য থে...</td>\n",
              "      <td>1</td>\n",
              "    </tr>\n",
              "    <tr>\n",
              "      <th>3</th>\n",
              "      <td>কিন্তু তাকে পেয়ে গেলে আমার আর কিছু লাগতো নাহ</td>\n",
              "      <td>1</td>\n",
              "    </tr>\n",
              "    <tr>\n",
              "      <th>4</th>\n",
              "      <td>বাঁচবো ঠিকই কিন্তুু বাচার মোতো বাচবোনা</td>\n",
              "      <td>1</td>\n",
              "    </tr>\n",
              "    <tr>\n",
              "      <th>...</th>\n",
              "      <td>...</td>\n",
              "      <td>...</td>\n",
              "    </tr>\n",
              "    <tr>\n",
              "      <th>5599</th>\n",
              "      <td>চার বছরেও শেষ হয়নি দিনাজপুরের নবাবগঞ্জ ও রংপুর...</td>\n",
              "      <td>0</td>\n",
              "    </tr>\n",
              "    <tr>\n",
              "      <th>5600</th>\n",
              "      <td>করোনার কারণে দীর্ঘদিন বন্ধ থাকার পর আবারও নির্...</td>\n",
              "      <td>0</td>\n",
              "    </tr>\n",
              "    <tr>\n",
              "      <th>5601</th>\n",
              "      <td>তবে আবার কাজ শুরু হয়েছে বলে তথ্যটি নিশ্চিত করে...</td>\n",
              "      <td>0</td>\n",
              "    </tr>\n",
              "    <tr>\n",
              "      <th>5602</th>\n",
              "      <td>রংপুর জেলার পীরগঞ্জ উপজেলার প্রত্যন্ত পল্লী টু...</td>\n",
              "      <td>0</td>\n",
              "    </tr>\n",
              "    <tr>\n",
              "      <th>5603</th>\n",
              "      <td>মেম্বার হলেই যে মানুষের সেবা করা যায় এমন কোন ক...</td>\n",
              "      <td>0</td>\n",
              "    </tr>\n",
              "  </tbody>\n",
              "</table>\n",
              "<p>5218 rows × 2 columns</p>\n",
              "</div>\n",
              "      <button class=\"colab-df-convert\" onclick=\"convertToInteractive('df-611deee0-b237-4e72-8231-c94658753b9e')\"\n",
              "              title=\"Convert this dataframe to an interactive table.\"\n",
              "              style=\"display:none;\">\n",
              "        \n",
              "  <svg xmlns=\"http://www.w3.org/2000/svg\" height=\"24px\"viewBox=\"0 0 24 24\"\n",
              "       width=\"24px\">\n",
              "    <path d=\"M0 0h24v24H0V0z\" fill=\"none\"/>\n",
              "    <path d=\"M18.56 5.44l.94 2.06.94-2.06 2.06-.94-2.06-.94-.94-2.06-.94 2.06-2.06.94zm-11 1L8.5 8.5l.94-2.06 2.06-.94-2.06-.94L8.5 2.5l-.94 2.06-2.06.94zm10 10l.94 2.06.94-2.06 2.06-.94-2.06-.94-.94-2.06-.94 2.06-2.06.94z\"/><path d=\"M17.41 7.96l-1.37-1.37c-.4-.4-.92-.59-1.43-.59-.52 0-1.04.2-1.43.59L10.3 9.45l-7.72 7.72c-.78.78-.78 2.05 0 2.83L4 21.41c.39.39.9.59 1.41.59.51 0 1.02-.2 1.41-.59l7.78-7.78 2.81-2.81c.8-.78.8-2.07 0-2.86zM5.41 20L4 18.59l7.72-7.72 1.47 1.35L5.41 20z\"/>\n",
              "  </svg>\n",
              "      </button>\n",
              "      \n",
              "  <style>\n",
              "    .colab-df-container {\n",
              "      display:flex;\n",
              "      flex-wrap:wrap;\n",
              "      gap: 12px;\n",
              "    }\n",
              "\n",
              "    .colab-df-convert {\n",
              "      background-color: #E8F0FE;\n",
              "      border: none;\n",
              "      border-radius: 50%;\n",
              "      cursor: pointer;\n",
              "      display: none;\n",
              "      fill: #1967D2;\n",
              "      height: 32px;\n",
              "      padding: 0 0 0 0;\n",
              "      width: 32px;\n",
              "    }\n",
              "\n",
              "    .colab-df-convert:hover {\n",
              "      background-color: #E2EBFA;\n",
              "      box-shadow: 0px 1px 2px rgba(60, 64, 67, 0.3), 0px 1px 3px 1px rgba(60, 64, 67, 0.15);\n",
              "      fill: #174EA6;\n",
              "    }\n",
              "\n",
              "    [theme=dark] .colab-df-convert {\n",
              "      background-color: #3B4455;\n",
              "      fill: #D2E3FC;\n",
              "    }\n",
              "\n",
              "    [theme=dark] .colab-df-convert:hover {\n",
              "      background-color: #434B5C;\n",
              "      box-shadow: 0px 1px 3px 1px rgba(0, 0, 0, 0.15);\n",
              "      filter: drop-shadow(0px 1px 2px rgba(0, 0, 0, 0.3));\n",
              "      fill: #FFFFFF;\n",
              "    }\n",
              "  </style>\n",
              "\n",
              "      <script>\n",
              "        const buttonEl =\n",
              "          document.querySelector('#df-611deee0-b237-4e72-8231-c94658753b9e button.colab-df-convert');\n",
              "        buttonEl.style.display =\n",
              "          google.colab.kernel.accessAllowed ? 'block' : 'none';\n",
              "\n",
              "        async function convertToInteractive(key) {\n",
              "          const element = document.querySelector('#df-611deee0-b237-4e72-8231-c94658753b9e');\n",
              "          const dataTable =\n",
              "            await google.colab.kernel.invokeFunction('convertToInteractive',\n",
              "                                                     [key], {});\n",
              "          if (!dataTable) return;\n",
              "\n",
              "          const docLinkHtml = 'Like what you see? Visit the ' +\n",
              "            '<a target=\"_blank\" href=https://colab.research.google.com/notebooks/data_table.ipynb>data table notebook</a>'\n",
              "            + ' to learn more about interactive tables.';\n",
              "          element.innerHTML = '';\n",
              "          dataTable['output_type'] = 'display_data';\n",
              "          await google.colab.output.renderOutput(dataTable, element);\n",
              "          const docLink = document.createElement('div');\n",
              "          docLink.innerHTML = docLinkHtml;\n",
              "          element.appendChild(docLink);\n",
              "        }\n",
              "      </script>\n",
              "    </div>\n",
              "  </div>\n",
              "  "
            ]
          },
          "metadata": {},
          "execution_count": 20
        }
      ]
    },
    {
      "cell_type": "code",
      "source": [
        "nltk.download('stopwords')\n",
        "from nltk.corpus import stopwords\n",
        "\",\".join(stopwords.words('bengali'))\n",
        "stop_words=set(stopwords.words('bengali'))"
      ],
      "metadata": {
        "colab": {
          "base_uri": "https://localhost:8080/"
        },
        "id": "Th5zEue49UKM",
        "outputId": "ec90ecb9-d904-45f0-a429-f272f41d2d91"
      },
      "execution_count": null,
      "outputs": [
        {
          "output_type": "stream",
          "name": "stderr",
          "text": [
            "[nltk_data] Downloading package stopwords to /root/nltk_data...\n",
            "[nltk_data]   Unzipping corpora/stopwords.zip.\n"
          ]
        }
      ]
    },
    {
      "cell_type": "code",
      "source": [
        "\" ,\".join(stopwords.words('bengali'))"
      ],
      "metadata": {
        "id": "ZknsKc67TXXP",
        "outputId": "a900c23c-f1c1-408d-809c-f8b081636a76",
        "colab": {
          "base_uri": "https://localhost:8080/",
          "height": 191
        }
      },
      "execution_count": null,
      "outputs": [
        {
          "output_type": "execute_result",
          "data": {
            "text/plain": [
              "'অতএব ,অথচ ,অথবা ,অনুযায়ী ,অনেক ,অনেকে ,অনেকেই ,অন্তত ,অন্য ,অবধি ,অবশ্য ,অর্থাত ,আই ,আগামী ,আগে ,আগেই ,আছে ,আজ ,আদ্যভাগে ,আপনার ,আপনি ,আবার ,আমরা ,আমাকে ,আমাদের ,আমার ,আমি ,আর ,আরও ,ই ,ইত্যাদি ,ইহা ,উচিত ,উত্তর ,উনি ,উপর ,উপরে ,এ ,এঁদের ,এঁরা ,এই ,একই ,একটি ,একবার ,একে ,এক্ ,এখন ,এখনও ,এখানে ,এখানেই ,এটা ,এটাই ,এটি ,এত ,এতটাই ,এতে ,এদের ,এব ,এবং ,এবার ,এমন ,এমনকী ,এমনি ,এর ,এরা ,এল ,এস ,এসে ,ঐ ,ও ,ওঁদের ,ওঁর ,ওঁরা ,ওই ,ওকে ,ওখানে ,ওদের ,ওর ,ওরা ,কখনও ,কত ,কবে ,কমনে ,কয়েক ,কয়েকটি ,করছে ,করছেন ,করতে ,করবে ,করবেন ,করলে ,করলেন ,করা ,করাই ,করায় ,করার ,করি ,করিতে ,করিয়া ,করিয়ে ,করে ,করেই ,করেছিলেন ,করেছে ,করেছেন ,করেন ,কাউকে ,কাছ ,কাছে ,কাজ ,কাজে ,কারও ,কারণ ,কি ,কিংবা ,কিছু ,কিছুই ,কিন্তু ,কী ,কে ,কেউ ,কেউই ,কেখা ,কেন ,কোটি ,কোন ,কোনও ,কোনো ,ক্ষেত্রে ,কয়েক ,খুব ,গিয়ে ,গিয়েছে ,গিয়ে ,গুলি ,গেছে ,গেল ,গেলে ,গোটা ,চলে ,চান ,চায় ,চার ,চালু ,চেয়ে ,চেষ্টা ,ছাড়া ,ছাড়াও ,ছিল ,ছিলেন ,জন ,জনকে ,জনের ,জন্য ,জন্যওজে ,জানতে ,জানা ,জানানো ,জানায় ,জানিয়ে ,জানিয়েছে ,জে ,জ্নজন ,টি ,ঠিক ,তখন ,তত ,তথা ,তবু ,তবে ,তা ,তাঁকে ,তাঁদের ,তাঁর ,তাঁরা ,তাঁাহারা ,তাই ,তাও ,তাকে ,তাতে ,তাদের ,তার ,তারপর ,তারা ,তারৈ ,তাহলে ,তাহা ,তাহাতে ,তাহার ,তিনঐ ,তিনি ,তিনিও ,তুমি ,তুলে ,তেমন ,তো ,তোমার ,থাকবে ,থাকবেন ,থাকা ,থাকায় ,থাকে ,থাকেন ,থেকে ,থেকেই ,থেকেও ,দিকে ,দিতে ,দিন ,দিয়ে ,দিয়েছে ,দিয়েছেন ,দিলেন ,দু ,দুই ,দুটি ,দুটো ,দেওয়া ,দেওয়ার ,দেওয়া ,দেখতে ,দেখা ,দেখে ,দেন ,দেয় ,দ্বারা ,ধরা ,ধরে ,ধামার ,নতুন ,নয় ,না ,নাই ,নাকি ,নাগাদ ,নানা ,নিজে ,নিজেই ,নিজেদের ,নিজের ,নিতে ,নিয়ে ,নিয়ে ,নেই ,নেওয়া ,নেওয়ার ,নেওয়া ,নয় ,পক্ষে ,পর ,পরে ,পরেই ,পরেও ,পর্যন্ত ,পাওয়া ,পাচ ,পারি ,পারে ,পারেন ,পি ,পেয়ে ,পেয়্র্ ,প্রতি ,প্রথম ,প্রভৃতি ,প্রযন্ত ,প্রাথমিক ,প্রায় ,প্রায় ,ফলে ,ফিরে ,ফের ,বক্তব্য ,বদলে ,বন ,বরং ,বলতে ,বলল ,বললেন ,বলা ,বলে ,বলেছেন ,বলেন ,বসে ,বহু ,বা ,বাদে ,বার ,বি ,বিনা ,বিভিন্ন ,বিশেষ ,বিষয়টি ,বেশ ,বেশি ,ব্যবহার ,ব্যাপারে ,ভাবে ,ভাবেই ,মতো ,মতোই ,মধ্যভাগে ,মধ্যে ,মধ্যেই ,মধ্যেও ,মনে ,মাত্র ,মাধ্যমে ,মোট ,মোটেই ,যখন ,যত ,যতটা ,যথেষ্ট ,যদি ,যদিও ,যা ,যাঁর ,যাঁরা ,যাওয়া ,যাওয়ার ,যাওয়া ,যাকে ,যাচ্ছে ,যাতে ,যাদের ,যান ,যাবে ,যায় ,যার ,যারা ,যিনি ,যে ,যেখানে ,যেতে ,যেন ,যেমন ,র ,রকম ,রয়েছে ,রাখা ,রেখে ,লক্ষ ,শুধু ,শুরু ,সঙ্গে ,সঙ্গেও ,সব ,সবার ,সমস্ত ,সম্প্রতি ,সহ ,সহিত ,সাধারণ ,সামনে ,সি ,সুতরাং ,সে ,সেই ,সেখান ,সেখানে ,সেটা ,সেটাই ,সেটাও ,সেটি ,স্পষ্ট ,স্বয়ং ,হইতে ,হইবে ,হইয়া ,হওয়া ,হওয়ায় ,হওয়ার ,হচ্ছে ,হত ,হতে ,হতেই ,হন ,হবে ,হবেন ,হয় ,হয়তো ,হয়নি ,হয়ে ,হয়েই ,হয়েছিল ,হয়েছে ,হয়েছেন ,হল ,হলে ,হলেই ,হলেও ,হলো ,হাজার ,হিসাবে ,হৈলে ,হোক ,হয়'"
            ],
            "application/vnd.google.colaboratory.intrinsic+json": {
              "type": "string"
            }
          },
          "metadata": {},
          "execution_count": 22
        }
      ]
    },
    {
      "cell_type": "code",
      "source": [
        "def remove_stop(x):\n",
        "  return \" \".join([word for word in str(x).split()if word not in stop_words])\n",
        "df['Comments']=df['Comments'].apply(lambda x : remove_stop(x))"
      ],
      "metadata": {
        "id": "lGNeV0ef9W9i"
      },
      "execution_count": null,
      "outputs": []
    },
    {
      "cell_type": "code",
      "source": [
        "df"
      ],
      "metadata": {
        "colab": {
          "base_uri": "https://localhost:8080/",
          "height": 423
        },
        "id": "6z8FsttWApS0",
        "outputId": "1c9954f1-a4e4-4364-b3ca-c94845ada5d7"
      },
      "execution_count": null,
      "outputs": [
        {
          "output_type": "execute_result",
          "data": {
            "text/plain": [
              "                                               Comments  Target\n",
              "0     ছাড়া কারো জীবন থেমে নাহ কখনোই হ্যা হয়তো অনুভুত...       1\n",
              "1     এইজন্য বলি তোমাকে ছাড়া কষ্ট বেঁচে থাকবো হাসতে ...       1\n",
              "2     হ্যাঁ বেঁচে শরীরটা।জীবন কারো থেমে কিন্ত মনটা থ...       1\n",
              "3                                        পেয়ে লাগতো নাহ       1\n",
              "4                বাঁচবো ঠিকই কিন্তুু বাচার মোতো বাচবোনা       1\n",
              "...                                                 ...     ...\n",
              "5599  বছরেও শেষ হয়নি দিনাজপুরের নবাবগঞ্জ রংপুরের পীর...       0\n",
              "5600  করোনার কারণে দীর্ঘদিন বন্ধ থাকার আবারও নির্মাণ...       0\n",
              "5601  হয়েছে তথ্যটি নিশ্চিত পীরগঞ্জ উপজেলা প্রকৌশলী ম...       0\n",
              "5602  রংপুর জেলার পীরগঞ্জ উপজেলার প্রত্যন্ত পল্লী টু...       0\n",
              "5603  মেম্বার মানুষের সেবা যায় কথা যেহেতু নেশায় পরিণ...       0\n",
              "\n",
              "[5218 rows x 2 columns]"
            ],
            "text/html": [
              "\n",
              "  <div id=\"df-0d21f2af-ec1b-4d78-bd00-03cdc3afc9dd\">\n",
              "    <div class=\"colab-df-container\">\n",
              "      <div>\n",
              "<style scoped>\n",
              "    .dataframe tbody tr th:only-of-type {\n",
              "        vertical-align: middle;\n",
              "    }\n",
              "\n",
              "    .dataframe tbody tr th {\n",
              "        vertical-align: top;\n",
              "    }\n",
              "\n",
              "    .dataframe thead th {\n",
              "        text-align: right;\n",
              "    }\n",
              "</style>\n",
              "<table border=\"1\" class=\"dataframe\">\n",
              "  <thead>\n",
              "    <tr style=\"text-align: right;\">\n",
              "      <th></th>\n",
              "      <th>Comments</th>\n",
              "      <th>Target</th>\n",
              "    </tr>\n",
              "  </thead>\n",
              "  <tbody>\n",
              "    <tr>\n",
              "      <th>0</th>\n",
              "      <td>ছাড়া কারো জীবন থেমে নাহ কখনোই হ্যা হয়তো অনুভুত...</td>\n",
              "      <td>1</td>\n",
              "    </tr>\n",
              "    <tr>\n",
              "      <th>1</th>\n",
              "      <td>এইজন্য বলি তোমাকে ছাড়া কষ্ট বেঁচে থাকবো হাসতে ...</td>\n",
              "      <td>1</td>\n",
              "    </tr>\n",
              "    <tr>\n",
              "      <th>2</th>\n",
              "      <td>হ্যাঁ বেঁচে শরীরটা।জীবন কারো থেমে কিন্ত মনটা থ...</td>\n",
              "      <td>1</td>\n",
              "    </tr>\n",
              "    <tr>\n",
              "      <th>3</th>\n",
              "      <td>পেয়ে লাগতো নাহ</td>\n",
              "      <td>1</td>\n",
              "    </tr>\n",
              "    <tr>\n",
              "      <th>4</th>\n",
              "      <td>বাঁচবো ঠিকই কিন্তুু বাচার মোতো বাচবোনা</td>\n",
              "      <td>1</td>\n",
              "    </tr>\n",
              "    <tr>\n",
              "      <th>...</th>\n",
              "      <td>...</td>\n",
              "      <td>...</td>\n",
              "    </tr>\n",
              "    <tr>\n",
              "      <th>5599</th>\n",
              "      <td>বছরেও শেষ হয়নি দিনাজপুরের নবাবগঞ্জ রংপুরের পীর...</td>\n",
              "      <td>0</td>\n",
              "    </tr>\n",
              "    <tr>\n",
              "      <th>5600</th>\n",
              "      <td>করোনার কারণে দীর্ঘদিন বন্ধ থাকার আবারও নির্মাণ...</td>\n",
              "      <td>0</td>\n",
              "    </tr>\n",
              "    <tr>\n",
              "      <th>5601</th>\n",
              "      <td>হয়েছে তথ্যটি নিশ্চিত পীরগঞ্জ উপজেলা প্রকৌশলী ম...</td>\n",
              "      <td>0</td>\n",
              "    </tr>\n",
              "    <tr>\n",
              "      <th>5602</th>\n",
              "      <td>রংপুর জেলার পীরগঞ্জ উপজেলার প্রত্যন্ত পল্লী টু...</td>\n",
              "      <td>0</td>\n",
              "    </tr>\n",
              "    <tr>\n",
              "      <th>5603</th>\n",
              "      <td>মেম্বার মানুষের সেবা যায় কথা যেহেতু নেশায় পরিণ...</td>\n",
              "      <td>0</td>\n",
              "    </tr>\n",
              "  </tbody>\n",
              "</table>\n",
              "<p>5218 rows × 2 columns</p>\n",
              "</div>\n",
              "      <button class=\"colab-df-convert\" onclick=\"convertToInteractive('df-0d21f2af-ec1b-4d78-bd00-03cdc3afc9dd')\"\n",
              "              title=\"Convert this dataframe to an interactive table.\"\n",
              "              style=\"display:none;\">\n",
              "        \n",
              "  <svg xmlns=\"http://www.w3.org/2000/svg\" height=\"24px\"viewBox=\"0 0 24 24\"\n",
              "       width=\"24px\">\n",
              "    <path d=\"M0 0h24v24H0V0z\" fill=\"none\"/>\n",
              "    <path d=\"M18.56 5.44l.94 2.06.94-2.06 2.06-.94-2.06-.94-.94-2.06-.94 2.06-2.06.94zm-11 1L8.5 8.5l.94-2.06 2.06-.94-2.06-.94L8.5 2.5l-.94 2.06-2.06.94zm10 10l.94 2.06.94-2.06 2.06-.94-2.06-.94-.94-2.06-.94 2.06-2.06.94z\"/><path d=\"M17.41 7.96l-1.37-1.37c-.4-.4-.92-.59-1.43-.59-.52 0-1.04.2-1.43.59L10.3 9.45l-7.72 7.72c-.78.78-.78 2.05 0 2.83L4 21.41c.39.39.9.59 1.41.59.51 0 1.02-.2 1.41-.59l7.78-7.78 2.81-2.81c.8-.78.8-2.07 0-2.86zM5.41 20L4 18.59l7.72-7.72 1.47 1.35L5.41 20z\"/>\n",
              "  </svg>\n",
              "      </button>\n",
              "      \n",
              "  <style>\n",
              "    .colab-df-container {\n",
              "      display:flex;\n",
              "      flex-wrap:wrap;\n",
              "      gap: 12px;\n",
              "    }\n",
              "\n",
              "    .colab-df-convert {\n",
              "      background-color: #E8F0FE;\n",
              "      border: none;\n",
              "      border-radius: 50%;\n",
              "      cursor: pointer;\n",
              "      display: none;\n",
              "      fill: #1967D2;\n",
              "      height: 32px;\n",
              "      padding: 0 0 0 0;\n",
              "      width: 32px;\n",
              "    }\n",
              "\n",
              "    .colab-df-convert:hover {\n",
              "      background-color: #E2EBFA;\n",
              "      box-shadow: 0px 1px 2px rgba(60, 64, 67, 0.3), 0px 1px 3px 1px rgba(60, 64, 67, 0.15);\n",
              "      fill: #174EA6;\n",
              "    }\n",
              "\n",
              "    [theme=dark] .colab-df-convert {\n",
              "      background-color: #3B4455;\n",
              "      fill: #D2E3FC;\n",
              "    }\n",
              "\n",
              "    [theme=dark] .colab-df-convert:hover {\n",
              "      background-color: #434B5C;\n",
              "      box-shadow: 0px 1px 3px 1px rgba(0, 0, 0, 0.15);\n",
              "      filter: drop-shadow(0px 1px 2px rgba(0, 0, 0, 0.3));\n",
              "      fill: #FFFFFF;\n",
              "    }\n",
              "  </style>\n",
              "\n",
              "      <script>\n",
              "        const buttonEl =\n",
              "          document.querySelector('#df-0d21f2af-ec1b-4d78-bd00-03cdc3afc9dd button.colab-df-convert');\n",
              "        buttonEl.style.display =\n",
              "          google.colab.kernel.accessAllowed ? 'block' : 'none';\n",
              "\n",
              "        async function convertToInteractive(key) {\n",
              "          const element = document.querySelector('#df-0d21f2af-ec1b-4d78-bd00-03cdc3afc9dd');\n",
              "          const dataTable =\n",
              "            await google.colab.kernel.invokeFunction('convertToInteractive',\n",
              "                                                     [key], {});\n",
              "          if (!dataTable) return;\n",
              "\n",
              "          const docLinkHtml = 'Like what you see? Visit the ' +\n",
              "            '<a target=\"_blank\" href=https://colab.research.google.com/notebooks/data_table.ipynb>data table notebook</a>'\n",
              "            + ' to learn more about interactive tables.';\n",
              "          element.innerHTML = '';\n",
              "          dataTable['output_type'] = 'display_data';\n",
              "          await google.colab.output.renderOutput(dataTable, element);\n",
              "          const docLink = document.createElement('div');\n",
              "          docLink.innerHTML = docLinkHtml;\n",
              "          element.appendChild(docLink);\n",
              "        }\n",
              "      </script>\n",
              "    </div>\n",
              "  </div>\n",
              "  "
            ]
          },
          "metadata": {},
          "execution_count": 24
        }
      ]
    },
    {
      "cell_type": "code",
      "source": [
        "from collections import Counter\n",
        "cnt= Counter()\n",
        "\n",
        "for Comments in df['Comments'].values:\n",
        "  for word in Comments.split():\n",
        "    cnt[word]+=1\n",
        "cnt.most_common(3)"
      ],
      "metadata": {
        "colab": {
          "base_uri": "https://localhost:8080/"
        },
        "id": "-cw2Wxaf5F2f",
        "outputId": "e100d5a3-2cf2-4bb7-ea1f-4d63351de04e"
      },
      "execution_count": null,
      "outputs": [
        {
          "output_type": "execute_result",
          "data": {
            "text/plain": [
              "[('মানুষ', 278), ('যায়', 250), ('হয়ে', 243)]"
            ]
          },
          "metadata": {},
          "execution_count": 25
        }
      ]
    },
    {
      "cell_type": "code",
      "source": [
        "freq_words= set([w  for (w,wc) in cnt.most_common(3)])"
      ],
      "metadata": {
        "id": "JYJKP5I05IXn"
      },
      "execution_count": null,
      "outputs": []
    },
    {
      "cell_type": "code",
      "source": [
        "freq_words"
      ],
      "metadata": {
        "colab": {
          "base_uri": "https://localhost:8080/"
        },
        "id": "5bnlJ7Z45Ow9",
        "outputId": "dbee46a0-f205-47a8-dcf3-397b3b43740e"
      },
      "execution_count": null,
      "outputs": [
        {
          "output_type": "execute_result",
          "data": {
            "text/plain": [
              "{'মানুষ', 'যায়', 'হয়ে'}"
            ]
          },
          "metadata": {},
          "execution_count": 27
        }
      ]
    },
    {
      "cell_type": "code",
      "source": [
        "def remove_freq(x):\n",
        "    return \" \".join ([word for word in str(x).split() if word not in freq_words])\n",
        "df['Comments']=df['Comments'].apply(lambda x: remove_freq(x))\n"
      ],
      "metadata": {
        "id": "8-M55S-E5XZG"
      },
      "execution_count": null,
      "outputs": []
    },
    {
      "cell_type": "code",
      "source": [
        "df"
      ],
      "metadata": {
        "colab": {
          "base_uri": "https://localhost:8080/",
          "height": 423
        },
        "id": "YZaU7Q695c0_",
        "outputId": "498cfb85-a1a0-4c20-9493-4d8467a8784e"
      },
      "execution_count": null,
      "outputs": [
        {
          "output_type": "execute_result",
          "data": {
            "text/plain": [
              "                                               Comments  Target\n",
              "0     ছাড়া কারো জীবন থেমে নাহ কখনোই হ্যা হয়তো অনুভুত...       1\n",
              "1     এইজন্য বলি তোমাকে ছাড়া কষ্ট বেঁচে থাকবো হাসতে ...       1\n",
              "2     হ্যাঁ বেঁচে শরীরটা।জীবন কারো থেমে কিন্ত মনটা থ...       1\n",
              "3                                        পেয়ে লাগতো নাহ       1\n",
              "4                বাঁচবো ঠিকই কিন্তুু বাচার মোতো বাচবোনা       1\n",
              "...                                                 ...     ...\n",
              "5599  বছরেও শেষ হয়নি দিনাজপুরের নবাবগঞ্জ রংপুরের পীর...       0\n",
              "5600  করোনার কারণে দীর্ঘদিন বন্ধ থাকার আবারও নির্মাণ...       0\n",
              "5601  হয়েছে তথ্যটি নিশ্চিত পীরগঞ্জ উপজেলা প্রকৌশলী ম...       0\n",
              "5602  রংপুর জেলার পীরগঞ্জ উপজেলার প্রত্যন্ত পল্লী টু...       0\n",
              "5603  মেম্বার মানুষের সেবা কথা যেহেতু নেশায় পরিণত মৃ...       0\n",
              "\n",
              "[5218 rows x 2 columns]"
            ],
            "text/html": [
              "\n",
              "  <div id=\"df-ef1eb573-413d-41a9-8593-d2acb3562bcb\">\n",
              "    <div class=\"colab-df-container\">\n",
              "      <div>\n",
              "<style scoped>\n",
              "    .dataframe tbody tr th:only-of-type {\n",
              "        vertical-align: middle;\n",
              "    }\n",
              "\n",
              "    .dataframe tbody tr th {\n",
              "        vertical-align: top;\n",
              "    }\n",
              "\n",
              "    .dataframe thead th {\n",
              "        text-align: right;\n",
              "    }\n",
              "</style>\n",
              "<table border=\"1\" class=\"dataframe\">\n",
              "  <thead>\n",
              "    <tr style=\"text-align: right;\">\n",
              "      <th></th>\n",
              "      <th>Comments</th>\n",
              "      <th>Target</th>\n",
              "    </tr>\n",
              "  </thead>\n",
              "  <tbody>\n",
              "    <tr>\n",
              "      <th>0</th>\n",
              "      <td>ছাড়া কারো জীবন থেমে নাহ কখনোই হ্যা হয়তো অনুভুত...</td>\n",
              "      <td>1</td>\n",
              "    </tr>\n",
              "    <tr>\n",
              "      <th>1</th>\n",
              "      <td>এইজন্য বলি তোমাকে ছাড়া কষ্ট বেঁচে থাকবো হাসতে ...</td>\n",
              "      <td>1</td>\n",
              "    </tr>\n",
              "    <tr>\n",
              "      <th>2</th>\n",
              "      <td>হ্যাঁ বেঁচে শরীরটা।জীবন কারো থেমে কিন্ত মনটা থ...</td>\n",
              "      <td>1</td>\n",
              "    </tr>\n",
              "    <tr>\n",
              "      <th>3</th>\n",
              "      <td>পেয়ে লাগতো নাহ</td>\n",
              "      <td>1</td>\n",
              "    </tr>\n",
              "    <tr>\n",
              "      <th>4</th>\n",
              "      <td>বাঁচবো ঠিকই কিন্তুু বাচার মোতো বাচবোনা</td>\n",
              "      <td>1</td>\n",
              "    </tr>\n",
              "    <tr>\n",
              "      <th>...</th>\n",
              "      <td>...</td>\n",
              "      <td>...</td>\n",
              "    </tr>\n",
              "    <tr>\n",
              "      <th>5599</th>\n",
              "      <td>বছরেও শেষ হয়নি দিনাজপুরের নবাবগঞ্জ রংপুরের পীর...</td>\n",
              "      <td>0</td>\n",
              "    </tr>\n",
              "    <tr>\n",
              "      <th>5600</th>\n",
              "      <td>করোনার কারণে দীর্ঘদিন বন্ধ থাকার আবারও নির্মাণ...</td>\n",
              "      <td>0</td>\n",
              "    </tr>\n",
              "    <tr>\n",
              "      <th>5601</th>\n",
              "      <td>হয়েছে তথ্যটি নিশ্চিত পীরগঞ্জ উপজেলা প্রকৌশলী ম...</td>\n",
              "      <td>0</td>\n",
              "    </tr>\n",
              "    <tr>\n",
              "      <th>5602</th>\n",
              "      <td>রংপুর জেলার পীরগঞ্জ উপজেলার প্রত্যন্ত পল্লী টু...</td>\n",
              "      <td>0</td>\n",
              "    </tr>\n",
              "    <tr>\n",
              "      <th>5603</th>\n",
              "      <td>মেম্বার মানুষের সেবা কথা যেহেতু নেশায় পরিণত মৃ...</td>\n",
              "      <td>0</td>\n",
              "    </tr>\n",
              "  </tbody>\n",
              "</table>\n",
              "<p>5218 rows × 2 columns</p>\n",
              "</div>\n",
              "      <button class=\"colab-df-convert\" onclick=\"convertToInteractive('df-ef1eb573-413d-41a9-8593-d2acb3562bcb')\"\n",
              "              title=\"Convert this dataframe to an interactive table.\"\n",
              "              style=\"display:none;\">\n",
              "        \n",
              "  <svg xmlns=\"http://www.w3.org/2000/svg\" height=\"24px\"viewBox=\"0 0 24 24\"\n",
              "       width=\"24px\">\n",
              "    <path d=\"M0 0h24v24H0V0z\" fill=\"none\"/>\n",
              "    <path d=\"M18.56 5.44l.94 2.06.94-2.06 2.06-.94-2.06-.94-.94-2.06-.94 2.06-2.06.94zm-11 1L8.5 8.5l.94-2.06 2.06-.94-2.06-.94L8.5 2.5l-.94 2.06-2.06.94zm10 10l.94 2.06.94-2.06 2.06-.94-2.06-.94-.94-2.06-.94 2.06-2.06.94z\"/><path d=\"M17.41 7.96l-1.37-1.37c-.4-.4-.92-.59-1.43-.59-.52 0-1.04.2-1.43.59L10.3 9.45l-7.72 7.72c-.78.78-.78 2.05 0 2.83L4 21.41c.39.39.9.59 1.41.59.51 0 1.02-.2 1.41-.59l7.78-7.78 2.81-2.81c.8-.78.8-2.07 0-2.86zM5.41 20L4 18.59l7.72-7.72 1.47 1.35L5.41 20z\"/>\n",
              "  </svg>\n",
              "      </button>\n",
              "      \n",
              "  <style>\n",
              "    .colab-df-container {\n",
              "      display:flex;\n",
              "      flex-wrap:wrap;\n",
              "      gap: 12px;\n",
              "    }\n",
              "\n",
              "    .colab-df-convert {\n",
              "      background-color: #E8F0FE;\n",
              "      border: none;\n",
              "      border-radius: 50%;\n",
              "      cursor: pointer;\n",
              "      display: none;\n",
              "      fill: #1967D2;\n",
              "      height: 32px;\n",
              "      padding: 0 0 0 0;\n",
              "      width: 32px;\n",
              "    }\n",
              "\n",
              "    .colab-df-convert:hover {\n",
              "      background-color: #E2EBFA;\n",
              "      box-shadow: 0px 1px 2px rgba(60, 64, 67, 0.3), 0px 1px 3px 1px rgba(60, 64, 67, 0.15);\n",
              "      fill: #174EA6;\n",
              "    }\n",
              "\n",
              "    [theme=dark] .colab-df-convert {\n",
              "      background-color: #3B4455;\n",
              "      fill: #D2E3FC;\n",
              "    }\n",
              "\n",
              "    [theme=dark] .colab-df-convert:hover {\n",
              "      background-color: #434B5C;\n",
              "      box-shadow: 0px 1px 3px 1px rgba(0, 0, 0, 0.15);\n",
              "      filter: drop-shadow(0px 1px 2px rgba(0, 0, 0, 0.3));\n",
              "      fill: #FFFFFF;\n",
              "    }\n",
              "  </style>\n",
              "\n",
              "      <script>\n",
              "        const buttonEl =\n",
              "          document.querySelector('#df-ef1eb573-413d-41a9-8593-d2acb3562bcb button.colab-df-convert');\n",
              "        buttonEl.style.display =\n",
              "          google.colab.kernel.accessAllowed ? 'block' : 'none';\n",
              "\n",
              "        async function convertToInteractive(key) {\n",
              "          const element = document.querySelector('#df-ef1eb573-413d-41a9-8593-d2acb3562bcb');\n",
              "          const dataTable =\n",
              "            await google.colab.kernel.invokeFunction('convertToInteractive',\n",
              "                                                     [key], {});\n",
              "          if (!dataTable) return;\n",
              "\n",
              "          const docLinkHtml = 'Like what you see? Visit the ' +\n",
              "            '<a target=\"_blank\" href=https://colab.research.google.com/notebooks/data_table.ipynb>data table notebook</a>'\n",
              "            + ' to learn more about interactive tables.';\n",
              "          element.innerHTML = '';\n",
              "          dataTable['output_type'] = 'display_data';\n",
              "          await google.colab.output.renderOutput(dataTable, element);\n",
              "          const docLink = document.createElement('div');\n",
              "          docLink.innerHTML = docLinkHtml;\n",
              "          element.appendChild(docLink);\n",
              "        }\n",
              "      </script>\n",
              "    </div>\n",
              "  </div>\n",
              "  "
            ]
          },
          "metadata": {},
          "execution_count": 29
        }
      ]
    },
    {
      "cell_type": "code",
      "execution_count": null,
      "metadata": {
        "id": "g_PnQ6i2wL-y"
      },
      "outputs": [],
      "source": [
        "x = df.Comments.values\n",
        "y = df.Target.values"
      ]
    },
    {
      "cell_type": "code",
      "execution_count": null,
      "metadata": {
        "id": "sYrzW-dxwPBM"
      },
      "outputs": [],
      "source": [
        "from sklearn.model_selection import train_test_split"
      ]
    },
    {
      "cell_type": "code",
      "execution_count": null,
      "metadata": {
        "id": "jE0yW3hswSBk"
      },
      "outputs": [],
      "source": [
        "xtrain,xtest,ytrain,ytest = train_test_split(x,y,test_size=0.2)"
      ]
    },
    {
      "cell_type": "code",
      "execution_count": null,
      "metadata": {
        "id": "6Xl7BsacwWEb"
      },
      "outputs": [],
      "source": [
        "from sklearn.feature_extraction.text import TfidfVectorizer\n",
        "from sklearn.naive_bayes import MultinomialNB\n",
        "from sklearn.pipeline import make_pipeline"
      ]
    },
    {
      "cell_type": "code",
      "execution_count": null,
      "metadata": {
        "id": "zDNY1UZpwZCk"
      },
      "outputs": [],
      "source": [
        "model = make_pipeline(TfidfVectorizer(),MultinomialNB())"
      ]
    },
    {
      "cell_type": "code",
      "execution_count": null,
      "metadata": {
        "id": "q7ksubUSwdvx",
        "colab": {
          "base_uri": "https://localhost:8080/",
          "height": 124
        },
        "outputId": "c3937491-96e2-4a9b-dac9-80166c24a3b4"
      },
      "outputs": [
        {
          "output_type": "execute_result",
          "data": {
            "text/plain": [
              "Pipeline(steps=[('tfidfvectorizer', TfidfVectorizer()),\n",
              "                ('multinomialnb', MultinomialNB())])"
            ],
            "text/html": [
              "<style>#sk-container-id-1 {color: black;background-color: white;}#sk-container-id-1 pre{padding: 0;}#sk-container-id-1 div.sk-toggleable {background-color: white;}#sk-container-id-1 label.sk-toggleable__label {cursor: pointer;display: block;width: 100%;margin-bottom: 0;padding: 0.3em;box-sizing: border-box;text-align: center;}#sk-container-id-1 label.sk-toggleable__label-arrow:before {content: \"▸\";float: left;margin-right: 0.25em;color: #696969;}#sk-container-id-1 label.sk-toggleable__label-arrow:hover:before {color: black;}#sk-container-id-1 div.sk-estimator:hover label.sk-toggleable__label-arrow:before {color: black;}#sk-container-id-1 div.sk-toggleable__content {max-height: 0;max-width: 0;overflow: hidden;text-align: left;background-color: #f0f8ff;}#sk-container-id-1 div.sk-toggleable__content pre {margin: 0.2em;color: black;border-radius: 0.25em;background-color: #f0f8ff;}#sk-container-id-1 input.sk-toggleable__control:checked~div.sk-toggleable__content {max-height: 200px;max-width: 100%;overflow: auto;}#sk-container-id-1 input.sk-toggleable__control:checked~label.sk-toggleable__label-arrow:before {content: \"▾\";}#sk-container-id-1 div.sk-estimator input.sk-toggleable__control:checked~label.sk-toggleable__label {background-color: #d4ebff;}#sk-container-id-1 div.sk-label input.sk-toggleable__control:checked~label.sk-toggleable__label {background-color: #d4ebff;}#sk-container-id-1 input.sk-hidden--visually {border: 0;clip: rect(1px 1px 1px 1px);clip: rect(1px, 1px, 1px, 1px);height: 1px;margin: -1px;overflow: hidden;padding: 0;position: absolute;width: 1px;}#sk-container-id-1 div.sk-estimator {font-family: monospace;background-color: #f0f8ff;border: 1px dotted black;border-radius: 0.25em;box-sizing: border-box;margin-bottom: 0.5em;}#sk-container-id-1 div.sk-estimator:hover {background-color: #d4ebff;}#sk-container-id-1 div.sk-parallel-item::after {content: \"\";width: 100%;border-bottom: 1px solid gray;flex-grow: 1;}#sk-container-id-1 div.sk-label:hover label.sk-toggleable__label {background-color: #d4ebff;}#sk-container-id-1 div.sk-serial::before {content: \"\";position: absolute;border-left: 1px solid gray;box-sizing: border-box;top: 0;bottom: 0;left: 50%;z-index: 0;}#sk-container-id-1 div.sk-serial {display: flex;flex-direction: column;align-items: center;background-color: white;padding-right: 0.2em;padding-left: 0.2em;position: relative;}#sk-container-id-1 div.sk-item {position: relative;z-index: 1;}#sk-container-id-1 div.sk-parallel {display: flex;align-items: stretch;justify-content: center;background-color: white;position: relative;}#sk-container-id-1 div.sk-item::before, #sk-container-id-1 div.sk-parallel-item::before {content: \"\";position: absolute;border-left: 1px solid gray;box-sizing: border-box;top: 0;bottom: 0;left: 50%;z-index: -1;}#sk-container-id-1 div.sk-parallel-item {display: flex;flex-direction: column;z-index: 1;position: relative;background-color: white;}#sk-container-id-1 div.sk-parallel-item:first-child::after {align-self: flex-end;width: 50%;}#sk-container-id-1 div.sk-parallel-item:last-child::after {align-self: flex-start;width: 50%;}#sk-container-id-1 div.sk-parallel-item:only-child::after {width: 0;}#sk-container-id-1 div.sk-dashed-wrapped {border: 1px dashed gray;margin: 0 0.4em 0.5em 0.4em;box-sizing: border-box;padding-bottom: 0.4em;background-color: white;}#sk-container-id-1 div.sk-label label {font-family: monospace;font-weight: bold;display: inline-block;line-height: 1.2em;}#sk-container-id-1 div.sk-label-container {text-align: center;}#sk-container-id-1 div.sk-container {/* jupyter's `normalize.less` sets `[hidden] { display: none; }` but bootstrap.min.css set `[hidden] { display: none !important; }` so we also need the `!important` here to be able to override the default hidden behavior on the sphinx rendered scikit-learn.org. See: https://github.com/scikit-learn/scikit-learn/issues/21755 */display: inline-block !important;position: relative;}#sk-container-id-1 div.sk-text-repr-fallback {display: none;}</style><div id=\"sk-container-id-1\" class=\"sk-top-container\"><div class=\"sk-text-repr-fallback\"><pre>Pipeline(steps=[(&#x27;tfidfvectorizer&#x27;, TfidfVectorizer()),\n",
              "                (&#x27;multinomialnb&#x27;, MultinomialNB())])</pre><b>In a Jupyter environment, please rerun this cell to show the HTML representation or trust the notebook. <br />On GitHub, the HTML representation is unable to render, please try loading this page with nbviewer.org.</b></div><div class=\"sk-container\" hidden><div class=\"sk-item sk-dashed-wrapped\"><div class=\"sk-label-container\"><div class=\"sk-label sk-toggleable\"><input class=\"sk-toggleable__control sk-hidden--visually\" id=\"sk-estimator-id-1\" type=\"checkbox\" ><label for=\"sk-estimator-id-1\" class=\"sk-toggleable__label sk-toggleable__label-arrow\">Pipeline</label><div class=\"sk-toggleable__content\"><pre>Pipeline(steps=[(&#x27;tfidfvectorizer&#x27;, TfidfVectorizer()),\n",
              "                (&#x27;multinomialnb&#x27;, MultinomialNB())])</pre></div></div></div><div class=\"sk-serial\"><div class=\"sk-item\"><div class=\"sk-estimator sk-toggleable\"><input class=\"sk-toggleable__control sk-hidden--visually\" id=\"sk-estimator-id-2\" type=\"checkbox\" ><label for=\"sk-estimator-id-2\" class=\"sk-toggleable__label sk-toggleable__label-arrow\">TfidfVectorizer</label><div class=\"sk-toggleable__content\"><pre>TfidfVectorizer()</pre></div></div></div><div class=\"sk-item\"><div class=\"sk-estimator sk-toggleable\"><input class=\"sk-toggleable__control sk-hidden--visually\" id=\"sk-estimator-id-3\" type=\"checkbox\" ><label for=\"sk-estimator-id-3\" class=\"sk-toggleable__label sk-toggleable__label-arrow\">MultinomialNB</label><div class=\"sk-toggleable__content\"><pre>MultinomialNB()</pre></div></div></div></div></div></div></div>"
            ]
          },
          "metadata": {},
          "execution_count": 35
        }
      ],
      "source": [
        "model.fit(xtrain,ytrain)"
      ]
    },
    {
      "cell_type": "code",
      "execution_count": null,
      "metadata": {
        "id": "indEw24Uwtlt"
      },
      "outputs": [],
      "source": [
        "labels = model.predict(xtest)"
      ]
    },
    {
      "cell_type": "code",
      "execution_count": null,
      "metadata": {
        "id": "K2XjjNtpwyAM"
      },
      "outputs": [],
      "source": [
        "from sklearn.metrics import confusion_matrix\n",
        "from sklearn.metrics import accuracy_score\n",
        "import matplotlib.pyplot as plt\n",
        "import seaborn as sns; sns.set()\n"
      ]
    },
    {
      "cell_type": "code",
      "execution_count": null,
      "metadata": {
        "id": "1R6TqIacw0OO"
      },
      "outputs": [],
      "source": [
        "result = accuracy_score(ytest,labels)"
      ]
    },
    {
      "cell_type": "code",
      "source": [
        "accuracies.append(result)\n",
        "accuracies"
      ],
      "metadata": {
        "colab": {
          "base_uri": "https://localhost:8080/"
        },
        "id": "_XdqnjDA3Jst",
        "outputId": "915b8df3-3b09-4777-d5d4-c9b0ddb30fde"
      },
      "execution_count": null,
      "outputs": [
        {
          "output_type": "execute_result",
          "data": {
            "text/plain": [
              "[0.7289272030651341]"
            ]
          },
          "metadata": {},
          "execution_count": 39
        }
      ]
    },
    {
      "cell_type": "code",
      "execution_count": null,
      "metadata": {
        "id": "5k5vV4pI1Zjh",
        "colab": {
          "base_uri": "https://localhost:8080/"
        },
        "outputId": "339a9f92-1181-498c-a48a-6b015e051c3e"
      },
      "outputs": [
        {
          "output_type": "execute_result",
          "data": {
            "text/plain": [
              "array([[262, 214],\n",
              "       [ 69, 499]])"
            ]
          },
          "metadata": {},
          "execution_count": 40
        }
      ],
      "source": [
        "cf = confusion_matrix(ytest,labels)\n",
        "cf"
      ]
    },
    {
      "cell_type": "code",
      "source": [
        "from sklearn.metrics import classification_report"
      ],
      "metadata": {
        "id": "gV7oz3DKVGwu"
      },
      "execution_count": null,
      "outputs": []
    },
    {
      "cell_type": "code",
      "source": [
        "print(classification_report(ytest,labels))"
      ],
      "metadata": {
        "id": "sVuh-GSkWmkg",
        "colab": {
          "base_uri": "https://localhost:8080/"
        },
        "outputId": "1615dfd0-308a-40d0-a407-fa14413a0698"
      },
      "execution_count": null,
      "outputs": [
        {
          "output_type": "stream",
          "name": "stdout",
          "text": [
            "              precision    recall  f1-score   support\n",
            "\n",
            "           0       0.79      0.55      0.65       476\n",
            "           1       0.70      0.88      0.78       568\n",
            "\n",
            "    accuracy                           0.73      1044\n",
            "   macro avg       0.75      0.71      0.71      1044\n",
            "weighted avg       0.74      0.73      0.72      1044\n",
            "\n"
          ]
        }
      ]
    },
    {
      "cell_type": "code",
      "execution_count": null,
      "metadata": {
        "id": "5a9e8WHc1a0t",
        "colab": {
          "base_uri": "https://localhost:8080/",
          "height": 451
        },
        "outputId": "853bf9ab-c243-400f-93b1-ff8d69ea5762"
      },
      "outputs": [
        {
          "output_type": "execute_result",
          "data": {
            "text/plain": [
              "<Axes: >"
            ]
          },
          "metadata": {},
          "execution_count": 43
        },
        {
          "output_type": "display_data",
          "data": {
            "text/plain": [
              "<Figure size 640x480 with 2 Axes>"
            ],
            "image/png": "[encoded data removed]"
          },
          "metadata": {}
        }
      ],
      "source": [
        "sns.heatmap(cf,cmap=\"Greens\", annot = True)\n"
      ]
    },
    {
      "cell_type": "code",
      "source": [
        "from sklearn.feature_extraction.text import CountVectorizer"
      ],
      "metadata": {
        "id": "NpSTorlHmjeo"
      },
      "execution_count": null,
      "outputs": []
    },
    {
      "cell_type": "code",
      "source": [
        "cv=CountVectorizer()\n",
        "x_train=cv.fit_transform(xtrain)"
      ],
      "metadata": {
        "id": "r0sqkHEbm6FT"
      },
      "execution_count": null,
      "outputs": []
    },
    {
      "cell_type": "code",
      "source": [
        "x_train.toarray()"
      ],
      "metadata": {
        "colab": {
          "base_uri": "https://localhost:8080/"
        },
        "id": "1eWb-NXfnZ-C",
        "outputId": "18a5ac47-3be4-4bb4-86a8-e2311f8b519e"
      },
      "execution_count": null,
      "outputs": [
        {
          "output_type": "execute_result",
          "data": {
            "text/plain": [
              "array([[0, 0, 0, ..., 0, 0, 0],\n",
              "       [0, 0, 0, ..., 0, 0, 0],\n",
              "       [0, 0, 0, ..., 0, 0, 0],\n",
              "       ...,\n",
              "       [0, 0, 0, ..., 0, 0, 0],\n",
              "       [0, 0, 0, ..., 0, 0, 0],\n",
              "       [0, 0, 0, ..., 0, 0, 0]])"
            ]
          },
          "metadata": {},
          "execution_count": 46
        }
      ]
    },
    {
      "cell_type": "code",
      "source": [
        "from sklearn.naive_bayes import MultinomialNB"
      ],
      "metadata": {
        "id": "LHdLEgl4n7EG"
      },
      "execution_count": null,
      "outputs": []
    },
    {
      "cell_type": "code",
      "source": [
        "model = MultinomialNB()\n",
        "model.fit(x_train,ytrain)"
      ],
      "metadata": {
        "colab": {
          "base_uri": "https://localhost:8080/",
          "height": 74
        },
        "id": "gwLZCUeBoA35",
        "outputId": "7e5bc490-040a-4c48-a4fa-cd68f18edf65"
      },
      "execution_count": null,
      "outputs": [
        {
          "output_type": "execute_result",
          "data": {
            "text/plain": [
              "MultinomialNB()"
            ],
            "text/html": [
              "<style>#sk-container-id-2 {color: black;background-color: white;}#sk-container-id-2 pre{padding: 0;}#sk-container-id-2 div.sk-toggleable {background-color: white;}#sk-container-id-2 label.sk-toggleable__label {cursor: pointer;display: block;width: 100%;margin-bottom: 0;padding: 0.3em;box-sizing: border-box;text-align: center;}#sk-container-id-2 label.sk-toggleable__label-arrow:before {content: \"▸\";float: left;margin-right: 0.25em;color: #696969;}#sk-container-id-2 label.sk-toggleable__label-arrow:hover:before {color: black;}#sk-container-id-2 div.sk-estimator:hover label.sk-toggleable__label-arrow:before {color: black;}#sk-container-id-2 div.sk-toggleable__content {max-height: 0;max-width: 0;overflow: hidden;text-align: left;background-color: #f0f8ff;}#sk-container-id-2 div.sk-toggleable__content pre {margin: 0.2em;color: black;border-radius: 0.25em;background-color: #f0f8ff;}#sk-container-id-2 input.sk-toggleable__control:checked~div.sk-toggleable__content {max-height: 200px;max-width: 100%;overflow: auto;}#sk-container-id-2 input.sk-toggleable__control:checked~label.sk-toggleable__label-arrow:before {content: \"▾\";}#sk-container-id-2 div.sk-estimator input.sk-toggleable__control:checked~label.sk-toggleable__label {background-color: #d4ebff;}#sk-container-id-2 div.sk-label input.sk-toggleable__control:checked~label.sk-toggleable__label {background-color: #d4ebff;}#sk-container-id-2 input.sk-hidden--visually {border: 0;clip: rect(1px 1px 1px 1px);clip: rect(1px, 1px, 1px, 1px);height: 1px;margin: -1px;overflow: hidden;padding: 0;position: absolute;width: 1px;}#sk-container-id-2 div.sk-estimator {font-family: monospace;background-color: #f0f8ff;border: 1px dotted black;border-radius: 0.25em;box-sizing: border-box;margin-bottom: 0.5em;}#sk-container-id-2 div.sk-estimator:hover {background-color: #d4ebff;}#sk-container-id-2 div.sk-parallel-item::after {content: \"\";width: 100%;border-bottom: 1px solid gray;flex-grow: 1;}#sk-container-id-2 div.sk-label:hover label.sk-toggleable__label {background-color: #d4ebff;}#sk-container-id-2 div.sk-serial::before {content: \"\";position: absolute;border-left: 1px solid gray;box-sizing: border-box;top: 0;bottom: 0;left: 50%;z-index: 0;}#sk-container-id-2 div.sk-serial {display: flex;flex-direction: column;align-items: center;background-color: white;padding-right: 0.2em;padding-left: 0.2em;position: relative;}#sk-container-id-2 div.sk-item {position: relative;z-index: 1;}#sk-container-id-2 div.sk-parallel {display: flex;align-items: stretch;justify-content: center;background-color: white;position: relative;}#sk-container-id-2 div.sk-item::before, #sk-container-id-2 div.sk-parallel-item::before {content: \"\";position: absolute;border-left: 1px solid gray;box-sizing: border-box;top: 0;bottom: 0;left: 50%;z-index: -1;}#sk-container-id-2 div.sk-parallel-item {display: flex;flex-direction: column;z-index: 1;position: relative;background-color: white;}#sk-container-id-2 div.sk-parallel-item:first-child::after {align-self: flex-end;width: 50%;}#sk-container-id-2 div.sk-parallel-item:last-child::after {align-self: flex-start;width: 50%;}#sk-container-id-2 div.sk-parallel-item:only-child::after {width: 0;}#sk-container-id-2 div.sk-dashed-wrapped {border: 1px dashed gray;margin: 0 0.4em 0.5em 0.4em;box-sizing: border-box;padding-bottom: 0.4em;background-color: white;}#sk-container-id-2 div.sk-label label {font-family: monospace;font-weight: bold;display: inline-block;line-height: 1.2em;}#sk-container-id-2 div.sk-label-container {text-align: center;}#sk-container-id-2 div.sk-container {/* jupyter's `normalize.less` sets `[hidden] { display: none; }` but bootstrap.min.css set `[hidden] { display: none !important; }` so we also need the `!important` here to be able to override the default hidden behavior on the sphinx rendered scikit-learn.org. See: https://github.com/scikit-learn/scikit-learn/issues/21755 */display: inline-block !important;position: relative;}#sk-container-id-2 div.sk-text-repr-fallback {display: none;}</style><div id=\"sk-container-id-2\" class=\"sk-top-container\"><div class=\"sk-text-repr-fallback\"><pre>MultinomialNB()</pre><b>In a Jupyter environment, please rerun this cell to show the HTML representation or trust the notebook. <br />On GitHub, the HTML representation is unable to render, please try loading this page with nbviewer.org.</b></div><div class=\"sk-container\" hidden><div class=\"sk-item\"><div class=\"sk-estimator sk-toggleable\"><input class=\"sk-toggleable__control sk-hidden--visually\" id=\"sk-estimator-id-4\" type=\"checkbox\" checked><label for=\"sk-estimator-id-4\" class=\"sk-toggleable__label sk-toggleable__label-arrow\">MultinomialNB</label><div class=\"sk-toggleable__content\"><pre>MultinomialNB()</pre></div></div></div></div></div>"
            ]
          },
          "metadata": {},
          "execution_count": 48
        }
      ]
    },
    {
      "cell_type": "code",
      "source": [
        "x_test = cv.transform(xtest)"
      ],
      "metadata": {
        "id": "dOdptwIioNxb"
      },
      "execution_count": null,
      "outputs": []
    },
    {
      "cell_type": "code",
      "source": [
        "x_test.toarray()"
      ],
      "metadata": {
        "colab": {
          "base_uri": "https://localhost:8080/"
        },
        "id": "j8q3V06boV6A",
        "outputId": "67c32369-48ae-4b1d-8101-0a60a08f1258"
      },
      "execution_count": null,
      "outputs": [
        {
          "output_type": "execute_result",
          "data": {
            "text/plain": [
              "array([[0, 0, 0, ..., 0, 0, 0],\n",
              "       [0, 0, 0, ..., 0, 0, 0],\n",
              "       [0, 0, 0, ..., 0, 0, 0],\n",
              "       ...,\n",
              "       [0, 0, 0, ..., 0, 0, 0],\n",
              "       [0, 0, 0, ..., 0, 0, 0],\n",
              "       [0, 0, 0, ..., 0, 0, 0]])"
            ]
          },
          "metadata": {},
          "execution_count": 50
        }
      ]
    },
    {
      "cell_type": "code",
      "source": [
        "result=model.score(x_test,ytest)"
      ],
      "metadata": {
        "id": "N_BQtiWzo0YD"
      },
      "execution_count": null,
      "outputs": []
    },
    {
      "cell_type": "code",
      "source": [
        "accuracies.append(result)\n",
        "accuracies"
      ],
      "metadata": {
        "colab": {
          "base_uri": "https://localhost:8080/"
        },
        "id": "nhDO5EUx3nqI",
        "outputId": "5062f26a-f0b3-4be2-9656-549dd72e3821"
      },
      "execution_count": null,
      "outputs": [
        {
          "output_type": "execute_result",
          "data": {
            "text/plain": [
              "[0.7289272030651341, 0.7155172413793104]"
            ]
          },
          "metadata": {},
          "execution_count": 52
        }
      ]
    },
    {
      "cell_type": "code",
      "execution_count": null,
      "metadata": {
        "id": "t-W50DlP1fhe"
      },
      "outputs": [],
      "source": [
        "from sklearn.svm import SVC"
      ]
    },
    {
      "cell_type": "code",
      "execution_count": null,
      "metadata": {
        "id": "QY-NN2CC1jaJ",
        "colab": {
          "base_uri": "https://localhost:8080/",
          "height": 124
        },
        "outputId": "9c307e6a-fe91-465a-b248-f85d4228027b"
      },
      "outputs": [
        {
          "output_type": "execute_result",
          "data": {
            "text/plain": [
              "Pipeline(steps=[('tfidfvectorizer', TfidfVectorizer()), ('svc', SVC())])"
            ],
            "text/html": [
              "<style>#sk-container-id-3 {color: black;background-color: white;}#sk-container-id-3 pre{padding: 0;}#sk-container-id-3 div.sk-toggleable {background-color: white;}#sk-container-id-3 label.sk-toggleable__label {cursor: pointer;display: block;width: 100%;margin-bottom: 0;padding: 0.3em;box-sizing: border-box;text-align: center;}#sk-container-id-3 label.sk-toggleable__label-arrow:before {content: \"▸\";float: left;margin-right: 0.25em;color: #696969;}#sk-container-id-3 label.sk-toggleable__label-arrow:hover:before {color: black;}#sk-container-id-3 div.sk-estimator:hover label.sk-toggleable__label-arrow:before {color: black;}#sk-container-id-3 div.sk-toggleable__content {max-height: 0;max-width: 0;overflow: hidden;text-align: left;background-color: #f0f8ff;}#sk-container-id-3 div.sk-toggleable__content pre {margin: 0.2em;color: black;border-radius: 0.25em;background-color: #f0f8ff;}#sk-container-id-3 input.sk-toggleable__control:checked~div.sk-toggleable__content {max-height: 200px;max-width: 100%;overflow: auto;}#sk-container-id-3 input.sk-toggleable__control:checked~label.sk-toggleable__label-arrow:before {content: \"▾\";}#sk-container-id-3 div.sk-estimator input.sk-toggleable__control:checked~label.sk-toggleable__label {background-color: #d4ebff;}#sk-container-id-3 div.sk-label input.sk-toggleable__control:checked~label.sk-toggleable__label {background-color: #d4ebff;}#sk-container-id-3 input.sk-hidden--visually {border: 0;clip: rect(1px 1px 1px 1px);clip: rect(1px, 1px, 1px, 1px);height: 1px;margin: -1px;overflow: hidden;padding: 0;position: absolute;width: 1px;}#sk-container-id-3 div.sk-estimator {font-family: monospace;background-color: #f0f8ff;border: 1px dotted black;border-radius: 0.25em;box-sizing: border-box;margin-bottom: 0.5em;}#sk-container-id-3 div.sk-estimator:hover {background-color: #d4ebff;}#sk-container-id-3 div.sk-parallel-item::after {content: \"\";width: 100%;border-bottom: 1px solid gray;flex-grow: 1;}#sk-container-id-3 div.sk-label:hover label.sk-toggleable__label {background-color: #d4ebff;}#sk-container-id-3 div.sk-serial::before {content: \"\";position: absolute;border-left: 1px solid gray;box-sizing: border-box;top: 0;bottom: 0;left: 50%;z-index: 0;}#sk-container-id-3 div.sk-serial {display: flex;flex-direction: column;align-items: center;background-color: white;padding-right: 0.2em;padding-left: 0.2em;position: relative;}#sk-container-id-3 div.sk-item {position: relative;z-index: 1;}#sk-container-id-3 div.sk-parallel {display: flex;align-items: stretch;justify-content: center;background-color: white;position: relative;}#sk-container-id-3 div.sk-item::before, #sk-container-id-3 div.sk-parallel-item::before {content: \"\";position: absolute;border-left: 1px solid gray;box-sizing: border-box;top: 0;bottom: 0;left: 50%;z-index: -1;}#sk-container-id-3 div.sk-parallel-item {display: flex;flex-direction: column;z-index: 1;position: relative;background-color: white;}#sk-container-id-3 div.sk-parallel-item:first-child::after {align-self: flex-end;width: 50%;}#sk-container-id-3 div.sk-parallel-item:last-child::after {align-self: flex-start;width: 50%;}#sk-container-id-3 div.sk-parallel-item:only-child::after {width: 0;}#sk-container-id-3 div.sk-dashed-wrapped {border: 1px dashed gray;margin: 0 0.4em 0.5em 0.4em;box-sizing: border-box;padding-bottom: 0.4em;background-color: white;}#sk-container-id-3 div.sk-label label {font-family: monospace;font-weight: bold;display: inline-block;line-height: 1.2em;}#sk-container-id-3 div.sk-label-container {text-align: center;}#sk-container-id-3 div.sk-container {/* jupyter's `normalize.less` sets `[hidden] { display: none; }` but bootstrap.min.css set `[hidden] { display: none !important; }` so we also need the `!important` here to be able to override the default hidden behavior on the sphinx rendered scikit-learn.org. See: https://github.com/scikit-learn/scikit-learn/issues/21755 */display: inline-block !important;position: relative;}#sk-container-id-3 div.sk-text-repr-fallback {display: none;}</style><div id=\"sk-container-id-3\" class=\"sk-top-container\"><div class=\"sk-text-repr-fallback\"><pre>Pipeline(steps=[(&#x27;tfidfvectorizer&#x27;, TfidfVectorizer()), (&#x27;svc&#x27;, SVC())])</pre><b>In a Jupyter environment, please rerun this cell to show the HTML representation or trust the notebook. <br />On GitHub, the HTML representation is unable to render, please try loading this page with nbviewer.org.</b></div><div class=\"sk-container\" hidden><div class=\"sk-item sk-dashed-wrapped\"><div class=\"sk-label-container\"><div class=\"sk-label sk-toggleable\"><input class=\"sk-toggleable__control sk-hidden--visually\" id=\"sk-estimator-id-5\" type=\"checkbox\" ><label for=\"sk-estimator-id-5\" class=\"sk-toggleable__label sk-toggleable__label-arrow\">Pipeline</label><div class=\"sk-toggleable__content\"><pre>Pipeline(steps=[(&#x27;tfidfvectorizer&#x27;, TfidfVectorizer()), (&#x27;svc&#x27;, SVC())])</pre></div></div></div><div class=\"sk-serial\"><div class=\"sk-item\"><div class=\"sk-estimator sk-toggleable\"><input class=\"sk-toggleable__control sk-hidden--visually\" id=\"sk-estimator-id-6\" type=\"checkbox\" ><label for=\"sk-estimator-id-6\" class=\"sk-toggleable__label sk-toggleable__label-arrow\">TfidfVectorizer</label><div class=\"sk-toggleable__content\"><pre>TfidfVectorizer()</pre></div></div></div><div class=\"sk-item\"><div class=\"sk-estimator sk-toggleable\"><input class=\"sk-toggleable__control sk-hidden--visually\" id=\"sk-estimator-id-7\" type=\"checkbox\" ><label for=\"sk-estimator-id-7\" class=\"sk-toggleable__label sk-toggleable__label-arrow\">SVC</label><div class=\"sk-toggleable__content\"><pre>SVC()</pre></div></div></div></div></div></div></div>"
            ]
          },
          "metadata": {},
          "execution_count": 54
        }
      ],
      "source": [
        "model = make_pipeline(TfidfVectorizer(),SVC())\n",
        "model.fit(xtrain,ytrain)"
      ]
    },
    {
      "cell_type": "code",
      "execution_count": null,
      "metadata": {
        "id": "GBW2NEpn1pkj"
      },
      "outputs": [],
      "source": [
        "labels = model.predict(xtest)"
      ]
    },
    {
      "cell_type": "code",
      "execution_count": null,
      "metadata": {
        "id": "FHk3I-441vTl"
      },
      "outputs": [],
      "source": [
        "result=accuracy_score(ytest,labels)"
      ]
    },
    {
      "cell_type": "code",
      "source": [
        "accuracies.append(result)\n",
        "accuracies"
      ],
      "metadata": {
        "colab": {
          "base_uri": "https://localhost:8080/"
        },
        "id": "5Sl5uIYs3t4O",
        "outputId": "f3147857-0097-4ebb-f324-207784cd7ada"
      },
      "execution_count": null,
      "outputs": [
        {
          "output_type": "execute_result",
          "data": {
            "text/plain": [
              "[0.7289272030651341, 0.7155172413793104, 0.7289272030651341]"
            ]
          },
          "metadata": {},
          "execution_count": 57
        }
      ]
    },
    {
      "cell_type": "code",
      "execution_count": null,
      "metadata": {
        "id": "aILwrWvC1wmc",
        "colab": {
          "base_uri": "https://localhost:8080/"
        },
        "outputId": "e060def8-4c66-4526-be1d-d028f7b7c005"
      },
      "outputs": [
        {
          "output_type": "execute_result",
          "data": {
            "text/plain": [
              "array([[303, 173],\n",
              "       [110, 458]])"
            ]
          },
          "metadata": {},
          "execution_count": 58
        }
      ],
      "source": [
        "cf = confusion_matrix(ytest,labels)\n",
        "cf"
      ]
    },
    {
      "cell_type": "code",
      "execution_count": null,
      "metadata": {
        "id": "KlYjZEAu2L0y",
        "colab": {
          "base_uri": "https://localhost:8080/",
          "height": 451
        },
        "outputId": "16c92991-f4ff-42f7-c077-62962093453b"
      },
      "outputs": [
        {
          "output_type": "execute_result",
          "data": {
            "text/plain": [
              "<Axes: >"
            ]
          },
          "metadata": {},
          "execution_count": 59
        },
        {
          "output_type": "display_data",
          "data": {
            "text/plain": [
              "<Figure size 640x480 with 2 Axes>"
            ],
            "image/png": "[encoded data removed]"
          },
          "metadata": {}
        }
      ],
      "source": [
        "sns.heatmap(cf,cmap=\"Greens\", annot = True)"
      ]
    },
    {
      "cell_type": "code",
      "source": [
        "from sklearn.metrics import classification_report"
      ],
      "metadata": {
        "id": "b45XOo4hMYGe"
      },
      "execution_count": null,
      "outputs": []
    },
    {
      "cell_type": "code",
      "source": [
        "print(classification_report(ytest,labels))"
      ],
      "metadata": {
        "colab": {
          "base_uri": "https://localhost:8080/"
        },
        "id": "hjM3-0dCMdjM",
        "outputId": "2406864e-75ef-4fe1-c692-f8e698050c58"
      },
      "execution_count": null,
      "outputs": [
        {
          "output_type": "stream",
          "name": "stdout",
          "text": [
            "              precision    recall  f1-score   support\n",
            "\n",
            "           0       0.73      0.64      0.68       476\n",
            "           1       0.73      0.81      0.76       568\n",
            "\n",
            "    accuracy                           0.73      1044\n",
            "   macro avg       0.73      0.72      0.72      1044\n",
            "weighted avg       0.73      0.73      0.73      1044\n",
            "\n"
          ]
        }
      ]
    },
    {
      "cell_type": "code",
      "execution_count": null,
      "metadata": {
        "id": "LN9cqIkZ4Aoa"
      },
      "outputs": [],
      "source": [
        "from sklearn.neighbors import KNeighborsClassifier"
      ]
    },
    {
      "cell_type": "code",
      "execution_count": null,
      "metadata": {
        "id": "GdtLkVUj4Wd6",
        "colab": {
          "base_uri": "https://localhost:8080/",
          "height": 124
        },
        "outputId": "e19792ad-ac2f-4280-eeee-46355c5bd411"
      },
      "outputs": [
        {
          "output_type": "execute_result",
          "data": {
            "text/plain": [
              "Pipeline(steps=[('tfidfvectorizer', TfidfVectorizer()),\n",
              "                ('kneighborsclassifier', KNeighborsClassifier())])"
            ],
            "text/html": [
              "<style>#sk-container-id-4 {color: black;background-color: white;}#sk-container-id-4 pre{padding: 0;}#sk-container-id-4 div.sk-toggleable {background-color: white;}#sk-container-id-4 label.sk-toggleable__label {cursor: pointer;display: block;width: 100%;margin-bottom: 0;padding: 0.3em;box-sizing: border-box;text-align: center;}#sk-container-id-4 label.sk-toggleable__label-arrow:before {content: \"▸\";float: left;margin-right: 0.25em;color: #696969;}#sk-container-id-4 label.sk-toggleable__label-arrow:hover:before {color: black;}#sk-container-id-4 div.sk-estimator:hover label.sk-toggleable__label-arrow:before {color: black;}#sk-container-id-4 div.sk-toggleable__content {max-height: 0;max-width: 0;overflow: hidden;text-align: left;background-color: #f0f8ff;}#sk-container-id-4 div.sk-toggleable__content pre {margin: 0.2em;color: black;border-radius: 0.25em;background-color: #f0f8ff;}#sk-container-id-4 input.sk-toggleable__control:checked~div.sk-toggleable__content {max-height: 200px;max-width: 100%;overflow: auto;}#sk-container-id-4 input.sk-toggleable__control:checked~label.sk-toggleable__label-arrow:before {content: \"▾\";}#sk-container-id-4 div.sk-estimator input.sk-toggleable__control:checked~label.sk-toggleable__label {background-color: #d4ebff;}#sk-container-id-4 div.sk-label input.sk-toggleable__control:checked~label.sk-toggleable__label {background-color: #d4ebff;}#sk-container-id-4 input.sk-hidden--visually {border: 0;clip: rect(1px 1px 1px 1px);clip: rect(1px, 1px, 1px, 1px);height: 1px;margin: -1px;overflow: hidden;padding: 0;position: absolute;width: 1px;}#sk-container-id-4 div.sk-estimator {font-family: monospace;background-color: #f0f8ff;border: 1px dotted black;border-radius: 0.25em;box-sizing: border-box;margin-bottom: 0.5em;}#sk-container-id-4 div.sk-estimator:hover {background-color: #d4ebff;}#sk-container-id-4 div.sk-parallel-item::after {content: \"\";width: 100%;border-bottom: 1px solid gray;flex-grow: 1;}#sk-container-id-4 div.sk-label:hover label.sk-toggleable__label {background-color: #d4ebff;}#sk-container-id-4 div.sk-serial::before {content: \"\";position: absolute;border-left: 1px solid gray;box-sizing: border-box;top: 0;bottom: 0;left: 50%;z-index: 0;}#sk-container-id-4 div.sk-serial {display: flex;flex-direction: column;align-items: center;background-color: white;padding-right: 0.2em;padding-left: 0.2em;position: relative;}#sk-container-id-4 div.sk-item {position: relative;z-index: 1;}#sk-container-id-4 div.sk-parallel {display: flex;align-items: stretch;justify-content: center;background-color: white;position: relative;}#sk-container-id-4 div.sk-item::before, #sk-container-id-4 div.sk-parallel-item::before {content: \"\";position: absolute;border-left: 1px solid gray;box-sizing: border-box;top: 0;bottom: 0;left: 50%;z-index: -1;}#sk-container-id-4 div.sk-parallel-item {display: flex;flex-direction: column;z-index: 1;position: relative;background-color: white;}#sk-container-id-4 div.sk-parallel-item:first-child::after {align-self: flex-end;width: 50%;}#sk-container-id-4 div.sk-parallel-item:last-child::after {align-self: flex-start;width: 50%;}#sk-container-id-4 div.sk-parallel-item:only-child::after {width: 0;}#sk-container-id-4 div.sk-dashed-wrapped {border: 1px dashed gray;margin: 0 0.4em 0.5em 0.4em;box-sizing: border-box;padding-bottom: 0.4em;background-color: white;}#sk-container-id-4 div.sk-label label {font-family: monospace;font-weight: bold;display: inline-block;line-height: 1.2em;}#sk-container-id-4 div.sk-label-container {text-align: center;}#sk-container-id-4 div.sk-container {/* jupyter's `normalize.less` sets `[hidden] { display: none; }` but bootstrap.min.css set `[hidden] { display: none !important; }` so we also need the `!important` here to be able to override the default hidden behavior on the sphinx rendered scikit-learn.org. See: https://github.com/scikit-learn/scikit-learn/issues/21755 */display: inline-block !important;position: relative;}#sk-container-id-4 div.sk-text-repr-fallback {display: none;}</style><div id=\"sk-container-id-4\" class=\"sk-top-container\"><div class=\"sk-text-repr-fallback\"><pre>Pipeline(steps=[(&#x27;tfidfvectorizer&#x27;, TfidfVectorizer()),\n",
              "                (&#x27;kneighborsclassifier&#x27;, KNeighborsClassifier())])</pre><b>In a Jupyter environment, please rerun this cell to show the HTML representation or trust the notebook. <br />On GitHub, the HTML representation is unable to render, please try loading this page with nbviewer.org.</b></div><div class=\"sk-container\" hidden><div class=\"sk-item sk-dashed-wrapped\"><div class=\"sk-label-container\"><div class=\"sk-label sk-toggleable\"><input class=\"sk-toggleable__control sk-hidden--visually\" id=\"sk-estimator-id-8\" type=\"checkbox\" ><label for=\"sk-estimator-id-8\" class=\"sk-toggleable__label sk-toggleable__label-arrow\">Pipeline</label><div class=\"sk-toggleable__content\"><pre>Pipeline(steps=[(&#x27;tfidfvectorizer&#x27;, TfidfVectorizer()),\n",
              "                (&#x27;kneighborsclassifier&#x27;, KNeighborsClassifier())])</pre></div></div></div><div class=\"sk-serial\"><div class=\"sk-item\"><div class=\"sk-estimator sk-toggleable\"><input class=\"sk-toggleable__control sk-hidden--visually\" id=\"sk-estimator-id-9\" type=\"checkbox\" ><label for=\"sk-estimator-id-9\" class=\"sk-toggleable__label sk-toggleable__label-arrow\">TfidfVectorizer</label><div class=\"sk-toggleable__content\"><pre>TfidfVectorizer()</pre></div></div></div><div class=\"sk-item\"><div class=\"sk-estimator sk-toggleable\"><input class=\"sk-toggleable__control sk-hidden--visually\" id=\"sk-estimator-id-10\" type=\"checkbox\" ><label for=\"sk-estimator-id-10\" class=\"sk-toggleable__label sk-toggleable__label-arrow\">KNeighborsClassifier</label><div class=\"sk-toggleable__content\"><pre>KNeighborsClassifier()</pre></div></div></div></div></div></div></div>"
            ]
          },
          "metadata": {},
          "execution_count": 63
        }
      ],
      "source": [
        "model = make_pipeline(TfidfVectorizer(),KNeighborsClassifier())\n",
        "model.fit(xtrain,ytrain)"
      ]
    },
    {
      "cell_type": "code",
      "execution_count": null,
      "metadata": {
        "id": "iZGB7r4H65R_"
      },
      "outputs": [],
      "source": [
        "labels = model.predict(xtest)"
      ]
    },
    {
      "cell_type": "code",
      "execution_count": null,
      "metadata": {
        "id": "c6RoLVU068Lq",
        "colab": {
          "base_uri": "https://localhost:8080/"
        },
        "outputId": "826e5ef3-4685-4537-b484-0b3a7902ce27"
      },
      "outputs": [
        {
          "output_type": "execute_result",
          "data": {
            "text/plain": [
              "0.5775862068965517"
            ]
          },
          "metadata": {},
          "execution_count": 65
        }
      ],
      "source": [
        "accuracy_score(ytest,labels)"
      ]
    },
    {
      "cell_type": "code",
      "execution_count": null,
      "metadata": {
        "id": "cjuE3uop69ts",
        "colab": {
          "base_uri": "https://localhost:8080/"
        },
        "outputId": "8a1163d7-7aa5-406a-d359-a7b2a6843c7b"
      },
      "outputs": [
        {
          "output_type": "execute_result",
          "data": {
            "text/plain": [
              "array([[126, 350],\n",
              "       [ 91, 477]])"
            ]
          },
          "metadata": {},
          "execution_count": 66
        }
      ],
      "source": [
        "cf = confusion_matrix(ytest,labels)\n",
        "cf"
      ]
    },
    {
      "cell_type": "code",
      "execution_count": null,
      "metadata": {
        "id": "PMtgnaC26_gJ",
        "colab": {
          "base_uri": "https://localhost:8080/",
          "height": 451
        },
        "outputId": "499fde69-fcfa-40a9-9b89-69776f13439d"
      },
      "outputs": [
        {
          "output_type": "execute_result",
          "data": {
            "text/plain": [
              "<Axes: >"
            ]
          },
          "metadata": {},
          "execution_count": 67
        },
        {
          "output_type": "display_data",
          "data": {
            "text/plain": [
              "<Figure size 640x480 with 2 Axes>"
            ],
            "image/png": "[encoded data removed]"
          },
          "metadata": {}
        }
      ],
      "source": [
        "sns.heatmap(cf,cmap=\"Greens\", annot = True)"
      ]
    },
    {
      "cell_type": "code",
      "source": [
        "from sklearn.metrics import classification_report\n",
        "print(classification_report(ytest,labels))"
      ],
      "metadata": {
        "colab": {
          "base_uri": "https://localhost:8080/"
        },
        "id": "qzn7BYCrNXjj",
        "outputId": "88d8ebee-6b27-437d-b1ad-a372fa6e8a20"
      },
      "execution_count": null,
      "outputs": [
        {
          "output_type": "stream",
          "name": "stdout",
          "text": [
            "              precision    recall  f1-score   support\n",
            "\n",
            "           0       0.58      0.26      0.36       476\n",
            "           1       0.58      0.84      0.68       568\n",
            "\n",
            "    accuracy                           0.58      1044\n",
            "   macro avg       0.58      0.55      0.52      1044\n",
            "weighted avg       0.58      0.58      0.54      1044\n",
            "\n"
          ]
        }
      ]
    },
    {
      "cell_type": "code",
      "execution_count": null,
      "metadata": {
        "id": "bjiVSjq-7BaZ"
      },
      "outputs": [],
      "source": [
        "from sklearn.linear_model import LogisticRegression"
      ]
    },
    {
      "cell_type": "code",
      "execution_count": null,
      "metadata": {
        "id": "1ELk-dvD7D6T",
        "colab": {
          "base_uri": "https://localhost:8080/",
          "height": 124
        },
        "outputId": "f747f1a4-79da-49c6-b8f7-a5415535ba43"
      },
      "outputs": [
        {
          "output_type": "execute_result",
          "data": {
            "text/plain": [
              "Pipeline(steps=[('tfidfvectorizer', TfidfVectorizer()),\n",
              "                ('logisticregression', LogisticRegression())])"
            ],
            "text/html": [
              "<style>#sk-container-id-5 {color: black;background-color: white;}#sk-container-id-5 pre{padding: 0;}#sk-container-id-5 div.sk-toggleable {background-color: white;}#sk-container-id-5 label.sk-toggleable__label {cursor: pointer;display: block;width: 100%;margin-bottom: 0;padding: 0.3em;box-sizing: border-box;text-align: center;}#sk-container-id-5 label.sk-toggleable__label-arrow:before {content: \"▸\";float: left;margin-right: 0.25em;color: #696969;}#sk-container-id-5 label.sk-toggleable__label-arrow:hover:before {color: black;}#sk-container-id-5 div.sk-estimator:hover label.sk-toggleable__label-arrow:before {color: black;}#sk-container-id-5 div.sk-toggleable__content {max-height: 0;max-width: 0;overflow: hidden;text-align: left;background-color: #f0f8ff;}#sk-container-id-5 div.sk-toggleable__content pre {margin: 0.2em;color: black;border-radius: 0.25em;background-color: #f0f8ff;}#sk-container-id-5 input.sk-toggleable__control:checked~div.sk-toggleable__content {max-height: 200px;max-width: 100%;overflow: auto;}#sk-container-id-5 input.sk-toggleable__control:checked~label.sk-toggleable__label-arrow:before {content: \"▾\";}#sk-container-id-5 div.sk-estimator input.sk-toggleable__control:checked~label.sk-toggleable__label {background-color: #d4ebff;}#sk-container-id-5 div.sk-label input.sk-toggleable__control:checked~label.sk-toggleable__label {background-color: #d4ebff;}#sk-container-id-5 input.sk-hidden--visually {border: 0;clip: rect(1px 1px 1px 1px);clip: rect(1px, 1px, 1px, 1px);height: 1px;margin: -1px;overflow: hidden;padding: 0;position: absolute;width: 1px;}#sk-container-id-5 div.sk-estimator {font-family: monospace;background-color: #f0f8ff;border: 1px dotted black;border-radius: 0.25em;box-sizing: border-box;margin-bottom: 0.5em;}#sk-container-id-5 div.sk-estimator:hover {background-color: #d4ebff;}#sk-container-id-5 div.sk-parallel-item::after {content: \"\";width: 100%;border-bottom: 1px solid gray;flex-grow: 1;}#sk-container-id-5 div.sk-label:hover label.sk-toggleable__label {background-color: #d4ebff;}#sk-container-id-5 div.sk-serial::before {content: \"\";position: absolute;border-left: 1px solid gray;box-sizing: border-box;top: 0;bottom: 0;left: 50%;z-index: 0;}#sk-container-id-5 div.sk-serial {display: flex;flex-direction: column;align-items: center;background-color: white;padding-right: 0.2em;padding-left: 0.2em;position: relative;}#sk-container-id-5 div.sk-item {position: relative;z-index: 1;}#sk-container-id-5 div.sk-parallel {display: flex;align-items: stretch;justify-content: center;background-color: white;position: relative;}#sk-container-id-5 div.sk-item::before, #sk-container-id-5 div.sk-parallel-item::before {content: \"\";position: absolute;border-left: 1px solid gray;box-sizing: border-box;top: 0;bottom: 0;left: 50%;z-index: -1;}#sk-container-id-5 div.sk-parallel-item {display: flex;flex-direction: column;z-index: 1;position: relative;background-color: white;}#sk-container-id-5 div.sk-parallel-item:first-child::after {align-self: flex-end;width: 50%;}#sk-container-id-5 div.sk-parallel-item:last-child::after {align-self: flex-start;width: 50%;}#sk-container-id-5 div.sk-parallel-item:only-child::after {width: 0;}#sk-container-id-5 div.sk-dashed-wrapped {border: 1px dashed gray;margin: 0 0.4em 0.5em 0.4em;box-sizing: border-box;padding-bottom: 0.4em;background-color: white;}#sk-container-id-5 div.sk-label label {font-family: monospace;font-weight: bold;display: inline-block;line-height: 1.2em;}#sk-container-id-5 div.sk-label-container {text-align: center;}#sk-container-id-5 div.sk-container {/* jupyter's `normalize.less` sets `[hidden] { display: none; }` but bootstrap.min.css set `[hidden] { display: none !important; }` so we also need the `!important` here to be able to override the default hidden behavior on the sphinx rendered scikit-learn.org. See: https://github.com/scikit-learn/scikit-learn/issues/21755 */display: inline-block !important;position: relative;}#sk-container-id-5 div.sk-text-repr-fallback {display: none;}</style><div id=\"sk-container-id-5\" class=\"sk-top-container\"><div class=\"sk-text-repr-fallback\"><pre>Pipeline(steps=[(&#x27;tfidfvectorizer&#x27;, TfidfVectorizer()),\n",
              "                (&#x27;logisticregression&#x27;, LogisticRegression())])</pre><b>In a Jupyter environment, please rerun this cell to show the HTML representation or trust the notebook. <br />On GitHub, the HTML representation is unable to render, please try loading this page with nbviewer.org.</b></div><div class=\"sk-container\" hidden><div class=\"sk-item sk-dashed-wrapped\"><div class=\"sk-label-container\"><div class=\"sk-label sk-toggleable\"><input class=\"sk-toggleable__control sk-hidden--visually\" id=\"sk-estimator-id-11\" type=\"checkbox\" ><label for=\"sk-estimator-id-11\" class=\"sk-toggleable__label sk-toggleable__label-arrow\">Pipeline</label><div class=\"sk-toggleable__content\"><pre>Pipeline(steps=[(&#x27;tfidfvectorizer&#x27;, TfidfVectorizer()),\n",
              "                (&#x27;logisticregression&#x27;, LogisticRegression())])</pre></div></div></div><div class=\"sk-serial\"><div class=\"sk-item\"><div class=\"sk-estimator sk-toggleable\"><input class=\"sk-toggleable__control sk-hidden--visually\" id=\"sk-estimator-id-12\" type=\"checkbox\" ><label for=\"sk-estimator-id-12\" class=\"sk-toggleable__label sk-toggleable__label-arrow\">TfidfVectorizer</label><div class=\"sk-toggleable__content\"><pre>TfidfVectorizer()</pre></div></div></div><div class=\"sk-item\"><div class=\"sk-estimator sk-toggleable\"><input class=\"sk-toggleable__control sk-hidden--visually\" id=\"sk-estimator-id-13\" type=\"checkbox\" ><label for=\"sk-estimator-id-13\" class=\"sk-toggleable__label sk-toggleable__label-arrow\">LogisticRegression</label><div class=\"sk-toggleable__content\"><pre>LogisticRegression()</pre></div></div></div></div></div></div></div>"
            ]
          },
          "metadata": {},
          "execution_count": 70
        }
      ],
      "source": [
        "model = make_pipeline(TfidfVectorizer(),LogisticRegression())\n",
        "model.fit(xtrain,ytrain)"
      ]
    },
    {
      "cell_type": "code",
      "execution_count": null,
      "metadata": {
        "id": "wLBLFnq97FrC"
      },
      "outputs": [],
      "source": [
        "labels = model.predict(xtest)"
      ]
    },
    {
      "cell_type": "code",
      "execution_count": null,
      "metadata": {
        "id": "RnXHB8bc7HiD",
        "colab": {
          "base_uri": "https://localhost:8080/"
        },
        "outputId": "b6502d16-d640-4d6e-b2f6-789ae66a386b"
      },
      "outputs": [
        {
          "output_type": "execute_result",
          "data": {
            "text/plain": [
              "0.725095785440613"
            ]
          },
          "metadata": {},
          "execution_count": 72
        }
      ],
      "source": [
        "accuracy_score(ytest,labels)"
      ]
    },
    {
      "cell_type": "code",
      "execution_count": null,
      "metadata": {
        "id": "jtWUvlbC7JgC",
        "colab": {
          "base_uri": "https://localhost:8080/"
        },
        "outputId": "b5e1b24f-09fb-4006-e449-4a950796cf72"
      },
      "outputs": [
        {
          "output_type": "execute_result",
          "data": {
            "text/plain": [
              "array([[298, 178],\n",
              "       [109, 459]])"
            ]
          },
          "metadata": {},
          "execution_count": 73
        }
      ],
      "source": [
        "cf = confusion_matrix(ytest,labels)\n",
        "cf"
      ]
    },
    {
      "cell_type": "code",
      "execution_count": null,
      "metadata": {
        "id": "Ao7EBmC57LeV",
        "colab": {
          "base_uri": "https://localhost:8080/",
          "height": 451
        },
        "outputId": "e3f71468-c564-47d0-db8c-4447c3abe129"
      },
      "outputs": [
        {
          "output_type": "execute_result",
          "data": {
            "text/plain": [
              "<Axes: >"
            ]
          },
          "metadata": {},
          "execution_count": 74
        },
        {
          "output_type": "display_data",
          "data": {
            "text/plain": [
              "<Figure size 640x480 with 2 Axes>"
            ],
            "image/png": "[encoded data removed]"
          },
          "metadata": {}
        }
      ],
      "source": [
        "sns.heatmap(cf,cmap=\"Greens\", annot = True)"
      ]
    },
    {
      "cell_type": "code",
      "source": [
        "from sklearn.metrics import classification_report\n",
        "print(classification_report(ytest,labels))"
      ],
      "metadata": {
        "colab": {
          "base_uri": "https://localhost:8080/"
        },
        "id": "oPCgkeavN4j_",
        "outputId": "ce3fc86b-358b-42f4-de8b-a6c7d8f53168"
      },
      "execution_count": null,
      "outputs": [
        {
          "output_type": "stream",
          "name": "stdout",
          "text": [
            "              precision    recall  f1-score   support\n",
            "\n",
            "           0       0.73      0.63      0.67       476\n",
            "           1       0.72      0.81      0.76       568\n",
            "\n",
            "    accuracy                           0.73      1044\n",
            "   macro avg       0.73      0.72      0.72      1044\n",
            "weighted avg       0.73      0.73      0.72      1044\n",
            "\n"
          ]
        }
      ]
    },
    {
      "cell_type": "code",
      "source": [
        "from sklearn.tree import DecisionTreeClassifier"
      ],
      "metadata": {
        "id": "-wcFU1B-hqrz"
      },
      "execution_count": null,
      "outputs": []
    },
    {
      "cell_type": "code",
      "source": [
        "model = make_pipeline(TfidfVectorizer(),DecisionTreeClassifier())"
      ],
      "metadata": {
        "id": "UQuiLNkzh3bw"
      },
      "execution_count": null,
      "outputs": []
    },
    {
      "cell_type": "code",
      "source": [
        "model.fit(xtrain,ytrain)"
      ],
      "metadata": {
        "id": "dND46LyWh8Z-",
        "colab": {
          "base_uri": "https://localhost:8080/",
          "height": 124
        },
        "outputId": "e28eaa4b-48f0-4389-e732-7d04da0e18fe"
      },
      "execution_count": null,
      "outputs": [
        {
          "output_type": "execute_result",
          "data": {
            "text/plain": [
              "Pipeline(steps=[('tfidfvectorizer', TfidfVectorizer()),\n",
              "                ('decisiontreeclassifier', DecisionTreeClassifier())])"
            ],
            "text/html": [
              "<style>#sk-container-id-6 {color: black;background-color: white;}#sk-container-id-6 pre{padding: 0;}#sk-container-id-6 div.sk-toggleable {background-color: white;}#sk-container-id-6 label.sk-toggleable__label {cursor: pointer;display: block;width: 100%;margin-bottom: 0;padding: 0.3em;box-sizing: border-box;text-align: center;}#sk-container-id-6 label.sk-toggleable__label-arrow:before {content: \"▸\";float: left;margin-right: 0.25em;color: #696969;}#sk-container-id-6 label.sk-toggleable__label-arrow:hover:before {color: black;}#sk-container-id-6 div.sk-estimator:hover label.sk-toggleable__label-arrow:before {color: black;}#sk-container-id-6 div.sk-toggleable__content {max-height: 0;max-width: 0;overflow: hidden;text-align: left;background-color: #f0f8ff;}#sk-container-id-6 div.sk-toggleable__content pre {margin: 0.2em;color: black;border-radius: 0.25em;background-color: #f0f8ff;}#sk-container-id-6 input.sk-toggleable__control:checked~div.sk-toggleable__content {max-height: 200px;max-width: 100%;overflow: auto;}#sk-container-id-6 input.sk-toggleable__control:checked~label.sk-toggleable__label-arrow:before {content: \"▾\";}#sk-container-id-6 div.sk-estimator input.sk-toggleable__control:checked~label.sk-toggleable__label {background-color: #d4ebff;}#sk-container-id-6 div.sk-label input.sk-toggleable__control:checked~label.sk-toggleable__label {background-color: #d4ebff;}#sk-container-id-6 input.sk-hidden--visually {border: 0;clip: rect(1px 1px 1px 1px);clip: rect(1px, 1px, 1px, 1px);height: 1px;margin: -1px;overflow: hidden;padding: 0;position: absolute;width: 1px;}#sk-container-id-6 div.sk-estimator {font-family: monospace;background-color: #f0f8ff;border: 1px dotted black;border-radius: 0.25em;box-sizing: border-box;margin-bottom: 0.5em;}#sk-container-id-6 div.sk-estimator:hover {background-color: #d4ebff;}#sk-container-id-6 div.sk-parallel-item::after {content: \"\";width: 100%;border-bottom: 1px solid gray;flex-grow: 1;}#sk-container-id-6 div.sk-label:hover label.sk-toggleable__label {background-color: #d4ebff;}#sk-container-id-6 div.sk-serial::before {content: \"\";position: absolute;border-left: 1px solid gray;box-sizing: border-box;top: 0;bottom: 0;left: 50%;z-index: 0;}#sk-container-id-6 div.sk-serial {display: flex;flex-direction: column;align-items: center;background-color: white;padding-right: 0.2em;padding-left: 0.2em;position: relative;}#sk-container-id-6 div.sk-item {position: relative;z-index: 1;}#sk-container-id-6 div.sk-parallel {display: flex;align-items: stretch;justify-content: center;background-color: white;position: relative;}#sk-container-id-6 div.sk-item::before, #sk-container-id-6 div.sk-parallel-item::before {content: \"\";position: absolute;border-left: 1px solid gray;box-sizing: border-box;top: 0;bottom: 0;left: 50%;z-index: -1;}#sk-container-id-6 div.sk-parallel-item {display: flex;flex-direction: column;z-index: 1;position: relative;background-color: white;}#sk-container-id-6 div.sk-parallel-item:first-child::after {align-self: flex-end;width: 50%;}#sk-container-id-6 div.sk-parallel-item:last-child::after {align-self: flex-start;width: 50%;}#sk-container-id-6 div.sk-parallel-item:only-child::after {width: 0;}#sk-container-id-6 div.sk-dashed-wrapped {border: 1px dashed gray;margin: 0 0.4em 0.5em 0.4em;box-sizing: border-box;padding-bottom: 0.4em;background-color: white;}#sk-container-id-6 div.sk-label label {font-family: monospace;font-weight: bold;display: inline-block;line-height: 1.2em;}#sk-container-id-6 div.sk-label-container {text-align: center;}#sk-container-id-6 div.sk-container {/* jupyter's `normalize.less` sets `[hidden] { display: none; }` but bootstrap.min.css set `[hidden] { display: none !important; }` so we also need the `!important` here to be able to override the default hidden behavior on the sphinx rendered scikit-learn.org. See: https://github.com/scikit-learn/scikit-learn/issues/21755 */display: inline-block !important;position: relative;}#sk-container-id-6 div.sk-text-repr-fallback {display: none;}</style><div id=\"sk-container-id-6\" class=\"sk-top-container\"><div class=\"sk-text-repr-fallback\"><pre>Pipeline(steps=[(&#x27;tfidfvectorizer&#x27;, TfidfVectorizer()),\n",
              "                (&#x27;decisiontreeclassifier&#x27;, DecisionTreeClassifier())])</pre><b>In a Jupyter environment, please rerun this cell to show the HTML representation or trust the notebook. <br />On GitHub, the HTML representation is unable to render, please try loading this page with nbviewer.org.</b></div><div class=\"sk-container\" hidden><div class=\"sk-item sk-dashed-wrapped\"><div class=\"sk-label-container\"><div class=\"sk-label sk-toggleable\"><input class=\"sk-toggleable__control sk-hidden--visually\" id=\"sk-estimator-id-14\" type=\"checkbox\" ><label for=\"sk-estimator-id-14\" class=\"sk-toggleable__label sk-toggleable__label-arrow\">Pipeline</label><div class=\"sk-toggleable__content\"><pre>Pipeline(steps=[(&#x27;tfidfvectorizer&#x27;, TfidfVectorizer()),\n",
              "                (&#x27;decisiontreeclassifier&#x27;, DecisionTreeClassifier())])</pre></div></div></div><div class=\"sk-serial\"><div class=\"sk-item\"><div class=\"sk-estimator sk-toggleable\"><input class=\"sk-toggleable__control sk-hidden--visually\" id=\"sk-estimator-id-15\" type=\"checkbox\" ><label for=\"sk-estimator-id-15\" class=\"sk-toggleable__label sk-toggleable__label-arrow\">TfidfVectorizer</label><div class=\"sk-toggleable__content\"><pre>TfidfVectorizer()</pre></div></div></div><div class=\"sk-item\"><div class=\"sk-estimator sk-toggleable\"><input class=\"sk-toggleable__control sk-hidden--visually\" id=\"sk-estimator-id-16\" type=\"checkbox\" ><label for=\"sk-estimator-id-16\" class=\"sk-toggleable__label sk-toggleable__label-arrow\">DecisionTreeClassifier</label><div class=\"sk-toggleable__content\"><pre>DecisionTreeClassifier()</pre></div></div></div></div></div></div></div>"
            ]
          },
          "metadata": {},
          "execution_count": 78
        }
      ]
    },
    {
      "cell_type": "code",
      "source": [
        "labels = model.predict(xtest)"
      ],
      "metadata": {
        "id": "g0obDBDpiB-4"
      },
      "execution_count": null,
      "outputs": []
    },
    {
      "cell_type": "code",
      "source": [
        "accuracy_score(ytest,labels)"
      ],
      "metadata": {
        "id": "UEh-UQF_iHQa",
        "colab": {
          "base_uri": "https://localhost:8080/"
        },
        "outputId": "f61156a0-e708-40ac-ac15-8616c19c1b5f"
      },
      "execution_count": null,
      "outputs": [
        {
          "output_type": "execute_result",
          "data": {
            "text/plain": [
              "0.6561302681992337"
            ]
          },
          "metadata": {},
          "execution_count": 80
        }
      ]
    },
    {
      "cell_type": "code",
      "source": [
        "cf = confusion_matrix(ytest,labels)\n",
        "cf"
      ],
      "metadata": {
        "id": "DKDHad1lQUtG",
        "colab": {
          "base_uri": "https://localhost:8080/"
        },
        "outputId": "22bac310-c815-4cff-a4e4-1fd99aa9a0af"
      },
      "execution_count": null,
      "outputs": [
        {
          "output_type": "execute_result",
          "data": {
            "text/plain": [
              "array([[269, 207],\n",
              "       [152, 416]])"
            ]
          },
          "metadata": {},
          "execution_count": 81
        }
      ]
    },
    {
      "cell_type": "code",
      "source": [
        "sns.heatmap(cf,cmap=\"Greens\", annot = True)"
      ],
      "metadata": {
        "id": "slD5owHWQVkm",
        "colab": {
          "base_uri": "https://localhost:8080/",
          "height": 451
        },
        "outputId": "a173b855-d5de-4525-ad48-680f623cf96c"
      },
      "execution_count": null,
      "outputs": [
        {
          "output_type": "execute_result",
          "data": {
            "text/plain": [
              "<Axes: >"
            ]
          },
          "metadata": {},
          "execution_count": 82
        },
        {
          "output_type": "display_data",
          "data": {
            "text/plain": [
              "<Figure size 640x480 with 2 Axes>"
            ],
            "image/png": "[encoded data removed]"
          },
          "metadata": {}
        }
      ]
    },
    {
      "cell_type": "code",
      "source": [
        "from sklearn.metrics import classification_report\n",
        "print(classification_report(ytest,labels))"
      ],
      "metadata": {
        "colab": {
          "base_uri": "https://localhost:8080/"
        },
        "id": "NYDkw0kESHpj",
        "outputId": "02847bd1-188e-4bed-90f6-4bccbd5da1d4"
      },
      "execution_count": null,
      "outputs": [
        {
          "output_type": "stream",
          "name": "stdout",
          "text": [
            "              precision    recall  f1-score   support\n",
            "\n",
            "           0       0.64      0.57      0.60       476\n",
            "           1       0.67      0.73      0.70       568\n",
            "\n",
            "    accuracy                           0.66      1044\n",
            "   macro avg       0.65      0.65      0.65      1044\n",
            "weighted avg       0.65      0.66      0.65      1044\n",
            "\n"
          ]
        }
      ]
    },
    {
      "cell_type": "code",
      "source": [
        "pip install catboost"
      ],
      "metadata": {
        "id": "XnFiidO_PtS6",
        "colab": {
          "base_uri": "https://localhost:8080/"
        },
        "outputId": "63993402-4979-4dd9-e69d-911dd42a5c10"
      },
      "execution_count": null,
      "outputs": [
        {
          "output_type": "stream",
          "name": "stdout",
          "text": [
            "Looking in indexes: https://pypi.org/simple, https://us-python.pkg.dev/colab-wheels/public/simple/\n",
            "Collecting catboost\n",
            "  Downloading catboost-1.1.1-cp39-none-manylinux1_x86_64.whl (76.6 MB)\n",
            "\u001b[2K     \u001b[90m━━━━━━━━━━━━━━━━━━━━━━━━━━━━━━━━━━━━━━━━\u001b[0m \u001b[32m76.6/76.6 MB\u001b[0m \u001b[31m12.1 MB/s\u001b[0m eta \u001b[36m0:00:00\u001b[0m\n",
            "\u001b[?25hRequirement already satisfied: scipy in /usr/local/lib/python3.9/dist-packages (from catboost) (1.10.1)\n",
            "Requirement already satisfied: graphviz in /usr/local/lib/python3.9/dist-packages (from catboost) (0.20.1)\n",
            "Requirement already satisfied: matplotlib in /usr/local/lib/python3.9/dist-packages (from catboost) (3.7.1)\n",
            "Requirement already satisfied: plotly in /usr/local/lib/python3.9/dist-packages (from catboost) (5.13.1)\n",
            "Requirement already satisfied: numpy>=1.16.0 in /usr/local/lib/python3.9/dist-packages (from catboost) (1.22.4)\n",
            "Requirement already satisfied: pandas>=0.24.0 in /usr/local/lib/python3.9/dist-packages (from catboost) (1.4.4)\n",
            "Requirement already satisfied: six in /usr/local/lib/python3.9/dist-packages (from catboost) (1.16.0)\n",
            "Requirement already satisfied: pytz>=2020.1 in /usr/local/lib/python3.9/dist-packages (from pandas>=0.24.0->catboost) (2022.7.1)\n",
            "Requirement already satisfied: python-dateutil>=2.8.1 in /usr/local/lib/python3.9/dist-packages (from pandas>=0.24.0->catboost) (2.8.2)\n",
            "Requirement already satisfied: importlib-resources>=3.2.0 in /usr/local/lib/python3.9/dist-packages (from matplotlib->catboost) (5.12.0)\n",
            "Requirement already satisfied: fonttools>=4.22.0 in /usr/local/lib/python3.9/dist-packages (from matplotlib->catboost) (4.39.3)\n",
            "Requirement already satisfied: cycler>=0.10 in /usr/local/lib/python3.9/dist-packages (from matplotlib->catboost) (0.11.0)\n",
            "Requirement already satisfied: pillow>=6.2.0 in /usr/local/lib/python3.9/dist-packages (from matplotlib->catboost) (8.4.0)\n",
            "Requirement already satisfied: contourpy>=1.0.1 in /usr/local/lib/python3.9/dist-packages (from matplotlib->catboost) (1.0.7)\n",
            "Requirement already satisfied: pyparsing>=2.3.1 in /usr/local/lib/python3.9/dist-packages (from matplotlib->catboost) (3.0.9)\n",
            "Requirement already satisfied: packaging>=20.0 in /usr/local/lib/python3.9/dist-packages (from matplotlib->catboost) (23.0)\n",
            "Requirement already satisfied: kiwisolver>=1.0.1 in /usr/local/lib/python3.9/dist-packages (from matplotlib->catboost) (1.4.4)\n",
            "Requirement already satisfied: tenacity>=6.2.0 in /usr/local/lib/python3.9/dist-packages (from plotly->catboost) (8.2.2)\n",
            "Requirement already satisfied: zipp>=3.1.0 in /usr/local/lib/python3.9/dist-packages (from importlib-resources>=3.2.0->matplotlib->catboost) (3.15.0)\n",
            "Installing collected packages: catboost\n",
            "Successfully installed catboost-1.1.1\n"
          ]
        }
      ]
    },
    {
      "cell_type": "code",
      "source": [
        "from catboost import CatBoostClassifier"
      ],
      "metadata": {
        "id": "U3DS992APxyx"
      },
      "execution_count": null,
      "outputs": []
    },
    {
      "cell_type": "code",
      "source": [
        "model = make_pipeline(TfidfVectorizer(),CatBoostClassifier())"
      ],
      "metadata": {
        "id": "LyqzVctPP0tR"
      },
      "execution_count": null,
      "outputs": []
    },
    {
      "cell_type": "code",
      "source": [
        "model.fit(xtrain,ytrain)"
      ],
      "metadata": {
        "id": "t9KMuoL5P5KE",
        "colab": {
          "base_uri": "https://localhost:8080/",
          "height": 1000
        },
        "outputId": "b8a9a7a9-7247-4ed7-a73c-e72c35cd57c8"
      },
      "execution_count": null,
      "outputs": [
        {
          "output_type": "stream",
          "name": "stdout",
          "text": [
            "Learning rate set to 0.018963\n",
            "0:\tlearn: 0.6917294\ttotal: 64.1ms\tremaining: 1m 3s\n",
            "1:\tlearn: 0.6902686\ttotal: 79.5ms\tremaining: 39.7s\n",
            "2:\tlearn: 0.6885302\ttotal: 93.6ms\tremaining: 31.1s\n",
            "3:\tlearn: 0.6868926\ttotal: 108ms\tremaining: 26.9s\n",
            "4:\tlearn: 0.6853664\ttotal: 122ms\tremaining: 24.3s\n",
            "5:\tlearn: 0.6841815\ttotal: 137ms\tremaining: 22.8s\n",
            "6:\tlearn: 0.6826082\ttotal: 153ms\tremaining: 21.7s\n",
            "7:\tlearn: 0.6814299\ttotal: 168ms\tremaining: 20.8s\n",
            "8:\tlearn: 0.6799658\ttotal: 187ms\tremaining: 20.6s\n",
            "9:\tlearn: 0.6786585\ttotal: 203ms\tremaining: 20.1s\n",
            "10:\tlearn: 0.6775287\ttotal: 219ms\tremaining: 19.7s\n",
            "11:\tlearn: 0.6763353\ttotal: 234ms\tremaining: 19.2s\n",
            "12:\tlearn: 0.6750662\ttotal: 248ms\tremaining: 18.8s\n",
            "13:\tlearn: 0.6740333\ttotal: 262ms\tremaining: 18.4s\n",
            "14:\tlearn: 0.6731038\ttotal: 277ms\tremaining: 18.2s\n",
            "15:\tlearn: 0.6720280\ttotal: 294ms\tremaining: 18.1s\n",
            "16:\tlearn: 0.6710471\ttotal: 308ms\tremaining: 17.8s\n",
            "17:\tlearn: 0.6703399\ttotal: 322ms\tremaining: 17.6s\n",
            "18:\tlearn: 0.6691731\ttotal: 338ms\tremaining: 17.4s\n",
            "19:\tlearn: 0.6685437\ttotal: 352ms\tremaining: 17.3s\n",
            "20:\tlearn: 0.6676027\ttotal: 368ms\tremaining: 17.1s\n",
            "21:\tlearn: 0.6667781\ttotal: 382ms\tremaining: 17s\n",
            "22:\tlearn: 0.6660864\ttotal: 403ms\tremaining: 17.1s\n",
            "23:\tlearn: 0.6654276\ttotal: 418ms\tremaining: 17s\n",
            "24:\tlearn: 0.6647393\ttotal: 433ms\tremaining: 16.9s\n",
            "25:\tlearn: 0.6639308\ttotal: 447ms\tremaining: 16.8s\n",
            "26:\tlearn: 0.6632351\ttotal: 462ms\tremaining: 16.7s\n",
            "27:\tlearn: 0.6624647\ttotal: 477ms\tremaining: 16.5s\n",
            "28:\tlearn: 0.6616585\ttotal: 491ms\tremaining: 16.4s\n",
            "29:\tlearn: 0.6609133\ttotal: 505ms\tremaining: 16.3s\n",
            "30:\tlearn: 0.6602443\ttotal: 527ms\tremaining: 16.5s\n",
            "31:\tlearn: 0.6595620\ttotal: 565ms\tremaining: 17.1s\n",
            "32:\tlearn: 0.6587463\ttotal: 598ms\tremaining: 17.5s\n",
            "33:\tlearn: 0.6580601\ttotal: 637ms\tremaining: 18.1s\n",
            "34:\tlearn: 0.6573704\ttotal: 676ms\tremaining: 18.6s\n",
            "35:\tlearn: 0.6567247\ttotal: 705ms\tremaining: 18.9s\n",
            "36:\tlearn: 0.6559523\ttotal: 730ms\tremaining: 19s\n",
            "37:\tlearn: 0.6552087\ttotal: 771ms\tremaining: 19.5s\n",
            "38:\tlearn: 0.6546124\ttotal: 795ms\tremaining: 19.6s\n",
            "39:\tlearn: 0.6536664\ttotal: 813ms\tremaining: 19.5s\n",
            "40:\tlearn: 0.6531411\ttotal: 827ms\tremaining: 19.3s\n",
            "41:\tlearn: 0.6523817\ttotal: 844ms\tremaining: 19.2s\n",
            "42:\tlearn: 0.6515946\ttotal: 862ms\tremaining: 19.2s\n",
            "43:\tlearn: 0.6510638\ttotal: 880ms\tremaining: 19.1s\n",
            "44:\tlearn: 0.6504955\ttotal: 897ms\tremaining: 19s\n",
            "45:\tlearn: 0.6498756\ttotal: 911ms\tremaining: 18.9s\n",
            "46:\tlearn: 0.6492692\ttotal: 925ms\tremaining: 18.8s\n",
            "47:\tlearn: 0.6488755\ttotal: 940ms\tremaining: 18.6s\n",
            "48:\tlearn: 0.6484828\ttotal: 954ms\tremaining: 18.5s\n",
            "49:\tlearn: 0.6478593\ttotal: 969ms\tremaining: 18.4s\n",
            "50:\tlearn: 0.6473623\ttotal: 984ms\tremaining: 18.3s\n",
            "51:\tlearn: 0.6469080\ttotal: 1s\tremaining: 18.3s\n",
            "52:\tlearn: 0.6464361\ttotal: 1.02s\tremaining: 18.3s\n",
            "53:\tlearn: 0.6459442\ttotal: 1.04s\tremaining: 18.2s\n",
            "54:\tlearn: 0.6455408\ttotal: 1.06s\tremaining: 18.2s\n",
            "55:\tlearn: 0.6452116\ttotal: 1.07s\tremaining: 18.1s\n",
            "56:\tlearn: 0.6447651\ttotal: 1.09s\tremaining: 18s\n",
            "57:\tlearn: 0.6443401\ttotal: 1.1s\tremaining: 17.9s\n",
            "58:\tlearn: 0.6437943\ttotal: 1.11s\tremaining: 17.8s\n",
            "59:\tlearn: 0.6431996\ttotal: 1.13s\tremaining: 17.7s\n",
            "60:\tlearn: 0.6428707\ttotal: 1.14s\tremaining: 17.6s\n",
            "61:\tlearn: 0.6422788\ttotal: 1.16s\tremaining: 17.6s\n",
            "62:\tlearn: 0.6418041\ttotal: 1.18s\tremaining: 17.5s\n",
            "63:\tlearn: 0.6412612\ttotal: 1.19s\tremaining: 17.4s\n",
            "64:\tlearn: 0.6406379\ttotal: 1.2s\tremaining: 17.3s\n",
            "65:\tlearn: 0.6401067\ttotal: 1.22s\tremaining: 17.2s\n",
            "66:\tlearn: 0.6398294\ttotal: 1.23s\tremaining: 17.2s\n",
            "67:\tlearn: 0.6395262\ttotal: 1.25s\tremaining: 17.1s\n",
            "68:\tlearn: 0.6390664\ttotal: 1.26s\tremaining: 17s\n",
            "69:\tlearn: 0.6386484\ttotal: 1.28s\tremaining: 17s\n",
            "70:\tlearn: 0.6383391\ttotal: 1.29s\tremaining: 16.9s\n",
            "71:\tlearn: 0.6378203\ttotal: 1.31s\tremaining: 16.8s\n",
            "72:\tlearn: 0.6375775\ttotal: 1.32s\tremaining: 16.8s\n",
            "73:\tlearn: 0.6371448\ttotal: 1.33s\tremaining: 16.7s\n",
            "74:\tlearn: 0.6367480\ttotal: 1.35s\tremaining: 16.7s\n",
            "75:\tlearn: 0.6363023\ttotal: 1.37s\tremaining: 16.7s\n",
            "76:\tlearn: 0.6360764\ttotal: 1.39s\tremaining: 16.7s\n",
            "77:\tlearn: 0.6355766\ttotal: 1.4s\tremaining: 16.6s\n",
            "78:\tlearn: 0.6352181\ttotal: 1.42s\tremaining: 16.5s\n",
            "79:\tlearn: 0.6346937\ttotal: 1.43s\tremaining: 16.5s\n",
            "80:\tlearn: 0.6344012\ttotal: 1.44s\tremaining: 16.4s\n",
            "81:\tlearn: 0.6340244\ttotal: 1.46s\tremaining: 16.3s\n",
            "82:\tlearn: 0.6335619\ttotal: 1.48s\tremaining: 16.3s\n",
            "83:\tlearn: 0.6330447\ttotal: 1.49s\tremaining: 16.2s\n",
            "84:\tlearn: 0.6327424\ttotal: 1.5s\tremaining: 16.2s\n",
            "85:\tlearn: 0.6323521\ttotal: 1.52s\tremaining: 16.1s\n",
            "86:\tlearn: 0.6320486\ttotal: 1.53s\tremaining: 16.1s\n",
            "87:\tlearn: 0.6317261\ttotal: 1.55s\tremaining: 16s\n",
            "88:\tlearn: 0.6313509\ttotal: 1.56s\tremaining: 16s\n",
            "89:\tlearn: 0.6309968\ttotal: 1.57s\tremaining: 15.9s\n",
            "90:\tlearn: 0.6305655\ttotal: 1.59s\tremaining: 15.9s\n",
            "91:\tlearn: 0.6302123\ttotal: 1.6s\tremaining: 15.8s\n",
            "92:\tlearn: 0.6297477\ttotal: 1.62s\tremaining: 15.8s\n",
            "93:\tlearn: 0.6294140\ttotal: 1.64s\tremaining: 15.8s\n",
            "94:\tlearn: 0.6290101\ttotal: 1.65s\tremaining: 15.7s\n",
            "95:\tlearn: 0.6286619\ttotal: 1.66s\tremaining: 15.7s\n",
            "96:\tlearn: 0.6283398\ttotal: 1.68s\tremaining: 15.6s\n",
            "97:\tlearn: 0.6280409\ttotal: 1.7s\tremaining: 15.6s\n",
            "98:\tlearn: 0.6277589\ttotal: 1.71s\tremaining: 15.6s\n",
            "99:\tlearn: 0.6274209\ttotal: 1.72s\tremaining: 15.5s\n",
            "100:\tlearn: 0.6269337\ttotal: 1.74s\tremaining: 15.5s\n",
            "101:\tlearn: 0.6263655\ttotal: 1.75s\tremaining: 15.4s\n",
            "102:\tlearn: 0.6261046\ttotal: 1.76s\tremaining: 15.4s\n",
            "103:\tlearn: 0.6256399\ttotal: 1.78s\tremaining: 15.3s\n",
            "104:\tlearn: 0.6252126\ttotal: 1.79s\tremaining: 15.3s\n",
            "105:\tlearn: 0.6246443\ttotal: 1.8s\tremaining: 15.2s\n",
            "106:\tlearn: 0.6242792\ttotal: 1.82s\tremaining: 15.2s\n",
            "107:\tlearn: 0.6239383\ttotal: 1.83s\tremaining: 15.1s\n",
            "108:\tlearn: 0.6236238\ttotal: 1.84s\tremaining: 15.1s\n",
            "109:\tlearn: 0.6233178\ttotal: 1.86s\tremaining: 15s\n",
            "110:\tlearn: 0.6230183\ttotal: 1.88s\tremaining: 15s\n",
            "111:\tlearn: 0.6226720\ttotal: 1.9s\tremaining: 15s\n",
            "112:\tlearn: 0.6223933\ttotal: 1.91s\tremaining: 15s\n",
            "113:\tlearn: 0.6220817\ttotal: 1.93s\tremaining: 15s\n",
            "114:\tlearn: 0.6217435\ttotal: 1.94s\tremaining: 14.9s\n",
            "115:\tlearn: 0.6213969\ttotal: 1.96s\tremaining: 14.9s\n",
            "116:\tlearn: 0.6209545\ttotal: 1.97s\tremaining: 14.9s\n",
            "117:\tlearn: 0.6206914\ttotal: 1.99s\tremaining: 14.9s\n",
            "118:\tlearn: 0.6204415\ttotal: 2.01s\tremaining: 14.9s\n",
            "119:\tlearn: 0.6199667\ttotal: 2.03s\tremaining: 14.9s\n",
            "120:\tlearn: 0.6196112\ttotal: 2.05s\tremaining: 14.9s\n",
            "121:\tlearn: 0.6193020\ttotal: 2.07s\tremaining: 14.9s\n",
            "122:\tlearn: 0.6189365\ttotal: 2.08s\tremaining: 14.9s\n",
            "123:\tlearn: 0.6185224\ttotal: 2.1s\tremaining: 14.8s\n",
            "124:\tlearn: 0.6182069\ttotal: 2.11s\tremaining: 14.8s\n",
            "125:\tlearn: 0.6178123\ttotal: 2.13s\tremaining: 14.8s\n",
            "126:\tlearn: 0.6175033\ttotal: 2.14s\tremaining: 14.7s\n",
            "127:\tlearn: 0.6171175\ttotal: 2.16s\tremaining: 14.7s\n",
            "128:\tlearn: 0.6166646\ttotal: 2.17s\tremaining: 14.7s\n",
            "129:\tlearn: 0.6162970\ttotal: 2.18s\tremaining: 14.6s\n",
            "130:\tlearn: 0.6160458\ttotal: 2.2s\tremaining: 14.6s\n",
            "131:\tlearn: 0.6157984\ttotal: 2.21s\tremaining: 14.5s\n",
            "132:\tlearn: 0.6155277\ttotal: 2.23s\tremaining: 14.5s\n",
            "133:\tlearn: 0.6152189\ttotal: 2.24s\tremaining: 14.5s\n",
            "134:\tlearn: 0.6149572\ttotal: 2.25s\tremaining: 14.5s\n",
            "135:\tlearn: 0.6146369\ttotal: 2.27s\tremaining: 14.4s\n",
            "136:\tlearn: 0.6143662\ttotal: 2.28s\tremaining: 14.4s\n",
            "137:\tlearn: 0.6141180\ttotal: 2.3s\tremaining: 14.4s\n",
            "138:\tlearn: 0.6137628\ttotal: 2.31s\tremaining: 14.3s\n",
            "139:\tlearn: 0.6134069\ttotal: 2.33s\tremaining: 14.3s\n",
            "140:\tlearn: 0.6131458\ttotal: 2.34s\tremaining: 14.3s\n",
            "141:\tlearn: 0.6128349\ttotal: 2.36s\tremaining: 14.2s\n",
            "142:\tlearn: 0.6124082\ttotal: 2.37s\tremaining: 14.2s\n",
            "143:\tlearn: 0.6120824\ttotal: 2.39s\tremaining: 14.2s\n",
            "144:\tlearn: 0.6118821\ttotal: 2.4s\tremaining: 14.2s\n",
            "145:\tlearn: 0.6115530\ttotal: 2.42s\tremaining: 14.1s\n",
            "146:\tlearn: 0.6111710\ttotal: 2.43s\tremaining: 14.1s\n",
            "147:\tlearn: 0.6108896\ttotal: 2.44s\tremaining: 14.1s\n",
            "148:\tlearn: 0.6106488\ttotal: 2.47s\tremaining: 14.1s\n",
            "149:\tlearn: 0.6104418\ttotal: 2.52s\tremaining: 14.3s\n",
            "150:\tlearn: 0.6101817\ttotal: 2.54s\tremaining: 14.3s\n",
            "151:\tlearn: 0.6099245\ttotal: 2.59s\tremaining: 14.5s\n",
            "152:\tlearn: 0.6095977\ttotal: 2.63s\tremaining: 14.5s\n",
            "153:\tlearn: 0.6092780\ttotal: 2.65s\tremaining: 14.5s\n",
            "154:\tlearn: 0.6090391\ttotal: 2.66s\tremaining: 14.5s\n",
            "155:\tlearn: 0.6087140\ttotal: 2.69s\tremaining: 14.6s\n",
            "156:\tlearn: 0.6083888\ttotal: 2.73s\tremaining: 14.6s\n",
            "157:\tlearn: 0.6082005\ttotal: 2.74s\tremaining: 14.6s\n",
            "158:\tlearn: 0.6078941\ttotal: 2.75s\tremaining: 14.6s\n",
            "159:\tlearn: 0.6076097\ttotal: 2.77s\tremaining: 14.5s\n",
            "160:\tlearn: 0.6073581\ttotal: 2.78s\tremaining: 14.5s\n",
            "161:\tlearn: 0.6071363\ttotal: 2.8s\tremaining: 14.5s\n",
            "162:\tlearn: 0.6068211\ttotal: 2.81s\tremaining: 14.4s\n",
            "163:\tlearn: 0.6064572\ttotal: 2.82s\tremaining: 14.4s\n",
            "164:\tlearn: 0.6062734\ttotal: 2.84s\tremaining: 14.4s\n",
            "165:\tlearn: 0.6060208\ttotal: 2.85s\tremaining: 14.3s\n",
            "166:\tlearn: 0.6057556\ttotal: 2.87s\tremaining: 14.3s\n",
            "167:\tlearn: 0.6055656\ttotal: 2.89s\tremaining: 14.3s\n",
            "168:\tlearn: 0.6052515\ttotal: 2.9s\tremaining: 14.3s\n",
            "169:\tlearn: 0.6049775\ttotal: 2.92s\tremaining: 14.3s\n",
            "170:\tlearn: 0.6048121\ttotal: 2.94s\tremaining: 14.2s\n",
            "171:\tlearn: 0.6046443\ttotal: 2.95s\tremaining: 14.2s\n",
            "172:\tlearn: 0.6044226\ttotal: 2.96s\tremaining: 14.2s\n",
            "173:\tlearn: 0.6041342\ttotal: 2.98s\tremaining: 14.1s\n",
            "174:\tlearn: 0.6039672\ttotal: 2.99s\tremaining: 14.1s\n",
            "175:\tlearn: 0.6036249\ttotal: 3.01s\tremaining: 14.1s\n",
            "176:\tlearn: 0.6034543\ttotal: 3.02s\tremaining: 14.1s\n",
            "177:\tlearn: 0.6032264\ttotal: 3.04s\tremaining: 14s\n",
            "178:\tlearn: 0.6030311\ttotal: 3.05s\tremaining: 14s\n",
            "179:\tlearn: 0.6026633\ttotal: 3.06s\tremaining: 14s\n",
            "180:\tlearn: 0.6023917\ttotal: 3.08s\tremaining: 13.9s\n",
            "181:\tlearn: 0.6021182\ttotal: 3.1s\tremaining: 13.9s\n",
            "182:\tlearn: 0.6018456\ttotal: 3.11s\tremaining: 13.9s\n",
            "183:\tlearn: 0.6016375\ttotal: 3.13s\tremaining: 13.9s\n",
            "184:\tlearn: 0.6014133\ttotal: 3.14s\tremaining: 13.9s\n",
            "185:\tlearn: 0.6011530\ttotal: 3.16s\tremaining: 13.8s\n",
            "186:\tlearn: 0.6008625\ttotal: 3.17s\tremaining: 13.8s\n",
            "187:\tlearn: 0.6005549\ttotal: 3.19s\tremaining: 13.8s\n",
            "188:\tlearn: 0.6003766\ttotal: 3.2s\tremaining: 13.7s\n",
            "189:\tlearn: 0.6001384\ttotal: 3.21s\tremaining: 13.7s\n",
            "190:\tlearn: 0.5998495\ttotal: 3.23s\tremaining: 13.7s\n",
            "191:\tlearn: 0.5995924\ttotal: 3.24s\tremaining: 13.6s\n",
            "192:\tlearn: 0.5993341\ttotal: 3.25s\tremaining: 13.6s\n",
            "193:\tlearn: 0.5991553\ttotal: 3.27s\tremaining: 13.6s\n",
            "194:\tlearn: 0.5987912\ttotal: 3.28s\tremaining: 13.6s\n",
            "195:\tlearn: 0.5986309\ttotal: 3.3s\tremaining: 13.5s\n",
            "196:\tlearn: 0.5983096\ttotal: 3.31s\tremaining: 13.5s\n",
            "197:\tlearn: 0.5979822\ttotal: 3.33s\tremaining: 13.5s\n",
            "198:\tlearn: 0.5977712\ttotal: 3.34s\tremaining: 13.5s\n",
            "199:\tlearn: 0.5975410\ttotal: 3.36s\tremaining: 13.4s\n",
            "200:\tlearn: 0.5972543\ttotal: 3.38s\tremaining: 13.4s\n",
            "201:\tlearn: 0.5969386\ttotal: 3.39s\tremaining: 13.4s\n",
            "202:\tlearn: 0.5966732\ttotal: 3.4s\tremaining: 13.4s\n",
            "203:\tlearn: 0.5964892\ttotal: 3.42s\tremaining: 13.3s\n",
            "204:\tlearn: 0.5962884\ttotal: 3.43s\tremaining: 13.3s\n",
            "205:\tlearn: 0.5961180\ttotal: 3.45s\tremaining: 13.3s\n",
            "206:\tlearn: 0.5958120\ttotal: 3.46s\tremaining: 13.3s\n",
            "207:\tlearn: 0.5956467\ttotal: 3.48s\tremaining: 13.2s\n",
            "208:\tlearn: 0.5954628\ttotal: 3.49s\tremaining: 13.2s\n",
            "209:\tlearn: 0.5951617\ttotal: 3.5s\tremaining: 13.2s\n",
            "210:\tlearn: 0.5948814\ttotal: 3.52s\tremaining: 13.2s\n",
            "211:\tlearn: 0.5947211\ttotal: 3.54s\tremaining: 13.2s\n",
            "212:\tlearn: 0.5946151\ttotal: 3.55s\tremaining: 13.1s\n",
            "213:\tlearn: 0.5943369\ttotal: 3.57s\tremaining: 13.1s\n",
            "214:\tlearn: 0.5941150\ttotal: 3.58s\tremaining: 13.1s\n",
            "215:\tlearn: 0.5939434\ttotal: 3.6s\tremaining: 13.1s\n",
            "216:\tlearn: 0.5937208\ttotal: 3.61s\tremaining: 13s\n",
            "217:\tlearn: 0.5935102\ttotal: 3.63s\tremaining: 13s\n",
            "218:\tlearn: 0.5932935\ttotal: 3.64s\tremaining: 13s\n",
            "219:\tlearn: 0.5930792\ttotal: 3.66s\tremaining: 13s\n",
            "220:\tlearn: 0.5928889\ttotal: 3.67s\tremaining: 12.9s\n",
            "221:\tlearn: 0.5926919\ttotal: 3.68s\tremaining: 12.9s\n",
            "222:\tlearn: 0.5925029\ttotal: 3.7s\tremaining: 12.9s\n",
            "223:\tlearn: 0.5922782\ttotal: 3.71s\tremaining: 12.9s\n",
            "224:\tlearn: 0.5920959\ttotal: 3.73s\tremaining: 12.8s\n",
            "225:\tlearn: 0.5918466\ttotal: 3.74s\tremaining: 12.8s\n",
            "226:\tlearn: 0.5916734\ttotal: 3.75s\tremaining: 12.8s\n",
            "227:\tlearn: 0.5914368\ttotal: 3.77s\tremaining: 12.8s\n",
            "228:\tlearn: 0.5912318\ttotal: 3.79s\tremaining: 12.8s\n",
            "229:\tlearn: 0.5909903\ttotal: 3.82s\tremaining: 12.8s\n",
            "230:\tlearn: 0.5907264\ttotal: 3.85s\tremaining: 12.8s\n",
            "231:\tlearn: 0.5904502\ttotal: 3.88s\tremaining: 12.9s\n",
            "232:\tlearn: 0.5902969\ttotal: 3.92s\tremaining: 12.9s\n",
            "233:\tlearn: 0.5901185\ttotal: 3.95s\tremaining: 12.9s\n",
            "234:\tlearn: 0.5897520\ttotal: 3.99s\tremaining: 13s\n",
            "235:\tlearn: 0.5895428\ttotal: 4.03s\tremaining: 13.1s\n",
            "236:\tlearn: 0.5892817\ttotal: 4.07s\tremaining: 13.1s\n",
            "237:\tlearn: 0.5891063\ttotal: 4.1s\tremaining: 13.1s\n",
            "238:\tlearn: 0.5888247\ttotal: 4.13s\tremaining: 13.2s\n",
            "239:\tlearn: 0.5886139\ttotal: 4.16s\tremaining: 13.2s\n",
            "240:\tlearn: 0.5883938\ttotal: 4.2s\tremaining: 13.2s\n",
            "241:\tlearn: 0.5881890\ttotal: 4.23s\tremaining: 13.3s\n",
            "242:\tlearn: 0.5879995\ttotal: 4.26s\tremaining: 13.3s\n",
            "243:\tlearn: 0.5877111\ttotal: 4.29s\tremaining: 13.3s\n",
            "244:\tlearn: 0.5875412\ttotal: 4.31s\tremaining: 13.3s\n",
            "245:\tlearn: 0.5873549\ttotal: 4.33s\tremaining: 13.3s\n",
            "246:\tlearn: 0.5872074\ttotal: 4.35s\tremaining: 13.3s\n",
            "247:\tlearn: 0.5870552\ttotal: 4.4s\tremaining: 13.4s\n",
            "248:\tlearn: 0.5868595\ttotal: 4.45s\tremaining: 13.4s\n",
            "249:\tlearn: 0.5866551\ttotal: 4.49s\tremaining: 13.5s\n",
            "250:\tlearn: 0.5865123\ttotal: 4.52s\tremaining: 13.5s\n",
            "251:\tlearn: 0.5862448\ttotal: 4.55s\tremaining: 13.5s\n",
            "252:\tlearn: 0.5860674\ttotal: 4.58s\tremaining: 13.5s\n",
            "253:\tlearn: 0.5859084\ttotal: 4.61s\tremaining: 13.5s\n",
            "254:\tlearn: 0.5857486\ttotal: 4.65s\tremaining: 13.6s\n",
            "255:\tlearn: 0.5856400\ttotal: 4.69s\tremaining: 13.6s\n",
            "256:\tlearn: 0.5854541\ttotal: 4.72s\tremaining: 13.6s\n",
            "257:\tlearn: 0.5852503\ttotal: 4.75s\tremaining: 13.7s\n",
            "258:\tlearn: 0.5851149\ttotal: 4.78s\tremaining: 13.7s\n",
            "259:\tlearn: 0.5849633\ttotal: 4.82s\tremaining: 13.7s\n",
            "260:\tlearn: 0.5847364\ttotal: 4.85s\tremaining: 13.7s\n",
            "261:\tlearn: 0.5845413\ttotal: 4.88s\tremaining: 13.8s\n",
            "262:\tlearn: 0.5843009\ttotal: 4.91s\tremaining: 13.8s\n",
            "263:\tlearn: 0.5841659\ttotal: 4.93s\tremaining: 13.7s\n",
            "264:\tlearn: 0.5839321\ttotal: 4.95s\tremaining: 13.7s\n",
            "265:\tlearn: 0.5837454\ttotal: 4.97s\tremaining: 13.7s\n",
            "266:\tlearn: 0.5835922\ttotal: 5.01s\tremaining: 13.8s\n",
            "267:\tlearn: 0.5834129\ttotal: 5.06s\tremaining: 13.8s\n",
            "268:\tlearn: 0.5830990\ttotal: 5.12s\tremaining: 13.9s\n",
            "269:\tlearn: 0.5829529\ttotal: 5.17s\tremaining: 14s\n",
            "270:\tlearn: 0.5827554\ttotal: 5.23s\tremaining: 14.1s\n",
            "271:\tlearn: 0.5825539\ttotal: 5.27s\tremaining: 14.1s\n",
            "272:\tlearn: 0.5823132\ttotal: 5.3s\tremaining: 14.1s\n",
            "273:\tlearn: 0.5821448\ttotal: 5.35s\tremaining: 14.2s\n",
            "274:\tlearn: 0.5819449\ttotal: 5.41s\tremaining: 14.3s\n",
            "275:\tlearn: 0.5818020\ttotal: 5.46s\tremaining: 14.3s\n",
            "276:\tlearn: 0.5816254\ttotal: 5.5s\tremaining: 14.4s\n",
            "277:\tlearn: 0.5814270\ttotal: 5.54s\tremaining: 14.4s\n",
            "278:\tlearn: 0.5812820\ttotal: 5.59s\tremaining: 14.5s\n",
            "279:\tlearn: 0.5811454\ttotal: 5.65s\tremaining: 14.5s\n",
            "280:\tlearn: 0.5809684\ttotal: 5.68s\tremaining: 14.5s\n",
            "281:\tlearn: 0.5807613\ttotal: 5.74s\tremaining: 14.6s\n",
            "282:\tlearn: 0.5805876\ttotal: 5.81s\tremaining: 14.7s\n",
            "283:\tlearn: 0.5804756\ttotal: 5.85s\tremaining: 14.7s\n",
            "284:\tlearn: 0.5802678\ttotal: 5.9s\tremaining: 14.8s\n",
            "285:\tlearn: 0.5800172\ttotal: 5.94s\tremaining: 14.8s\n",
            "286:\tlearn: 0.5797765\ttotal: 5.98s\tremaining: 14.8s\n",
            "287:\tlearn: 0.5795707\ttotal: 6.02s\tremaining: 14.9s\n",
            "288:\tlearn: 0.5793687\ttotal: 6.09s\tremaining: 15s\n",
            "289:\tlearn: 0.5792204\ttotal: 6.14s\tremaining: 15s\n",
            "290:\tlearn: 0.5790231\ttotal: 6.19s\tremaining: 15.1s\n",
            "291:\tlearn: 0.5788457\ttotal: 6.24s\tremaining: 15.1s\n",
            "292:\tlearn: 0.5786931\ttotal: 6.29s\tremaining: 15.2s\n",
            "293:\tlearn: 0.5784944\ttotal: 6.36s\tremaining: 15.3s\n",
            "294:\tlearn: 0.5782670\ttotal: 6.43s\tremaining: 15.4s\n",
            "295:\tlearn: 0.5780497\ttotal: 6.48s\tremaining: 15.4s\n",
            "296:\tlearn: 0.5777603\ttotal: 6.52s\tremaining: 15.4s\n",
            "297:\tlearn: 0.5774832\ttotal: 6.56s\tremaining: 15.5s\n",
            "298:\tlearn: 0.5773112\ttotal: 6.61s\tremaining: 15.5s\n",
            "299:\tlearn: 0.5770963\ttotal: 6.67s\tremaining: 15.6s\n",
            "300:\tlearn: 0.5769573\ttotal: 6.71s\tremaining: 15.6s\n",
            "301:\tlearn: 0.5767257\ttotal: 6.75s\tremaining: 15.6s\n",
            "302:\tlearn: 0.5765470\ttotal: 6.79s\tremaining: 15.6s\n",
            "303:\tlearn: 0.5763872\ttotal: 6.83s\tremaining: 15.6s\n",
            "304:\tlearn: 0.5762665\ttotal: 6.88s\tremaining: 15.7s\n",
            "305:\tlearn: 0.5760816\ttotal: 6.93s\tremaining: 15.7s\n",
            "306:\tlearn: 0.5758816\ttotal: 6.97s\tremaining: 15.7s\n",
            "307:\tlearn: 0.5755506\ttotal: 7.02s\tremaining: 15.8s\n",
            "308:\tlearn: 0.5753501\ttotal: 7.1s\tremaining: 15.9s\n",
            "309:\tlearn: 0.5751325\ttotal: 7.13s\tremaining: 15.9s\n",
            "310:\tlearn: 0.5749822\ttotal: 7.15s\tremaining: 15.8s\n",
            "311:\tlearn: 0.5748579\ttotal: 7.17s\tremaining: 15.8s\n",
            "312:\tlearn: 0.5746572\ttotal: 7.19s\tremaining: 15.8s\n",
            "313:\tlearn: 0.5744835\ttotal: 7.21s\tremaining: 15.7s\n",
            "314:\tlearn: 0.5743347\ttotal: 7.24s\tremaining: 15.7s\n",
            "315:\tlearn: 0.5741256\ttotal: 7.27s\tremaining: 15.7s\n",
            "316:\tlearn: 0.5739068\ttotal: 7.31s\tremaining: 15.7s\n",
            "317:\tlearn: 0.5737184\ttotal: 7.34s\tremaining: 15.7s\n",
            "318:\tlearn: 0.5735491\ttotal: 7.36s\tremaining: 15.7s\n",
            "319:\tlearn: 0.5734275\ttotal: 7.4s\tremaining: 15.7s\n",
            "320:\tlearn: 0.5731345\ttotal: 7.43s\tremaining: 15.7s\n",
            "321:\tlearn: 0.5728989\ttotal: 7.47s\tremaining: 15.7s\n",
            "322:\tlearn: 0.5727546\ttotal: 7.51s\tremaining: 15.7s\n",
            "323:\tlearn: 0.5725429\ttotal: 7.55s\tremaining: 15.7s\n",
            "324:\tlearn: 0.5722906\ttotal: 7.58s\tremaining: 15.7s\n",
            "325:\tlearn: 0.5720802\ttotal: 7.6s\tremaining: 15.7s\n",
            "326:\tlearn: 0.5718402\ttotal: 7.61s\tremaining: 15.7s\n",
            "327:\tlearn: 0.5716558\ttotal: 7.64s\tremaining: 15.7s\n",
            "328:\tlearn: 0.5714589\ttotal: 7.66s\tremaining: 15.6s\n",
            "329:\tlearn: 0.5713238\ttotal: 7.67s\tremaining: 15.6s\n",
            "330:\tlearn: 0.5711562\ttotal: 7.72s\tremaining: 15.6s\n",
            "331:\tlearn: 0.5710408\ttotal: 7.75s\tremaining: 15.6s\n",
            "332:\tlearn: 0.5707868\ttotal: 7.78s\tremaining: 15.6s\n",
            "333:\tlearn: 0.5706082\ttotal: 7.8s\tremaining: 15.6s\n",
            "334:\tlearn: 0.5704329\ttotal: 7.85s\tremaining: 15.6s\n",
            "335:\tlearn: 0.5702366\ttotal: 7.88s\tremaining: 15.6s\n",
            "336:\tlearn: 0.5699734\ttotal: 7.9s\tremaining: 15.5s\n",
            "337:\tlearn: 0.5698616\ttotal: 7.92s\tremaining: 15.5s\n",
            "338:\tlearn: 0.5696864\ttotal: 7.94s\tremaining: 15.5s\n",
            "339:\tlearn: 0.5695657\ttotal: 7.96s\tremaining: 15.4s\n",
            "340:\tlearn: 0.5693655\ttotal: 7.99s\tremaining: 15.4s\n",
            "341:\tlearn: 0.5692277\ttotal: 8.01s\tremaining: 15.4s\n",
            "342:\tlearn: 0.5690082\ttotal: 8.04s\tremaining: 15.4s\n",
            "343:\tlearn: 0.5688781\ttotal: 8.07s\tremaining: 15.4s\n",
            "344:\tlearn: 0.5686828\ttotal: 8.09s\tremaining: 15.4s\n",
            "345:\tlearn: 0.5684786\ttotal: 8.11s\tremaining: 15.3s\n",
            "346:\tlearn: 0.5682947\ttotal: 8.12s\tremaining: 15.3s\n",
            "347:\tlearn: 0.5681226\ttotal: 8.14s\tremaining: 15.3s\n",
            "348:\tlearn: 0.5678684\ttotal: 8.16s\tremaining: 15.2s\n",
            "349:\tlearn: 0.5677028\ttotal: 8.18s\tremaining: 15.2s\n",
            "350:\tlearn: 0.5675745\ttotal: 8.2s\tremaining: 15.2s\n",
            "351:\tlearn: 0.5674479\ttotal: 8.22s\tremaining: 15.1s\n",
            "352:\tlearn: 0.5672873\ttotal: 8.29s\tremaining: 15.2s\n",
            "353:\tlearn: 0.5670844\ttotal: 8.34s\tremaining: 15.2s\n",
            "354:\tlearn: 0.5669513\ttotal: 8.38s\tremaining: 15.2s\n",
            "355:\tlearn: 0.5667888\ttotal: 8.43s\tremaining: 15.2s\n",
            "356:\tlearn: 0.5666214\ttotal: 8.46s\tremaining: 15.2s\n",
            "357:\tlearn: 0.5664504\ttotal: 8.48s\tremaining: 15.2s\n",
            "358:\tlearn: 0.5662381\ttotal: 8.56s\tremaining: 15.3s\n",
            "359:\tlearn: 0.5660466\ttotal: 8.61s\tremaining: 15.3s\n",
            "360:\tlearn: 0.5658897\ttotal: 8.66s\tremaining: 15.3s\n",
            "361:\tlearn: 0.5657116\ttotal: 8.68s\tremaining: 15.3s\n",
            "362:\tlearn: 0.5655484\ttotal: 8.72s\tremaining: 15.3s\n",
            "363:\tlearn: 0.5653044\ttotal: 8.76s\tremaining: 15.3s\n",
            "364:\tlearn: 0.5651443\ttotal: 8.8s\tremaining: 15.3s\n",
            "365:\tlearn: 0.5649816\ttotal: 8.83s\tremaining: 15.3s\n",
            "366:\tlearn: 0.5648001\ttotal: 8.85s\tremaining: 15.3s\n",
            "367:\tlearn: 0.5646277\ttotal: 8.9s\tremaining: 15.3s\n",
            "368:\tlearn: 0.5644898\ttotal: 8.95s\tremaining: 15.3s\n",
            "369:\tlearn: 0.5642620\ttotal: 9s\tremaining: 15.3s\n",
            "370:\tlearn: 0.5640634\ttotal: 9.07s\tremaining: 15.4s\n",
            "371:\tlearn: 0.5638684\ttotal: 9.09s\tremaining: 15.3s\n",
            "372:\tlearn: 0.5637648\ttotal: 9.11s\tremaining: 15.3s\n",
            "373:\tlearn: 0.5636106\ttotal: 9.13s\tremaining: 15.3s\n",
            "374:\tlearn: 0.5634602\ttotal: 9.14s\tremaining: 15.2s\n",
            "375:\tlearn: 0.5633548\ttotal: 9.18s\tremaining: 15.2s\n",
            "376:\tlearn: 0.5631712\ttotal: 9.21s\tremaining: 15.2s\n",
            "377:\tlearn: 0.5630536\ttotal: 9.23s\tremaining: 15.2s\n",
            "378:\tlearn: 0.5628498\ttotal: 9.27s\tremaining: 15.2s\n",
            "379:\tlearn: 0.5625902\ttotal: 9.3s\tremaining: 15.2s\n",
            "380:\tlearn: 0.5624135\ttotal: 9.34s\tremaining: 15.2s\n",
            "381:\tlearn: 0.5622546\ttotal: 9.37s\tremaining: 15.2s\n",
            "382:\tlearn: 0.5621085\ttotal: 9.4s\tremaining: 15.1s\n",
            "383:\tlearn: 0.5619699\ttotal: 9.44s\tremaining: 15.1s\n",
            "384:\tlearn: 0.5617718\ttotal: 9.47s\tremaining: 15.1s\n",
            "385:\tlearn: 0.5615476\ttotal: 9.51s\tremaining: 15.1s\n",
            "386:\tlearn: 0.5613941\ttotal: 9.55s\tremaining: 15.1s\n",
            "387:\tlearn: 0.5612212\ttotal: 9.58s\tremaining: 15.1s\n",
            "388:\tlearn: 0.5610872\ttotal: 9.61s\tremaining: 15.1s\n",
            "389:\tlearn: 0.5609031\ttotal: 9.64s\tremaining: 15.1s\n",
            "390:\tlearn: 0.5607019\ttotal: 9.67s\tremaining: 15.1s\n",
            "391:\tlearn: 0.5605221\ttotal: 9.71s\tremaining: 15.1s\n",
            "392:\tlearn: 0.5603528\ttotal: 9.73s\tremaining: 15s\n",
            "393:\tlearn: 0.5601727\ttotal: 9.74s\tremaining: 15s\n",
            "394:\tlearn: 0.5599119\ttotal: 9.76s\tremaining: 14.9s\n",
            "395:\tlearn: 0.5598183\ttotal: 9.78s\tremaining: 14.9s\n",
            "396:\tlearn: 0.5596313\ttotal: 9.79s\tremaining: 14.9s\n",
            "397:\tlearn: 0.5594495\ttotal: 9.81s\tremaining: 14.8s\n",
            "398:\tlearn: 0.5592295\ttotal: 9.83s\tremaining: 14.8s\n",
            "399:\tlearn: 0.5591329\ttotal: 9.85s\tremaining: 14.8s\n",
            "400:\tlearn: 0.5589618\ttotal: 9.87s\tremaining: 14.7s\n",
            "401:\tlearn: 0.5587877\ttotal: 9.9s\tremaining: 14.7s\n",
            "402:\tlearn: 0.5586375\ttotal: 9.93s\tremaining: 14.7s\n",
            "403:\tlearn: 0.5584636\ttotal: 9.98s\tremaining: 14.7s\n",
            "404:\tlearn: 0.5582705\ttotal: 9.99s\tremaining: 14.7s\n",
            "405:\tlearn: 0.5580881\ttotal: 10s\tremaining: 14.6s\n",
            "406:\tlearn: 0.5579225\ttotal: 10s\tremaining: 14.6s\n",
            "407:\tlearn: 0.5577507\ttotal: 10.1s\tremaining: 14.6s\n",
            "408:\tlearn: 0.5575793\ttotal: 10.1s\tremaining: 14.6s\n",
            "409:\tlearn: 0.5574109\ttotal: 10.1s\tremaining: 14.6s\n",
            "410:\tlearn: 0.5572306\ttotal: 10.1s\tremaining: 14.5s\n",
            "411:\tlearn: 0.5570833\ttotal: 10.2s\tremaining: 14.5s\n",
            "412:\tlearn: 0.5569433\ttotal: 10.2s\tremaining: 14.5s\n",
            "413:\tlearn: 0.5567595\ttotal: 10.2s\tremaining: 14.4s\n",
            "414:\tlearn: 0.5566365\ttotal: 10.2s\tremaining: 14.4s\n",
            "415:\tlearn: 0.5563764\ttotal: 10.3s\tremaining: 14.4s\n",
            "416:\tlearn: 0.5561623\ttotal: 10.3s\tremaining: 14.4s\n",
            "417:\tlearn: 0.5560234\ttotal: 10.3s\tremaining: 14.4s\n",
            "418:\tlearn: 0.5558600\ttotal: 10.4s\tremaining: 14.4s\n",
            "419:\tlearn: 0.5557370\ttotal: 10.4s\tremaining: 14.4s\n",
            "420:\tlearn: 0.5555906\ttotal: 10.4s\tremaining: 14.3s\n",
            "421:\tlearn: 0.5554059\ttotal: 10.5s\tremaining: 14.3s\n",
            "422:\tlearn: 0.5552468\ttotal: 10.5s\tremaining: 14.3s\n",
            "423:\tlearn: 0.5550241\ttotal: 10.5s\tremaining: 14.3s\n",
            "424:\tlearn: 0.5548829\ttotal: 10.6s\tremaining: 14.3s\n",
            "425:\tlearn: 0.5546391\ttotal: 10.6s\tremaining: 14.3s\n",
            "426:\tlearn: 0.5545038\ttotal: 10.6s\tremaining: 14.3s\n",
            "427:\tlearn: 0.5543663\ttotal: 10.7s\tremaining: 14.3s\n",
            "428:\tlearn: 0.5541465\ttotal: 10.7s\tremaining: 14.3s\n",
            "429:\tlearn: 0.5539903\ttotal: 10.7s\tremaining: 14.2s\n",
            "430:\tlearn: 0.5538457\ttotal: 10.8s\tremaining: 14.2s\n",
            "431:\tlearn: 0.5537100\ttotal: 10.8s\tremaining: 14.2s\n",
            "432:\tlearn: 0.5534583\ttotal: 10.9s\tremaining: 14.2s\n",
            "433:\tlearn: 0.5532388\ttotal: 10.9s\tremaining: 14.2s\n",
            "434:\tlearn: 0.5530616\ttotal: 11s\tremaining: 14.2s\n",
            "435:\tlearn: 0.5528991\ttotal: 11s\tremaining: 14.2s\n",
            "436:\tlearn: 0.5527360\ttotal: 11s\tremaining: 14.2s\n",
            "437:\tlearn: 0.5526207\ttotal: 11.1s\tremaining: 14.2s\n",
            "438:\tlearn: 0.5524663\ttotal: 11.1s\tremaining: 14.2s\n",
            "439:\tlearn: 0.5523044\ttotal: 11.1s\tremaining: 14.2s\n",
            "440:\tlearn: 0.5520987\ttotal: 11.2s\tremaining: 14.2s\n",
            "441:\tlearn: 0.5518816\ttotal: 11.2s\tremaining: 14.1s\n",
            "442:\tlearn: 0.5516968\ttotal: 11.2s\tremaining: 14.1s\n",
            "443:\tlearn: 0.5515370\ttotal: 11.3s\tremaining: 14.1s\n",
            "444:\tlearn: 0.5513581\ttotal: 11.3s\tremaining: 14.1s\n",
            "445:\tlearn: 0.5511454\ttotal: 11.4s\tremaining: 14.1s\n",
            "446:\tlearn: 0.5509635\ttotal: 11.4s\tremaining: 14.1s\n",
            "447:\tlearn: 0.5507466\ttotal: 11.4s\tremaining: 14.1s\n",
            "448:\tlearn: 0.5505608\ttotal: 11.5s\tremaining: 14.1s\n",
            "449:\tlearn: 0.5503130\ttotal: 11.5s\tremaining: 14s\n",
            "450:\tlearn: 0.5501029\ttotal: 11.5s\tremaining: 14s\n",
            "451:\tlearn: 0.5498834\ttotal: 11.5s\tremaining: 14s\n",
            "452:\tlearn: 0.5496948\ttotal: 11.5s\tremaining: 13.9s\n",
            "453:\tlearn: 0.5495241\ttotal: 11.6s\tremaining: 13.9s\n",
            "454:\tlearn: 0.5493472\ttotal: 11.6s\tremaining: 13.9s\n",
            "455:\tlearn: 0.5491912\ttotal: 11.6s\tremaining: 13.8s\n",
            "456:\tlearn: 0.5490137\ttotal: 11.6s\tremaining: 13.8s\n",
            "457:\tlearn: 0.5487967\ttotal: 11.7s\tremaining: 13.8s\n",
            "458:\tlearn: 0.5485844\ttotal: 11.7s\tremaining: 13.8s\n",
            "459:\tlearn: 0.5484381\ttotal: 11.7s\tremaining: 13.7s\n",
            "460:\tlearn: 0.5483120\ttotal: 11.7s\tremaining: 13.7s\n",
            "461:\tlearn: 0.5480442\ttotal: 11.8s\tremaining: 13.7s\n",
            "462:\tlearn: 0.5478230\ttotal: 11.8s\tremaining: 13.7s\n",
            "463:\tlearn: 0.5476238\ttotal: 11.8s\tremaining: 13.7s\n",
            "464:\tlearn: 0.5474828\ttotal: 11.9s\tremaining: 13.6s\n",
            "465:\tlearn: 0.5473287\ttotal: 11.9s\tremaining: 13.7s\n",
            "466:\tlearn: 0.5471254\ttotal: 12s\tremaining: 13.6s\n",
            "467:\tlearn: 0.5469039\ttotal: 12s\tremaining: 13.7s\n",
            "468:\tlearn: 0.5467305\ttotal: 12.1s\tremaining: 13.7s\n",
            "469:\tlearn: 0.5465023\ttotal: 12.1s\tremaining: 13.6s\n",
            "470:\tlearn: 0.5463194\ttotal: 12.1s\tremaining: 13.6s\n",
            "471:\tlearn: 0.5461357\ttotal: 12.2s\tremaining: 13.6s\n",
            "472:\tlearn: 0.5459740\ttotal: 12.2s\tremaining: 13.6s\n",
            "473:\tlearn: 0.5458144\ttotal: 12.3s\tremaining: 13.6s\n",
            "474:\tlearn: 0.5456543\ttotal: 12.3s\tremaining: 13.6s\n",
            "475:\tlearn: 0.5453813\ttotal: 12.3s\tremaining: 13.6s\n",
            "476:\tlearn: 0.5452015\ttotal: 12.4s\tremaining: 13.6s\n",
            "477:\tlearn: 0.5450311\ttotal: 12.4s\tremaining: 13.5s\n",
            "478:\tlearn: 0.5447900\ttotal: 12.4s\tremaining: 13.5s\n",
            "479:\tlearn: 0.5446185\ttotal: 12.4s\tremaining: 13.4s\n",
            "480:\tlearn: 0.5444177\ttotal: 12.4s\tremaining: 13.4s\n",
            "481:\tlearn: 0.5442233\ttotal: 12.5s\tremaining: 13.4s\n",
            "482:\tlearn: 0.5439760\ttotal: 12.5s\tremaining: 13.4s\n",
            "483:\tlearn: 0.5438226\ttotal: 12.6s\tremaining: 13.4s\n",
            "484:\tlearn: 0.5436172\ttotal: 12.6s\tremaining: 13.4s\n",
            "485:\tlearn: 0.5434015\ttotal: 12.6s\tremaining: 13.3s\n",
            "486:\tlearn: 0.5432437\ttotal: 12.7s\tremaining: 13.3s\n",
            "487:\tlearn: 0.5430878\ttotal: 12.7s\tremaining: 13.3s\n",
            "488:\tlearn: 0.5428886\ttotal: 12.7s\tremaining: 13.3s\n",
            "489:\tlearn: 0.5426890\ttotal: 12.8s\tremaining: 13.3s\n",
            "490:\tlearn: 0.5424457\ttotal: 12.8s\tremaining: 13.3s\n",
            "491:\tlearn: 0.5422926\ttotal: 12.8s\tremaining: 13.2s\n",
            "492:\tlearn: 0.5421176\ttotal: 12.8s\tremaining: 13.2s\n",
            "493:\tlearn: 0.5418717\ttotal: 12.8s\tremaining: 13.2s\n",
            "494:\tlearn: 0.5416505\ttotal: 12.9s\tremaining: 13.1s\n",
            "495:\tlearn: 0.5414941\ttotal: 12.9s\tremaining: 13.1s\n",
            "496:\tlearn: 0.5413401\ttotal: 12.9s\tremaining: 13.1s\n",
            "497:\tlearn: 0.5410650\ttotal: 12.9s\tremaining: 13s\n",
            "498:\tlearn: 0.5408650\ttotal: 13s\tremaining: 13s\n",
            "499:\tlearn: 0.5406613\ttotal: 13s\tremaining: 13s\n",
            "500:\tlearn: 0.5404055\ttotal: 13s\tremaining: 13s\n",
            "501:\tlearn: 0.5402219\ttotal: 13.1s\tremaining: 13s\n",
            "502:\tlearn: 0.5400572\ttotal: 13.1s\tremaining: 12.9s\n",
            "503:\tlearn: 0.5397977\ttotal: 13.1s\tremaining: 12.9s\n",
            "504:\tlearn: 0.5396276\ttotal: 13.1s\tremaining: 12.9s\n",
            "505:\tlearn: 0.5394812\ttotal: 13.2s\tremaining: 12.9s\n",
            "506:\tlearn: 0.5393056\ttotal: 13.2s\tremaining: 12.9s\n",
            "507:\tlearn: 0.5391378\ttotal: 13.3s\tremaining: 12.8s\n",
            "508:\tlearn: 0.5389283\ttotal: 13.3s\tremaining: 12.8s\n",
            "509:\tlearn: 0.5387413\ttotal: 13.3s\tremaining: 12.8s\n",
            "510:\tlearn: 0.5385799\ttotal: 13.3s\tremaining: 12.8s\n",
            "511:\tlearn: 0.5383973\ttotal: 13.4s\tremaining: 12.8s\n",
            "512:\tlearn: 0.5382399\ttotal: 13.4s\tremaining: 12.7s\n",
            "513:\tlearn: 0.5380479\ttotal: 13.4s\tremaining: 12.7s\n",
            "514:\tlearn: 0.5378507\ttotal: 13.5s\tremaining: 12.7s\n",
            "515:\tlearn: 0.5376794\ttotal: 13.5s\tremaining: 12.7s\n",
            "516:\tlearn: 0.5375360\ttotal: 13.5s\tremaining: 12.6s\n",
            "517:\tlearn: 0.5373797\ttotal: 13.6s\tremaining: 12.6s\n",
            "518:\tlearn: 0.5371905\ttotal: 13.6s\tremaining: 12.6s\n",
            "519:\tlearn: 0.5369995\ttotal: 13.6s\tremaining: 12.6s\n",
            "520:\tlearn: 0.5368358\ttotal: 13.7s\tremaining: 12.6s\n",
            "521:\tlearn: 0.5366353\ttotal: 13.7s\tremaining: 12.6s\n",
            "522:\tlearn: 0.5364874\ttotal: 13.7s\tremaining: 12.5s\n",
            "523:\tlearn: 0.5363113\ttotal: 13.8s\tremaining: 12.5s\n",
            "524:\tlearn: 0.5361484\ttotal: 13.8s\tremaining: 12.5s\n",
            "525:\tlearn: 0.5359466\ttotal: 13.8s\tremaining: 12.5s\n",
            "526:\tlearn: 0.5357951\ttotal: 13.9s\tremaining: 12.4s\n",
            "527:\tlearn: 0.5356358\ttotal: 13.9s\tremaining: 12.4s\n",
            "528:\tlearn: 0.5354499\ttotal: 13.9s\tremaining: 12.4s\n",
            "529:\tlearn: 0.5352666\ttotal: 14s\tremaining: 12.4s\n",
            "530:\tlearn: 0.5349794\ttotal: 14s\tremaining: 12.4s\n",
            "531:\tlearn: 0.5347983\ttotal: 14s\tremaining: 12.4s\n",
            "532:\tlearn: 0.5346069\ttotal: 14.1s\tremaining: 12.3s\n",
            "533:\tlearn: 0.5343779\ttotal: 14.1s\tremaining: 12.3s\n",
            "534:\tlearn: 0.5341946\ttotal: 14.2s\tremaining: 12.3s\n",
            "535:\tlearn: 0.5339976\ttotal: 14.2s\tremaining: 12.3s\n",
            "536:\tlearn: 0.5338576\ttotal: 14.2s\tremaining: 12.3s\n",
            "537:\tlearn: 0.5337116\ttotal: 14.2s\tremaining: 12.2s\n",
            "538:\tlearn: 0.5335301\ttotal: 14.3s\tremaining: 12.2s\n",
            "539:\tlearn: 0.5333278\ttotal: 14.3s\tremaining: 12.2s\n",
            "540:\tlearn: 0.5331030\ttotal: 14.4s\tremaining: 12.2s\n",
            "541:\tlearn: 0.5329509\ttotal: 14.4s\tremaining: 12.2s\n",
            "542:\tlearn: 0.5327941\ttotal: 14.4s\tremaining: 12.1s\n",
            "543:\tlearn: 0.5326622\ttotal: 14.5s\tremaining: 12.1s\n",
            "544:\tlearn: 0.5324614\ttotal: 14.5s\tremaining: 12.1s\n",
            "545:\tlearn: 0.5321989\ttotal: 14.5s\tremaining: 12.1s\n",
            "546:\tlearn: 0.5319781\ttotal: 14.6s\tremaining: 12.1s\n",
            "547:\tlearn: 0.5318207\ttotal: 14.6s\tremaining: 12s\n",
            "548:\tlearn: 0.5315760\ttotal: 14.6s\tremaining: 12s\n",
            "549:\tlearn: 0.5314163\ttotal: 14.7s\tremaining: 12s\n",
            "550:\tlearn: 0.5311546\ttotal: 14.7s\tremaining: 12s\n",
            "551:\tlearn: 0.5309502\ttotal: 14.8s\tremaining: 12s\n",
            "552:\tlearn: 0.5307478\ttotal: 14.8s\tremaining: 12s\n",
            "553:\tlearn: 0.5305682\ttotal: 14.8s\tremaining: 11.9s\n",
            "554:\tlearn: 0.5303975\ttotal: 14.9s\tremaining: 11.9s\n",
            "555:\tlearn: 0.5302048\ttotal: 14.9s\tremaining: 11.9s\n",
            "556:\tlearn: 0.5299806\ttotal: 14.9s\tremaining: 11.9s\n",
            "557:\tlearn: 0.5297485\ttotal: 15s\tremaining: 11.9s\n",
            "558:\tlearn: 0.5294868\ttotal: 15s\tremaining: 11.8s\n",
            "559:\tlearn: 0.5292344\ttotal: 15s\tremaining: 11.8s\n",
            "560:\tlearn: 0.5290601\ttotal: 15.1s\tremaining: 11.8s\n",
            "561:\tlearn: 0.5288244\ttotal: 15.1s\tremaining: 11.8s\n",
            "562:\tlearn: 0.5286455\ttotal: 15.2s\tremaining: 11.8s\n",
            "563:\tlearn: 0.5284562\ttotal: 15.2s\tremaining: 11.7s\n",
            "564:\tlearn: 0.5282535\ttotal: 15.2s\tremaining: 11.7s\n",
            "565:\tlearn: 0.5280480\ttotal: 15.3s\tremaining: 11.7s\n",
            "566:\tlearn: 0.5278698\ttotal: 15.3s\tremaining: 11.7s\n",
            "567:\tlearn: 0.5276666\ttotal: 15.3s\tremaining: 11.7s\n",
            "568:\tlearn: 0.5275066\ttotal: 15.4s\tremaining: 11.7s\n",
            "569:\tlearn: 0.5273562\ttotal: 15.4s\tremaining: 11.6s\n",
            "570:\tlearn: 0.5271869\ttotal: 15.5s\tremaining: 11.6s\n",
            "571:\tlearn: 0.5269443\ttotal: 15.5s\tremaining: 11.6s\n",
            "572:\tlearn: 0.5267604\ttotal: 15.6s\tremaining: 11.6s\n",
            "573:\tlearn: 0.5265246\ttotal: 15.6s\tremaining: 11.6s\n",
            "574:\tlearn: 0.5263410\ttotal: 15.6s\tremaining: 11.6s\n",
            "575:\tlearn: 0.5261079\ttotal: 15.7s\tremaining: 11.5s\n",
            "576:\tlearn: 0.5259148\ttotal: 15.7s\tremaining: 11.5s\n",
            "577:\tlearn: 0.5256604\ttotal: 15.7s\tremaining: 11.5s\n",
            "578:\tlearn: 0.5254172\ttotal: 15.8s\tremaining: 11.5s\n",
            "579:\tlearn: 0.5251868\ttotal: 15.9s\tremaining: 11.5s\n",
            "580:\tlearn: 0.5250101\ttotal: 15.9s\tremaining: 11.5s\n",
            "581:\tlearn: 0.5247520\ttotal: 16s\tremaining: 11.5s\n",
            "582:\tlearn: 0.5245838\ttotal: 16.1s\tremaining: 11.5s\n",
            "583:\tlearn: 0.5244470\ttotal: 16.1s\tremaining: 11.5s\n",
            "584:\tlearn: 0.5241982\ttotal: 16.1s\tremaining: 11.4s\n",
            "585:\tlearn: 0.5239739\ttotal: 16.1s\tremaining: 11.4s\n",
            "586:\tlearn: 0.5236643\ttotal: 16.2s\tremaining: 11.4s\n",
            "587:\tlearn: 0.5235289\ttotal: 16.2s\tremaining: 11.3s\n",
            "588:\tlearn: 0.5233226\ttotal: 16.2s\tremaining: 11.3s\n",
            "589:\tlearn: 0.5231346\ttotal: 16.3s\tremaining: 11.3s\n",
            "590:\tlearn: 0.5229119\ttotal: 16.3s\tremaining: 11.3s\n",
            "591:\tlearn: 0.5227285\ttotal: 16.3s\tremaining: 11.2s\n",
            "592:\tlearn: 0.5225117\ttotal: 16.4s\tremaining: 11.2s\n",
            "593:\tlearn: 0.5223493\ttotal: 16.4s\tremaining: 11.2s\n",
            "594:\tlearn: 0.5222179\ttotal: 16.5s\tremaining: 11.2s\n",
            "595:\tlearn: 0.5220247\ttotal: 16.5s\tremaining: 11.2s\n",
            "596:\tlearn: 0.5218547\ttotal: 16.5s\tremaining: 11.1s\n",
            "597:\tlearn: 0.5216295\ttotal: 16.5s\tremaining: 11.1s\n",
            "598:\tlearn: 0.5214438\ttotal: 16.6s\tremaining: 11.1s\n",
            "599:\tlearn: 0.5212651\ttotal: 16.6s\tremaining: 11.1s\n",
            "600:\tlearn: 0.5210402\ttotal: 16.6s\tremaining: 11s\n",
            "601:\tlearn: 0.5207630\ttotal: 16.6s\tremaining: 11s\n",
            "602:\tlearn: 0.5205855\ttotal: 16.7s\tremaining: 11s\n",
            "603:\tlearn: 0.5204306\ttotal: 16.7s\tremaining: 10.9s\n",
            "604:\tlearn: 0.5202180\ttotal: 16.7s\tremaining: 10.9s\n",
            "605:\tlearn: 0.5199867\ttotal: 16.7s\tremaining: 10.9s\n",
            "606:\tlearn: 0.5198148\ttotal: 16.8s\tremaining: 10.8s\n",
            "607:\tlearn: 0.5195819\ttotal: 16.8s\tremaining: 10.8s\n",
            "608:\tlearn: 0.5194001\ttotal: 16.8s\tremaining: 10.8s\n",
            "609:\tlearn: 0.5192052\ttotal: 16.8s\tremaining: 10.8s\n",
            "610:\tlearn: 0.5190001\ttotal: 16.9s\tremaining: 10.7s\n",
            "611:\tlearn: 0.5188691\ttotal: 16.9s\tremaining: 10.7s\n",
            "612:\tlearn: 0.5186538\ttotal: 17s\tremaining: 10.7s\n",
            "613:\tlearn: 0.5184082\ttotal: 17s\tremaining: 10.7s\n",
            "614:\tlearn: 0.5181989\ttotal: 17.1s\tremaining: 10.7s\n",
            "615:\tlearn: 0.5180130\ttotal: 17.1s\tremaining: 10.7s\n",
            "616:\tlearn: 0.5178409\ttotal: 17.2s\tremaining: 10.6s\n",
            "617:\tlearn: 0.5176404\ttotal: 17.2s\tremaining: 10.6s\n",
            "618:\tlearn: 0.5174354\ttotal: 17.2s\tremaining: 10.6s\n",
            "619:\tlearn: 0.5172245\ttotal: 17.3s\tremaining: 10.6s\n",
            "620:\tlearn: 0.5170451\ttotal: 17.3s\tremaining: 10.6s\n",
            "621:\tlearn: 0.5168561\ttotal: 17.3s\tremaining: 10.5s\n",
            "622:\tlearn: 0.5166330\ttotal: 17.4s\tremaining: 10.5s\n",
            "623:\tlearn: 0.5164469\ttotal: 17.4s\tremaining: 10.5s\n",
            "624:\tlearn: 0.5162420\ttotal: 17.4s\tremaining: 10.5s\n",
            "625:\tlearn: 0.5161029\ttotal: 17.5s\tremaining: 10.5s\n",
            "626:\tlearn: 0.5159722\ttotal: 17.6s\tremaining: 10.4s\n",
            "627:\tlearn: 0.5158022\ttotal: 17.6s\tremaining: 10.4s\n",
            "628:\tlearn: 0.5156731\ttotal: 17.7s\tremaining: 10.4s\n",
            "629:\tlearn: 0.5155221\ttotal: 17.7s\tremaining: 10.4s\n",
            "630:\tlearn: 0.5153737\ttotal: 17.8s\tremaining: 10.4s\n",
            "631:\tlearn: 0.5152434\ttotal: 17.8s\tremaining: 10.4s\n",
            "632:\tlearn: 0.5150870\ttotal: 17.9s\tremaining: 10.4s\n",
            "633:\tlearn: 0.5149120\ttotal: 18s\tremaining: 10.4s\n",
            "634:\tlearn: 0.5147152\ttotal: 18s\tremaining: 10.4s\n",
            "635:\tlearn: 0.5145490\ttotal: 18.1s\tremaining: 10.3s\n",
            "636:\tlearn: 0.5143542\ttotal: 18.1s\tremaining: 10.3s\n",
            "637:\tlearn: 0.5142189\ttotal: 18.2s\tremaining: 10.3s\n",
            "638:\tlearn: 0.5140481\ttotal: 18.2s\tremaining: 10.3s\n",
            "639:\tlearn: 0.5139074\ttotal: 18.3s\tremaining: 10.3s\n",
            "640:\tlearn: 0.5137866\ttotal: 18.3s\tremaining: 10.3s\n",
            "641:\tlearn: 0.5136332\ttotal: 18.4s\tremaining: 10.2s\n",
            "642:\tlearn: 0.5134622\ttotal: 18.4s\tremaining: 10.2s\n",
            "643:\tlearn: 0.5132935\ttotal: 18.4s\tremaining: 10.2s\n",
            "644:\tlearn: 0.5131681\ttotal: 18.5s\tremaining: 10.2s\n",
            "645:\tlearn: 0.5130609\ttotal: 18.5s\tremaining: 10.2s\n",
            "646:\tlearn: 0.5128587\ttotal: 18.6s\tremaining: 10.1s\n",
            "647:\tlearn: 0.5126449\ttotal: 18.7s\tremaining: 10.1s\n",
            "648:\tlearn: 0.5125217\ttotal: 18.7s\tremaining: 10.1s\n",
            "649:\tlearn: 0.5123598\ttotal: 18.8s\tremaining: 10.1s\n",
            "650:\tlearn: 0.5121837\ttotal: 18.9s\tremaining: 10.1s\n",
            "651:\tlearn: 0.5120149\ttotal: 19s\tremaining: 10.1s\n",
            "652:\tlearn: 0.5118594\ttotal: 19.1s\tremaining: 10.1s\n",
            "653:\tlearn: 0.5116537\ttotal: 19.1s\tremaining: 10.1s\n",
            "654:\tlearn: 0.5114055\ttotal: 19.2s\tremaining: 10.1s\n",
            "655:\tlearn: 0.5111999\ttotal: 19.2s\tremaining: 10.1s\n",
            "656:\tlearn: 0.5110247\ttotal: 19.3s\tremaining: 10.1s\n",
            "657:\tlearn: 0.5107636\ttotal: 19.3s\tremaining: 10.1s\n",
            "658:\tlearn: 0.5106198\ttotal: 19.4s\tremaining: 10s\n",
            "659:\tlearn: 0.5104620\ttotal: 19.5s\tremaining: 10s\n",
            "660:\tlearn: 0.5102990\ttotal: 19.5s\tremaining: 10s\n",
            "661:\tlearn: 0.5100735\ttotal: 19.6s\tremaining: 9.98s\n",
            "662:\tlearn: 0.5098472\ttotal: 19.6s\tremaining: 9.96s\n",
            "663:\tlearn: 0.5095962\ttotal: 19.7s\tremaining: 9.95s\n",
            "664:\tlearn: 0.5093931\ttotal: 19.7s\tremaining: 9.92s\n",
            "665:\tlearn: 0.5091985\ttotal: 19.8s\tremaining: 9.9s\n",
            "666:\tlearn: 0.5089948\ttotal: 19.8s\tremaining: 9.88s\n",
            "667:\tlearn: 0.5088099\ttotal: 19.8s\tremaining: 9.87s\n",
            "668:\tlearn: 0.5086330\ttotal: 19.9s\tremaining: 9.85s\n",
            "669:\tlearn: 0.5084717\ttotal: 19.9s\tremaining: 9.82s\n",
            "670:\tlearn: 0.5083056\ttotal: 20s\tremaining: 9.81s\n",
            "671:\tlearn: 0.5081625\ttotal: 20.1s\tremaining: 9.79s\n",
            "672:\tlearn: 0.5079705\ttotal: 20.1s\tremaining: 9.77s\n",
            "673:\tlearn: 0.5078228\ttotal: 20.1s\tremaining: 9.75s\n",
            "674:\tlearn: 0.5076206\ttotal: 20.2s\tremaining: 9.72s\n",
            "675:\tlearn: 0.5074205\ttotal: 20.2s\tremaining: 9.69s\n",
            "676:\tlearn: 0.5072241\ttotal: 20.2s\tremaining: 9.66s\n",
            "677:\tlearn: 0.5070311\ttotal: 20.3s\tremaining: 9.63s\n",
            "678:\tlearn: 0.5068498\ttotal: 20.3s\tremaining: 9.6s\n",
            "679:\tlearn: 0.5066646\ttotal: 20.4s\tremaining: 9.58s\n",
            "680:\tlearn: 0.5065339\ttotal: 20.4s\tremaining: 9.55s\n",
            "681:\tlearn: 0.5063262\ttotal: 20.4s\tremaining: 9.53s\n",
            "682:\tlearn: 0.5061399\ttotal: 20.5s\tremaining: 9.5s\n",
            "683:\tlearn: 0.5059751\ttotal: 20.5s\tremaining: 9.48s\n",
            "684:\tlearn: 0.5057852\ttotal: 20.6s\tremaining: 9.46s\n",
            "685:\tlearn: 0.5056582\ttotal: 20.6s\tremaining: 9.43s\n",
            "686:\tlearn: 0.5055063\ttotal: 20.6s\tremaining: 9.4s\n",
            "687:\tlearn: 0.5053548\ttotal: 20.7s\tremaining: 9.37s\n",
            "688:\tlearn: 0.5051277\ttotal: 20.7s\tremaining: 9.34s\n",
            "689:\tlearn: 0.5049539\ttotal: 20.7s\tremaining: 9.3s\n",
            "690:\tlearn: 0.5047833\ttotal: 20.7s\tremaining: 9.27s\n",
            "691:\tlearn: 0.5046408\ttotal: 20.7s\tremaining: 9.23s\n",
            "692:\tlearn: 0.5045086\ttotal: 20.8s\tremaining: 9.2s\n",
            "693:\tlearn: 0.5043478\ttotal: 20.8s\tremaining: 9.16s\n",
            "694:\tlearn: 0.5041076\ttotal: 20.8s\tremaining: 9.13s\n",
            "695:\tlearn: 0.5039412\ttotal: 20.8s\tremaining: 9.09s\n",
            "696:\tlearn: 0.5037984\ttotal: 20.8s\tremaining: 9.06s\n",
            "697:\tlearn: 0.5036324\ttotal: 20.9s\tremaining: 9.02s\n",
            "698:\tlearn: 0.5035010\ttotal: 20.9s\tremaining: 9.01s\n",
            "699:\tlearn: 0.5033832\ttotal: 21s\tremaining: 9s\n",
            "700:\tlearn: 0.5031816\ttotal: 21s\tremaining: 8.97s\n",
            "701:\tlearn: 0.5030376\ttotal: 21.1s\tremaining: 8.95s\n",
            "702:\tlearn: 0.5029200\ttotal: 21.2s\tremaining: 8.94s\n",
            "703:\tlearn: 0.5026838\ttotal: 21.2s\tremaining: 8.92s\n",
            "704:\tlearn: 0.5025099\ttotal: 21.3s\tremaining: 8.9s\n",
            "705:\tlearn: 0.5023392\ttotal: 21.3s\tremaining: 8.88s\n",
            "706:\tlearn: 0.5022095\ttotal: 21.4s\tremaining: 8.85s\n",
            "707:\tlearn: 0.5020115\ttotal: 21.4s\tremaining: 8.83s\n",
            "708:\tlearn: 0.5018296\ttotal: 21.5s\tremaining: 8.8s\n",
            "709:\tlearn: 0.5016695\ttotal: 21.5s\tremaining: 8.77s\n",
            "710:\tlearn: 0.5015291\ttotal: 21.5s\tremaining: 8.75s\n",
            "711:\tlearn: 0.5012955\ttotal: 21.6s\tremaining: 8.73s\n",
            "712:\tlearn: 0.5011280\ttotal: 21.6s\tremaining: 8.7s\n",
            "713:\tlearn: 0.5009673\ttotal: 21.7s\tremaining: 8.67s\n",
            "714:\tlearn: 0.5008131\ttotal: 21.7s\tremaining: 8.64s\n",
            "715:\tlearn: 0.5006502\ttotal: 21.7s\tremaining: 8.61s\n",
            "716:\tlearn: 0.5004358\ttotal: 21.7s\tremaining: 8.58s\n",
            "717:\tlearn: 0.5002923\ttotal: 21.8s\tremaining: 8.55s\n",
            "718:\tlearn: 0.5001387\ttotal: 21.8s\tremaining: 8.53s\n",
            "719:\tlearn: 0.4999948\ttotal: 21.8s\tremaining: 8.49s\n",
            "720:\tlearn: 0.4998906\ttotal: 21.9s\tremaining: 8.46s\n",
            "721:\tlearn: 0.4997078\ttotal: 21.9s\tremaining: 8.43s\n",
            "722:\tlearn: 0.4995021\ttotal: 21.9s\tremaining: 8.4s\n",
            "723:\tlearn: 0.4993396\ttotal: 22s\tremaining: 8.37s\n",
            "724:\tlearn: 0.4991988\ttotal: 22s\tremaining: 8.34s\n",
            "725:\tlearn: 0.4989807\ttotal: 22s\tremaining: 8.31s\n",
            "726:\tlearn: 0.4988462\ttotal: 22.1s\tremaining: 8.28s\n",
            "727:\tlearn: 0.4986425\ttotal: 22.1s\tremaining: 8.26s\n",
            "728:\tlearn: 0.4984815\ttotal: 22.1s\tremaining: 8.23s\n",
            "729:\tlearn: 0.4982726\ttotal: 22.2s\tremaining: 8.22s\n",
            "730:\tlearn: 0.4980779\ttotal: 22.3s\tremaining: 8.19s\n",
            "731:\tlearn: 0.4979759\ttotal: 22.3s\tremaining: 8.16s\n",
            "732:\tlearn: 0.4978238\ttotal: 22.3s\tremaining: 8.14s\n",
            "733:\tlearn: 0.4976527\ttotal: 22.4s\tremaining: 8.11s\n",
            "734:\tlearn: 0.4975381\ttotal: 22.4s\tremaining: 8.08s\n",
            "735:\tlearn: 0.4973846\ttotal: 22.5s\tremaining: 8.05s\n",
            "736:\tlearn: 0.4973034\ttotal: 22.5s\tremaining: 8.02s\n",
            "737:\tlearn: 0.4971863\ttotal: 22.5s\tremaining: 7.98s\n",
            "738:\tlearn: 0.4970331\ttotal: 22.5s\tremaining: 7.96s\n",
            "739:\tlearn: 0.4968885\ttotal: 22.6s\tremaining: 7.92s\n",
            "740:\tlearn: 0.4966294\ttotal: 22.6s\tremaining: 7.9s\n",
            "741:\tlearn: 0.4965207\ttotal: 22.6s\tremaining: 7.86s\n",
            "742:\tlearn: 0.4963608\ttotal: 22.7s\tremaining: 7.84s\n",
            "743:\tlearn: 0.4961743\ttotal: 22.7s\tremaining: 7.8s\n",
            "744:\tlearn: 0.4959815\ttotal: 22.7s\tremaining: 7.77s\n",
            "745:\tlearn: 0.4957883\ttotal: 22.8s\tremaining: 7.75s\n",
            "746:\tlearn: 0.4956241\ttotal: 22.8s\tremaining: 7.73s\n",
            "747:\tlearn: 0.4954253\ttotal: 22.9s\tremaining: 7.72s\n",
            "748:\tlearn: 0.4952483\ttotal: 22.9s\tremaining: 7.69s\n",
            "749:\tlearn: 0.4950911\ttotal: 23s\tremaining: 7.66s\n",
            "750:\tlearn: 0.4949407\ttotal: 23s\tremaining: 7.63s\n",
            "751:\tlearn: 0.4947920\ttotal: 23.1s\tremaining: 7.6s\n",
            "752:\tlearn: 0.4946213\ttotal: 23.1s\tremaining: 7.57s\n",
            "753:\tlearn: 0.4944855\ttotal: 23.1s\tremaining: 7.55s\n",
            "754:\tlearn: 0.4944005\ttotal: 23.2s\tremaining: 7.52s\n",
            "755:\tlearn: 0.4942254\ttotal: 23.2s\tremaining: 7.49s\n",
            "756:\tlearn: 0.4940874\ttotal: 23.2s\tremaining: 7.46s\n",
            "757:\tlearn: 0.4939657\ttotal: 23.3s\tremaining: 7.43s\n",
            "758:\tlearn: 0.4937565\ttotal: 23.3s\tremaining: 7.4s\n",
            "759:\tlearn: 0.4936101\ttotal: 23.4s\tremaining: 7.38s\n",
            "760:\tlearn: 0.4934926\ttotal: 23.4s\tremaining: 7.35s\n",
            "761:\tlearn: 0.4932928\ttotal: 23.4s\tremaining: 7.32s\n",
            "762:\tlearn: 0.4931855\ttotal: 23.5s\tremaining: 7.29s\n",
            "763:\tlearn: 0.4931075\ttotal: 23.5s\tremaining: 7.27s\n",
            "764:\tlearn: 0.4929317\ttotal: 23.6s\tremaining: 7.24s\n",
            "765:\tlearn: 0.4927750\ttotal: 23.6s\tremaining: 7.21s\n",
            "766:\tlearn: 0.4926362\ttotal: 23.6s\tremaining: 7.18s\n",
            "767:\tlearn: 0.4924692\ttotal: 23.6s\tremaining: 7.14s\n",
            "768:\tlearn: 0.4923237\ttotal: 23.7s\tremaining: 7.11s\n",
            "769:\tlearn: 0.4921743\ttotal: 23.7s\tremaining: 7.09s\n",
            "770:\tlearn: 0.4920390\ttotal: 23.8s\tremaining: 7.06s\n",
            "771:\tlearn: 0.4918937\ttotal: 23.8s\tremaining: 7.03s\n",
            "772:\tlearn: 0.4917041\ttotal: 23.8s\tremaining: 7s\n",
            "773:\tlearn: 0.4916183\ttotal: 23.9s\tremaining: 6.97s\n",
            "774:\tlearn: 0.4914079\ttotal: 23.9s\tremaining: 6.94s\n",
            "775:\tlearn: 0.4911934\ttotal: 23.9s\tremaining: 6.91s\n",
            "776:\tlearn: 0.4910238\ttotal: 24s\tremaining: 6.89s\n",
            "777:\tlearn: 0.4908371\ttotal: 24.1s\tremaining: 6.86s\n",
            "778:\tlearn: 0.4906643\ttotal: 24.1s\tremaining: 6.84s\n",
            "779:\tlearn: 0.4904200\ttotal: 24.1s\tremaining: 6.81s\n",
            "780:\tlearn: 0.4902331\ttotal: 24.2s\tremaining: 6.78s\n",
            "781:\tlearn: 0.4901023\ttotal: 24.2s\tremaining: 6.75s\n",
            "782:\tlearn: 0.4899531\ttotal: 24.3s\tremaining: 6.73s\n",
            "783:\tlearn: 0.4898114\ttotal: 24.3s\tremaining: 6.7s\n",
            "784:\tlearn: 0.4896678\ttotal: 24.4s\tremaining: 6.67s\n",
            "785:\tlearn: 0.4895410\ttotal: 24.4s\tremaining: 6.65s\n",
            "786:\tlearn: 0.4893598\ttotal: 24.5s\tremaining: 6.63s\n",
            "787:\tlearn: 0.4892337\ttotal: 24.6s\tremaining: 6.61s\n",
            "788:\tlearn: 0.4891019\ttotal: 24.6s\tremaining: 6.57s\n",
            "789:\tlearn: 0.4889527\ttotal: 24.6s\tremaining: 6.55s\n",
            "790:\tlearn: 0.4888072\ttotal: 24.7s\tremaining: 6.52s\n",
            "791:\tlearn: 0.4886700\ttotal: 24.7s\tremaining: 6.49s\n",
            "792:\tlearn: 0.4885023\ttotal: 24.7s\tremaining: 6.45s\n",
            "793:\tlearn: 0.4883325\ttotal: 24.7s\tremaining: 6.42s\n",
            "794:\tlearn: 0.4881368\ttotal: 24.8s\tremaining: 6.39s\n",
            "795:\tlearn: 0.4879435\ttotal: 24.8s\tremaining: 6.35s\n",
            "796:\tlearn: 0.4878234\ttotal: 24.8s\tremaining: 6.33s\n",
            "797:\tlearn: 0.4876998\ttotal: 24.9s\tremaining: 6.3s\n",
            "798:\tlearn: 0.4875860\ttotal: 24.9s\tremaining: 6.27s\n",
            "799:\tlearn: 0.4874897\ttotal: 24.9s\tremaining: 6.24s\n",
            "800:\tlearn: 0.4872480\ttotal: 25s\tremaining: 6.2s\n",
            "801:\tlearn: 0.4871543\ttotal: 25s\tremaining: 6.17s\n",
            "802:\tlearn: 0.4870080\ttotal: 25s\tremaining: 6.13s\n",
            "803:\tlearn: 0.4868427\ttotal: 25s\tremaining: 6.1s\n",
            "804:\tlearn: 0.4867651\ttotal: 25s\tremaining: 6.07s\n",
            "805:\tlearn: 0.4866386\ttotal: 25.1s\tremaining: 6.04s\n",
            "806:\tlearn: 0.4864946\ttotal: 25.1s\tremaining: 6.01s\n",
            "807:\tlearn: 0.4863660\ttotal: 25.2s\tremaining: 5.98s\n",
            "808:\tlearn: 0.4861794\ttotal: 25.2s\tremaining: 5.95s\n",
            "809:\tlearn: 0.4859734\ttotal: 25.3s\tremaining: 5.92s\n",
            "810:\tlearn: 0.4859039\ttotal: 25.3s\tremaining: 5.89s\n",
            "811:\tlearn: 0.4858029\ttotal: 25.3s\tremaining: 5.87s\n",
            "812:\tlearn: 0.4856476\ttotal: 25.4s\tremaining: 5.84s\n",
            "813:\tlearn: 0.4855300\ttotal: 25.4s\tremaining: 5.81s\n",
            "814:\tlearn: 0.4853650\ttotal: 25.5s\tremaining: 5.79s\n",
            "815:\tlearn: 0.4852178\ttotal: 25.6s\tremaining: 5.76s\n",
            "816:\tlearn: 0.4851071\ttotal: 25.6s\tremaining: 5.73s\n",
            "817:\tlearn: 0.4849434\ttotal: 25.6s\tremaining: 5.7s\n",
            "818:\tlearn: 0.4847437\ttotal: 25.7s\tremaining: 5.67s\n",
            "819:\tlearn: 0.4845840\ttotal: 25.7s\tremaining: 5.64s\n",
            "820:\tlearn: 0.4844375\ttotal: 25.7s\tremaining: 5.61s\n",
            "821:\tlearn: 0.4843346\ttotal: 25.8s\tremaining: 5.58s\n",
            "822:\tlearn: 0.4841793\ttotal: 25.8s\tremaining: 5.55s\n",
            "823:\tlearn: 0.4840652\ttotal: 25.9s\tremaining: 5.53s\n",
            "824:\tlearn: 0.4839481\ttotal: 25.9s\tremaining: 5.49s\n",
            "825:\tlearn: 0.4838001\ttotal: 25.9s\tremaining: 5.46s\n",
            "826:\tlearn: 0.4837278\ttotal: 26s\tremaining: 5.43s\n",
            "827:\tlearn: 0.4835558\ttotal: 26s\tremaining: 5.4s\n",
            "828:\tlearn: 0.4833770\ttotal: 26s\tremaining: 5.37s\n",
            "829:\tlearn: 0.4832253\ttotal: 26.1s\tremaining: 5.34s\n",
            "830:\tlearn: 0.4830933\ttotal: 26.1s\tremaining: 5.31s\n",
            "831:\tlearn: 0.4829922\ttotal: 26.1s\tremaining: 5.28s\n",
            "832:\tlearn: 0.4827825\ttotal: 26.2s\tremaining: 5.25s\n",
            "833:\tlearn: 0.4826696\ttotal: 26.2s\tremaining: 5.21s\n",
            "834:\tlearn: 0.4825570\ttotal: 26.2s\tremaining: 5.18s\n",
            "835:\tlearn: 0.4824170\ttotal: 26.2s\tremaining: 5.15s\n",
            "836:\tlearn: 0.4822511\ttotal: 26.3s\tremaining: 5.12s\n",
            "837:\tlearn: 0.4821740\ttotal: 26.3s\tremaining: 5.08s\n",
            "838:\tlearn: 0.4820620\ttotal: 26.3s\tremaining: 5.05s\n",
            "839:\tlearn: 0.4819489\ttotal: 26.3s\tremaining: 5.02s\n",
            "840:\tlearn: 0.4817763\ttotal: 26.4s\tremaining: 4.98s\n",
            "841:\tlearn: 0.4816311\ttotal: 26.4s\tremaining: 4.95s\n",
            "842:\tlearn: 0.4815080\ttotal: 26.4s\tremaining: 4.92s\n",
            "843:\tlearn: 0.4813711\ttotal: 26.4s\tremaining: 4.88s\n",
            "844:\tlearn: 0.4811861\ttotal: 26.5s\tremaining: 4.85s\n",
            "845:\tlearn: 0.4810470\ttotal: 26.5s\tremaining: 4.82s\n",
            "846:\tlearn: 0.4808545\ttotal: 26.5s\tremaining: 4.79s\n",
            "847:\tlearn: 0.4807443\ttotal: 26.5s\tremaining: 4.76s\n",
            "848:\tlearn: 0.4805981\ttotal: 26.6s\tremaining: 4.73s\n",
            "849:\tlearn: 0.4804601\ttotal: 26.6s\tremaining: 4.69s\n",
            "850:\tlearn: 0.4803417\ttotal: 26.6s\tremaining: 4.66s\n",
            "851:\tlearn: 0.4802235\ttotal: 26.6s\tremaining: 4.63s\n",
            "852:\tlearn: 0.4800921\ttotal: 26.7s\tremaining: 4.59s\n",
            "853:\tlearn: 0.4799359\ttotal: 26.7s\tremaining: 4.57s\n",
            "854:\tlearn: 0.4797973\ttotal: 26.7s\tremaining: 4.54s\n",
            "855:\tlearn: 0.4796224\ttotal: 26.8s\tremaining: 4.5s\n",
            "856:\tlearn: 0.4794697\ttotal: 26.8s\tremaining: 4.47s\n",
            "857:\tlearn: 0.4793680\ttotal: 26.8s\tremaining: 4.44s\n",
            "858:\tlearn: 0.4792090\ttotal: 26.9s\tremaining: 4.41s\n",
            "859:\tlearn: 0.4789687\ttotal: 26.9s\tremaining: 4.38s\n",
            "860:\tlearn: 0.4788340\ttotal: 26.9s\tremaining: 4.35s\n",
            "861:\tlearn: 0.4787225\ttotal: 27s\tremaining: 4.32s\n",
            "862:\tlearn: 0.4785579\ttotal: 27s\tremaining: 4.28s\n",
            "863:\tlearn: 0.4784223\ttotal: 27s\tremaining: 4.25s\n",
            "864:\tlearn: 0.4782501\ttotal: 27s\tremaining: 4.22s\n",
            "865:\tlearn: 0.4781171\ttotal: 27.1s\tremaining: 4.19s\n",
            "866:\tlearn: 0.4778814\ttotal: 27.1s\tremaining: 4.16s\n",
            "867:\tlearn: 0.4777085\ttotal: 27.1s\tremaining: 4.12s\n",
            "868:\tlearn: 0.4775392\ttotal: 27.1s\tremaining: 4.09s\n",
            "869:\tlearn: 0.4774316\ttotal: 27.2s\tremaining: 4.06s\n",
            "870:\tlearn: 0.4772575\ttotal: 27.2s\tremaining: 4.03s\n",
            "871:\tlearn: 0.4771779\ttotal: 27.2s\tremaining: 4s\n",
            "872:\tlearn: 0.4770501\ttotal: 27.3s\tremaining: 3.96s\n",
            "873:\tlearn: 0.4769815\ttotal: 27.3s\tremaining: 3.93s\n",
            "874:\tlearn: 0.4768057\ttotal: 27.3s\tremaining: 3.9s\n",
            "875:\tlearn: 0.4766663\ttotal: 27.4s\tremaining: 3.87s\n",
            "876:\tlearn: 0.4765487\ttotal: 27.4s\tremaining: 3.85s\n",
            "877:\tlearn: 0.4764128\ttotal: 27.4s\tremaining: 3.81s\n",
            "878:\tlearn: 0.4763506\ttotal: 27.5s\tremaining: 3.78s\n",
            "879:\tlearn: 0.4761848\ttotal: 27.5s\tremaining: 3.75s\n",
            "880:\tlearn: 0.4760895\ttotal: 27.6s\tremaining: 3.72s\n",
            "881:\tlearn: 0.4759623\ttotal: 27.6s\tremaining: 3.69s\n",
            "882:\tlearn: 0.4758648\ttotal: 27.6s\tremaining: 3.66s\n",
            "883:\tlearn: 0.4756924\ttotal: 27.7s\tremaining: 3.63s\n",
            "884:\tlearn: 0.4755999\ttotal: 27.7s\tremaining: 3.6s\n",
            "885:\tlearn: 0.4754648\ttotal: 27.7s\tremaining: 3.57s\n",
            "886:\tlearn: 0.4753460\ttotal: 27.8s\tremaining: 3.54s\n",
            "887:\tlearn: 0.4752421\ttotal: 27.8s\tremaining: 3.51s\n",
            "888:\tlearn: 0.4750525\ttotal: 27.9s\tremaining: 3.48s\n",
            "889:\tlearn: 0.4749838\ttotal: 27.9s\tremaining: 3.45s\n",
            "890:\tlearn: 0.4748596\ttotal: 27.9s\tremaining: 3.42s\n",
            "891:\tlearn: 0.4747254\ttotal: 28s\tremaining: 3.38s\n",
            "892:\tlearn: 0.4745730\ttotal: 28s\tremaining: 3.35s\n",
            "893:\tlearn: 0.4744056\ttotal: 28s\tremaining: 3.32s\n",
            "894:\tlearn: 0.4743095\ttotal: 28.1s\tremaining: 3.29s\n",
            "895:\tlearn: 0.4741923\ttotal: 28.1s\tremaining: 3.26s\n",
            "896:\tlearn: 0.4739858\ttotal: 28.1s\tremaining: 3.23s\n",
            "897:\tlearn: 0.4738826\ttotal: 28.2s\tremaining: 3.2s\n",
            "898:\tlearn: 0.4736470\ttotal: 28.2s\tremaining: 3.17s\n",
            "899:\tlearn: 0.4735360\ttotal: 28.3s\tremaining: 3.14s\n",
            "900:\tlearn: 0.4734152\ttotal: 28.3s\tremaining: 3.11s\n",
            "901:\tlearn: 0.4732542\ttotal: 28.4s\tremaining: 3.08s\n",
            "902:\tlearn: 0.4731367\ttotal: 28.4s\tremaining: 3.05s\n",
            "903:\tlearn: 0.4730096\ttotal: 28.5s\tremaining: 3.02s\n",
            "904:\tlearn: 0.4729130\ttotal: 28.5s\tremaining: 2.99s\n",
            "905:\tlearn: 0.4727476\ttotal: 28.6s\tremaining: 2.96s\n",
            "906:\tlearn: 0.4726176\ttotal: 28.6s\tremaining: 2.94s\n",
            "907:\tlearn: 0.4724975\ttotal: 28.7s\tremaining: 2.91s\n",
            "908:\tlearn: 0.4723883\ttotal: 28.7s\tremaining: 2.88s\n",
            "909:\tlearn: 0.4722750\ttotal: 28.8s\tremaining: 2.85s\n",
            "910:\tlearn: 0.4721744\ttotal: 28.8s\tremaining: 2.82s\n",
            "911:\tlearn: 0.4720142\ttotal: 28.9s\tremaining: 2.79s\n",
            "912:\tlearn: 0.4718874\ttotal: 28.9s\tremaining: 2.76s\n",
            "913:\tlearn: 0.4717931\ttotal: 29s\tremaining: 2.73s\n",
            "914:\tlearn: 0.4716960\ttotal: 29s\tremaining: 2.69s\n",
            "915:\tlearn: 0.4715411\ttotal: 29.1s\tremaining: 2.66s\n",
            "916:\tlearn: 0.4714467\ttotal: 29.1s\tremaining: 2.63s\n",
            "917:\tlearn: 0.4712939\ttotal: 29.1s\tremaining: 2.6s\n",
            "918:\tlearn: 0.4711337\ttotal: 29.2s\tremaining: 2.57s\n",
            "919:\tlearn: 0.4710215\ttotal: 29.2s\tremaining: 2.54s\n",
            "920:\tlearn: 0.4708646\ttotal: 29.3s\tremaining: 2.51s\n",
            "921:\tlearn: 0.4707081\ttotal: 29.3s\tremaining: 2.48s\n",
            "922:\tlearn: 0.4705798\ttotal: 29.4s\tremaining: 2.45s\n",
            "923:\tlearn: 0.4704896\ttotal: 29.4s\tremaining: 2.42s\n",
            "924:\tlearn: 0.4703740\ttotal: 29.4s\tremaining: 2.38s\n",
            "925:\tlearn: 0.4701999\ttotal: 29.4s\tremaining: 2.35s\n",
            "926:\tlearn: 0.4700385\ttotal: 29.5s\tremaining: 2.32s\n",
            "927:\tlearn: 0.4698959\ttotal: 29.5s\tremaining: 2.29s\n",
            "928:\tlearn: 0.4697740\ttotal: 29.5s\tremaining: 2.25s\n",
            "929:\tlearn: 0.4696763\ttotal: 29.5s\tremaining: 2.22s\n",
            "930:\tlearn: 0.4695208\ttotal: 29.6s\tremaining: 2.19s\n",
            "931:\tlearn: 0.4694177\ttotal: 29.6s\tremaining: 2.16s\n",
            "932:\tlearn: 0.4693030\ttotal: 29.6s\tremaining: 2.13s\n",
            "933:\tlearn: 0.4692412\ttotal: 29.7s\tremaining: 2.1s\n",
            "934:\tlearn: 0.4691030\ttotal: 29.7s\tremaining: 2.07s\n",
            "935:\tlearn: 0.4689357\ttotal: 29.8s\tremaining: 2.04s\n",
            "936:\tlearn: 0.4688317\ttotal: 29.8s\tremaining: 2s\n",
            "937:\tlearn: 0.4686781\ttotal: 29.9s\tremaining: 1.97s\n",
            "938:\tlearn: 0.4685967\ttotal: 29.9s\tremaining: 1.94s\n",
            "939:\tlearn: 0.4685354\ttotal: 29.9s\tremaining: 1.91s\n",
            "940:\tlearn: 0.4684792\ttotal: 30s\tremaining: 1.88s\n",
            "941:\tlearn: 0.4683331\ttotal: 30s\tremaining: 1.85s\n",
            "942:\tlearn: 0.4681932\ttotal: 30.1s\tremaining: 1.82s\n",
            "943:\tlearn: 0.4680791\ttotal: 30.1s\tremaining: 1.79s\n",
            "944:\tlearn: 0.4679392\ttotal: 30.2s\tremaining: 1.76s\n",
            "945:\tlearn: 0.4677705\ttotal: 30.3s\tremaining: 1.73s\n",
            "946:\tlearn: 0.4677036\ttotal: 30.4s\tremaining: 1.7s\n",
            "947:\tlearn: 0.4675805\ttotal: 30.4s\tremaining: 1.67s\n",
            "948:\tlearn: 0.4674312\ttotal: 30.5s\tremaining: 1.64s\n",
            "949:\tlearn: 0.4672914\ttotal: 30.6s\tremaining: 1.61s\n",
            "950:\tlearn: 0.4671278\ttotal: 30.7s\tremaining: 1.58s\n",
            "951:\tlearn: 0.4669969\ttotal: 30.7s\tremaining: 1.55s\n",
            "952:\tlearn: 0.4668780\ttotal: 30.8s\tremaining: 1.52s\n",
            "953:\tlearn: 0.4668265\ttotal: 30.9s\tremaining: 1.49s\n",
            "954:\tlearn: 0.4667105\ttotal: 30.9s\tremaining: 1.46s\n",
            "955:\tlearn: 0.4665907\ttotal: 31s\tremaining: 1.43s\n",
            "956:\tlearn: 0.4664508\ttotal: 31.1s\tremaining: 1.4s\n",
            "957:\tlearn: 0.4663705\ttotal: 31.2s\tremaining: 1.37s\n",
            "958:\tlearn: 0.4662678\ttotal: 31.3s\tremaining: 1.34s\n",
            "959:\tlearn: 0.4661402\ttotal: 31.4s\tremaining: 1.31s\n",
            "960:\tlearn: 0.4660184\ttotal: 31.5s\tremaining: 1.28s\n",
            "961:\tlearn: 0.4658772\ttotal: 31.6s\tremaining: 1.25s\n",
            "962:\tlearn: 0.4657253\ttotal: 31.6s\tremaining: 1.22s\n",
            "963:\tlearn: 0.4656542\ttotal: 31.7s\tremaining: 1.18s\n",
            "964:\tlearn: 0.4655468\ttotal: 31.8s\tremaining: 1.15s\n",
            "965:\tlearn: 0.4654097\ttotal: 31.9s\tremaining: 1.12s\n",
            "966:\tlearn: 0.4652691\ttotal: 31.9s\tremaining: 1.09s\n",
            "967:\tlearn: 0.4651717\ttotal: 32s\tremaining: 1.06s\n",
            "968:\tlearn: 0.4650930\ttotal: 32s\tremaining: 1.02s\n",
            "969:\tlearn: 0.4649782\ttotal: 32.1s\tremaining: 993ms\n",
            "970:\tlearn: 0.4647435\ttotal: 32.2s\tremaining: 961ms\n",
            "971:\tlearn: 0.4645735\ttotal: 32.3s\tremaining: 930ms\n",
            "972:\tlearn: 0.4644356\ttotal: 32.3s\tremaining: 897ms\n",
            "973:\tlearn: 0.4642697\ttotal: 32.4s\tremaining: 865ms\n",
            "974:\tlearn: 0.4641095\ttotal: 32.5s\tremaining: 832ms\n",
            "975:\tlearn: 0.4639996\ttotal: 32.5s\tremaining: 799ms\n",
            "976:\tlearn: 0.4638939\ttotal: 32.6s\tremaining: 767ms\n",
            "977:\tlearn: 0.4638010\ttotal: 32.6s\tremaining: 734ms\n",
            "978:\tlearn: 0.4636866\ttotal: 32.7s\tremaining: 701ms\n",
            "979:\tlearn: 0.4635629\ttotal: 32.7s\tremaining: 668ms\n",
            "980:\tlearn: 0.4634346\ttotal: 32.8s\tremaining: 635ms\n",
            "981:\tlearn: 0.4632995\ttotal: 32.8s\tremaining: 601ms\n",
            "982:\tlearn: 0.4632060\ttotal: 32.9s\tremaining: 568ms\n",
            "983:\tlearn: 0.4631209\ttotal: 32.9s\tremaining: 535ms\n",
            "984:\tlearn: 0.4629705\ttotal: 32.9s\tremaining: 502ms\n",
            "985:\tlearn: 0.4628440\ttotal: 33s\tremaining: 468ms\n",
            "986:\tlearn: 0.4626720\ttotal: 33s\tremaining: 435ms\n",
            "987:\tlearn: 0.4625422\ttotal: 33.1s\tremaining: 402ms\n",
            "988:\tlearn: 0.4624303\ttotal: 33.1s\tremaining: 368ms\n",
            "989:\tlearn: 0.4623329\ttotal: 33.2s\tremaining: 335ms\n",
            "990:\tlearn: 0.4622353\ttotal: 33.2s\tremaining: 302ms\n",
            "991:\tlearn: 0.4620855\ttotal: 33.3s\tremaining: 268ms\n",
            "992:\tlearn: 0.4619479\ttotal: 33.3s\tremaining: 235ms\n",
            "993:\tlearn: 0.4618181\ttotal: 33.3s\tremaining: 201ms\n",
            "994:\tlearn: 0.4616828\ttotal: 33.3s\tremaining: 168ms\n",
            "995:\tlearn: 0.4615141\ttotal: 33.4s\tremaining: 134ms\n",
            "996:\tlearn: 0.4614223\ttotal: 33.4s\tremaining: 100ms\n",
            "997:\tlearn: 0.4613818\ttotal: 33.4s\tremaining: 67ms\n",
            "998:\tlearn: 0.4612515\ttotal: 33.5s\tremaining: 33.5ms\n",
            "999:\tlearn: 0.4611096\ttotal: 33.5s\tremaining: 0us\n"
          ]
        },
        {
          "output_type": "execute_result",
          "data": {
            "text/plain": [
              "Pipeline(steps=[('tfidfvectorizer', TfidfVectorizer()),\n",
              "                ('catboostclassifier',\n",
              "                 <catboost.core.CatBoostClassifier object at 0x7f05fed875e0>)])"
            ],
            "text/html": [
              "<style>#sk-container-id-7 {color: black;background-color: white;}#sk-container-id-7 pre{padding: 0;}#sk-container-id-7 div.sk-toggleable {background-color: white;}#sk-container-id-7 label.sk-toggleable__label {cursor: pointer;display: block;width: 100%;margin-bottom: 0;padding: 0.3em;box-sizing: border-box;text-align: center;}#sk-container-id-7 label.sk-toggleable__label-arrow:before {content: \"▸\";float: left;margin-right: 0.25em;color: #696969;}#sk-container-id-7 label.sk-toggleable__label-arrow:hover:before {color: black;}#sk-container-id-7 div.sk-estimator:hover label.sk-toggleable__label-arrow:before {color: black;}#sk-container-id-7 div.sk-toggleable__content {max-height: 0;max-width: 0;overflow: hidden;text-align: left;background-color: #f0f8ff;}#sk-container-id-7 div.sk-toggleable__content pre {margin: 0.2em;color: black;border-radius: 0.25em;background-color: #f0f8ff;}#sk-container-id-7 input.sk-toggleable__control:checked~div.sk-toggleable__content {max-height: 200px;max-width: 100%;overflow: auto;}#sk-container-id-7 input.sk-toggleable__control:checked~label.sk-toggleable__label-arrow:before {content: \"▾\";}#sk-container-id-7 div.sk-estimator input.sk-toggleable__control:checked~label.sk-toggleable__label {background-color: #d4ebff;}#sk-container-id-7 div.sk-label input.sk-toggleable__control:checked~label.sk-toggleable__label {background-color: #d4ebff;}#sk-container-id-7 input.sk-hidden--visually {border: 0;clip: rect(1px 1px 1px 1px);clip: rect(1px, 1px, 1px, 1px);height: 1px;margin: -1px;overflow: hidden;padding: 0;position: absolute;width: 1px;}#sk-container-id-7 div.sk-estimator {font-family: monospace;background-color: #f0f8ff;border: 1px dotted black;border-radius: 0.25em;box-sizing: border-box;margin-bottom: 0.5em;}#sk-container-id-7 div.sk-estimator:hover {background-color: #d4ebff;}#sk-container-id-7 div.sk-parallel-item::after {content: \"\";width: 100%;border-bottom: 1px solid gray;flex-grow: 1;}#sk-container-id-7 div.sk-label:hover label.sk-toggleable__label {background-color: #d4ebff;}#sk-container-id-7 div.sk-serial::before {content: \"\";position: absolute;border-left: 1px solid gray;box-sizing: border-box;top: 0;bottom: 0;left: 50%;z-index: 0;}#sk-container-id-7 div.sk-serial {display: flex;flex-direction: column;align-items: center;background-color: white;padding-right: 0.2em;padding-left: 0.2em;position: relative;}#sk-container-id-7 div.sk-item {position: relative;z-index: 1;}#sk-container-id-7 div.sk-parallel {display: flex;align-items: stretch;justify-content: center;background-color: white;position: relative;}#sk-container-id-7 div.sk-item::before, #sk-container-id-7 div.sk-parallel-item::before {content: \"\";position: absolute;border-left: 1px solid gray;box-sizing: border-box;top: 0;bottom: 0;left: 50%;z-index: -1;}#sk-container-id-7 div.sk-parallel-item {display: flex;flex-direction: column;z-index: 1;position: relative;background-color: white;}#sk-container-id-7 div.sk-parallel-item:first-child::after {align-self: flex-end;width: 50%;}#sk-container-id-7 div.sk-parallel-item:last-child::after {align-self: flex-start;width: 50%;}#sk-container-id-7 div.sk-parallel-item:only-child::after {width: 0;}#sk-container-id-7 div.sk-dashed-wrapped {border: 1px dashed gray;margin: 0 0.4em 0.5em 0.4em;box-sizing: border-box;padding-bottom: 0.4em;background-color: white;}#sk-container-id-7 div.sk-label label {font-family: monospace;font-weight: bold;display: inline-block;line-height: 1.2em;}#sk-container-id-7 div.sk-label-container {text-align: center;}#sk-container-id-7 div.sk-container {/* jupyter's `normalize.less` sets `[hidden] { display: none; }` but bootstrap.min.css set `[hidden] { display: none !important; }` so we also need the `!important` here to be able to override the default hidden behavior on the sphinx rendered scikit-learn.org. See: https://github.com/scikit-learn/scikit-learn/issues/21755 */display: inline-block !important;position: relative;}#sk-container-id-7 div.sk-text-repr-fallback {display: none;}</style><div id=\"sk-container-id-7\" class=\"sk-top-container\"><div class=\"sk-text-repr-fallback\"><pre>Pipeline(steps=[(&#x27;tfidfvectorizer&#x27;, TfidfVectorizer()),\n",
              "                (&#x27;catboostclassifier&#x27;,\n",
              "                 &lt;catboost.core.CatBoostClassifier object at 0x7f05fed875e0&gt;)])</pre><b>In a Jupyter environment, please rerun this cell to show the HTML representation or trust the notebook. <br />On GitHub, the HTML representation is unable to render, please try loading this page with nbviewer.org.</b></div><div class=\"sk-container\" hidden><div class=\"sk-item sk-dashed-wrapped\"><div class=\"sk-label-container\"><div class=\"sk-label sk-toggleable\"><input class=\"sk-toggleable__control sk-hidden--visually\" id=\"sk-estimator-id-17\" type=\"checkbox\" ><label for=\"sk-estimator-id-17\" class=\"sk-toggleable__label sk-toggleable__label-arrow\">Pipeline</label><div class=\"sk-toggleable__content\"><pre>Pipeline(steps=[(&#x27;tfidfvectorizer&#x27;, TfidfVectorizer()),\n",
              "                (&#x27;catboostclassifier&#x27;,\n",
              "                 &lt;catboost.core.CatBoostClassifier object at 0x7f05fed875e0&gt;)])</pre></div></div></div><div class=\"sk-serial\"><div class=\"sk-item\"><div class=\"sk-estimator sk-toggleable\"><input class=\"sk-toggleable__control sk-hidden--visually\" id=\"sk-estimator-id-18\" type=\"checkbox\" ><label for=\"sk-estimator-id-18\" class=\"sk-toggleable__label sk-toggleable__label-arrow\">TfidfVectorizer</label><div class=\"sk-toggleable__content\"><pre>TfidfVectorizer()</pre></div></div></div><div class=\"sk-item\"><div class=\"sk-estimator sk-toggleable\"><input class=\"sk-toggleable__control sk-hidden--visually\" id=\"sk-estimator-id-19\" type=\"checkbox\" ><label for=\"sk-estimator-id-19\" class=\"sk-toggleable__label sk-toggleable__label-arrow\">CatBoostClassifier</label><div class=\"sk-toggleable__content\"><pre>&lt;catboost.core.CatBoostClassifier object at 0x7f05fed875e0&gt;</pre></div></div></div></div></div></div></div>"
            ]
          },
          "metadata": {},
          "execution_count": 87
        }
      ]
    },
    {
      "cell_type": "code",
      "source": [
        "labels = model.predict(xtest)"
      ],
      "metadata": {
        "id": "18kBIUWuP6Gx"
      },
      "execution_count": null,
      "outputs": []
    },
    {
      "cell_type": "code",
      "source": [
        "accuracy_score(ytest,labels)"
      ],
      "metadata": {
        "id": "bpRNZzdFQCSh",
        "colab": {
          "base_uri": "https://localhost:8080/"
        },
        "outputId": "3f9223b1-cc21-4705-8620-ba33a5a99ebe"
      },
      "execution_count": null,
      "outputs": [
        {
          "output_type": "execute_result",
          "data": {
            "text/plain": [
              "0.7222222222222222"
            ]
          },
          "metadata": {},
          "execution_count": 89
        }
      ]
    },
    {
      "cell_type": "code",
      "source": [
        "cf = confusion_matrix(ytest,labels)\n",
        "cf"
      ],
      "metadata": {
        "id": "89ilKECfQF7a",
        "colab": {
          "base_uri": "https://localhost:8080/"
        },
        "outputId": "00a96730-2503-4efa-f2f8-0b49ee50ec73"
      },
      "execution_count": null,
      "outputs": [
        {
          "output_type": "execute_result",
          "data": {
            "text/plain": [
              "array([[262, 214],\n",
              "       [ 76, 492]])"
            ]
          },
          "metadata": {},
          "execution_count": 90
        }
      ]
    },
    {
      "cell_type": "code",
      "source": [
        "sns.heatmap(cf,cmap=\"Greens\", annot = True)"
      ],
      "metadata": {
        "id": "zQGr6TxtQKO5",
        "colab": {
          "base_uri": "https://localhost:8080/",
          "height": 451
        },
        "outputId": "61443150-4a66-4a30-fc35-d35019068a7b"
      },
      "execution_count": null,
      "outputs": [
        {
          "output_type": "execute_result",
          "data": {
            "text/plain": [
              "<Axes: >"
            ]
          },
          "metadata": {},
          "execution_count": 91
        },
        {
          "output_type": "display_data",
          "data": {
            "text/plain": [
              "<Figure size 640x480 with 2 Axes>"
            ],
            "image/png": "[encoded data removed]"
          },
          "metadata": {}
        }
      ]
    },
    {
      "cell_type": "code",
      "source": [
        "from sklearn.metrics import classification_report\n",
        "print(classification_report(ytest,labels))"
      ],
      "metadata": {
        "colab": {
          "base_uri": "https://localhost:8080/"
        },
        "id": "vmxCb95KS3xo",
        "outputId": "5091842e-7eda-45ad-f7ac-8c75da4d248f"
      },
      "execution_count": null,
      "outputs": [
        {
          "output_type": "stream",
          "name": "stdout",
          "text": [
            "              precision    recall  f1-score   support\n",
            "\n",
            "           0       0.78      0.55      0.64       476\n",
            "           1       0.70      0.87      0.77       568\n",
            "\n",
            "    accuracy                           0.72      1044\n",
            "   macro avg       0.74      0.71      0.71      1044\n",
            "weighted avg       0.73      0.72      0.71      1044\n",
            "\n"
          ]
        }
      ]
    },
    {
      "cell_type": "code",
      "source": [
        "import matplotlib.pyplot as plt\n",
        "import numpy as np"
      ],
      "metadata": {
        "id": "2v4m19RVeqm1"
      },
      "execution_count": null,
      "outputs": []
    },
    {
      "cell_type": "code",
      "source": [
        "# Example accuracies of different models\n",
        "model_names = ['NB', 'SVM', 'DT']\n",
        "\n",
        "# Create a bar chart\n",
        "x_pos = np.arange(len(model_names))\n",
        "plt.bar(x_pos, accuracies, align='center', alpha=0.5)\n",
        "plt.xticks(x_pos, model_names)\n",
        "plt.ylabel('Accuracy')\n",
        "plt.title('Model Accuracies')\n"
      ],
      "metadata": {
        "colab": {
          "base_uri": "https://localhost:8080/",
          "height": 474
        },
        "id": "gCnSEmdZekcl",
        "outputId": "4a749bca-f463-4c5c-c526-0d6d40743a51"
      },
      "execution_count": null,
      "outputs": [
        {
          "output_type": "execute_result",
          "data": {
            "text/plain": [
              "Text(0.5, 1.0, 'Model Accuracies')"
            ]
          },
          "metadata": {},
          "execution_count": 94
        },
        {
          "output_type": "display_data",
          "data": {
            "text/plain": [
              "<Figure size 640x480 with 1 Axes>"
            ],
            "image/png": "[encoded data removed]"
          },
          "metadata": {}
        }
      ]
    },
    {
      "cell_type": "code",
      "source": [
        "plt.show()"
      ],
      "metadata": {
        "id": "pbWxMiX1el0V"
      },
      "execution_count": null,
      "outputs": []
    }
  ],
  "metadata": {
    "colab": {
      "provenance": [],
      "include_colab_link": true
    },
    "kernelspec": {
      "display_name": "Python 3",
      "name": "python3"
    },
    "language_info": {
      "name": "python"
    }
  },
  "nbformat": 4,
  "nbformat_minor": 0
}